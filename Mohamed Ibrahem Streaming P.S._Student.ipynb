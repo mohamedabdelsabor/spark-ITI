{
 "cells": [
  {
   "cell_type": "code",
   "execution_count": 1,
   "id": "60f97978",
   "metadata": {},
   "outputs": [],
   "source": [
    "import findspark\n",
    "findspark.init()\n",
    "import pyspark"
   ]
  },
  {
   "cell_type": "code",
   "execution_count": 2,
   "id": "201cee8c",
   "metadata": {},
   "outputs": [
    {
     "data": {
      "text/html": [
       "<style>pre { white-space: pre !important; }</style>"
      ],
      "text/plain": [
       "<IPython.core.display.HTML object>"
      ]
     },
     "metadata": {},
     "output_type": "display_data"
    }
   ],
   "source": [
    "from IPython.display import display, HTML\n",
    "display(HTML(\"<style>pre { white-space: pre !important; }</style>\"))"
   ]
  },
  {
   "cell_type": "code",
   "execution_count": 3,
   "id": "9f506be1",
   "metadata": {},
   "outputs": [
    {
     "name": "stderr",
     "output_type": "stream",
     "text": [
      "22/06/19 16:52:12 WARN Utils: Your hostname, medo-HP-ZBook-15-G3 resolves to a loopback address: 127.0.1.1; using 10.175.240.203 instead (on interface wlp2s0)\n",
      "22/06/19 16:52:12 WARN Utils: Set SPARK_LOCAL_IP if you need to bind to another address\n",
      "WARNING: An illegal reflective access operation has occurred\n",
      "WARNING: Illegal reflective access by org.apache.spark.unsafe.Platform (file:/opt/spark/jars/spark-unsafe_2.12-3.2.1.jar) to constructor java.nio.DirectByteBuffer(long,int)\n",
      "WARNING: Please consider reporting this to the maintainers of org.apache.spark.unsafe.Platform\n",
      "WARNING: Use --illegal-access=warn to enable warnings of further illegal reflective access operations\n",
      "WARNING: All illegal access operations will be denied in a future release\n",
      "Using Spark's default log4j profile: org/apache/spark/log4j-defaults.properties\n",
      "Setting default log level to \"WARN\".\n",
      "To adjust logging level use sc.setLogLevel(newLevel). For SparkR, use setLogLevel(newLevel).\n",
      "22/06/19 16:52:13 WARN NativeCodeLoader: Unable to load native-hadoop library for your platform... using builtin-java classes where applicable\n"
     ]
    }
   ],
   "source": [
    "from pyspark.sql import SparkSession\n",
    "spark = SparkSession.builder.appName(\"Streaming\").getOrCreate()"
   ]
  },
  {
   "cell_type": "markdown",
   "id": "efac8040",
   "metadata": {},
   "source": [
    "### Create the schema of the streamed files (check the column names and types from the CSV files)"
   ]
  },
  {
   "cell_type": "code",
   "execution_count": 4,
   "id": "c4674d5d",
   "metadata": {},
   "outputs": [],
   "source": [
    "from pyspark.sql.types import StructType, StructField, StringType, IntegerType , DoubleType, DateType\n",
    "recordSchema = StructType([StructField('ID', IntegerType(), True),\n",
    "                           StructField('Date', DateType(), True),\n",
    "                           StructField('Open', DoubleType(), True),\n",
    "                           StructField('High', DoubleType(), True),\n",
    "                           StructField('Low', DoubleType(), True),\n",
    "                           StructField('Adj', DoubleType(), True),\n",
    "                           StructField('Close', DoubleType(), True),\n",
    "                           StructField('Volume', IntegerType(), True)])"
   ]
  },
  {
   "cell_type": "markdown",
   "id": "4f50fbeb",
   "metadata": {},
   "source": [
    "### Create the dataframe by reading the stream using format \"csv\" and the schema you created."
   ]
  },
  {
   "cell_type": "code",
   "execution_count": 5,
   "id": "d77671b2",
   "metadata": {},
   "outputs": [],
   "source": [
    "df = spark.readStream.format(\"csv\") \\\n",
    "    .schema(recordSchema) \\\n",
    "    .load(\"kospi/\")"
   ]
  },
  {
   "cell_type": "markdown",
   "id": "ce1e0e44",
   "metadata": {},
   "source": [
    "### Make sure the dataframe is streaming the files from the folder"
   ]
  },
  {
   "cell_type": "code",
   "execution_count": 6,
   "id": "0fc0fa13",
   "metadata": {},
   "outputs": [
    {
     "data": {
      "text/plain": [
       "True"
      ]
     },
     "execution_count": 6,
     "metadata": {},
     "output_type": "execute_result"
    }
   ],
   "source": [
    "df.isStreaming"
   ]
  },
  {
   "cell_type": "code",
   "execution_count": 7,
   "id": "4e08f7b1",
   "metadata": {},
   "outputs": [
    {
     "name": "stdout",
     "output_type": "stream",
     "text": [
      "root\n",
      " |-- ID: integer (nullable = true)\n",
      " |-- Date: date (nullable = true)\n",
      " |-- Open: double (nullable = true)\n",
      " |-- High: double (nullable = true)\n",
      " |-- Low: double (nullable = true)\n",
      " |-- Adj: double (nullable = true)\n",
      " |-- Close: double (nullable = true)\n",
      " |-- Volume: integer (nullable = true)\n",
      "\n"
     ]
    }
   ],
   "source": [
    "df.printSchema()"
   ]
  },
  {
   "cell_type": "markdown",
   "id": "ac9d68de",
   "metadata": {},
   "source": [
    "### Create a stream writer into memory and specify the query name \"stock:"
   ]
  },
  {
   "cell_type": "code",
   "execution_count": 8,
   "id": "e3593086",
   "metadata": {},
   "outputs": [],
   "source": [
    "writer = df.writeStream.outputMode('append')\\\n",
    "            .format('memory')\\\n",
    "            .queryName('stock')"
   ]
  },
  {
   "cell_type": "code",
   "execution_count": 9,
   "id": "d5269b0e",
   "metadata": {},
   "outputs": [
    {
     "name": "stderr",
     "output_type": "stream",
     "text": [
      "22/06/19 16:52:19 WARN ResolveWriteToStream: Temporary checkpoint location created which is deleted normally when the query didn't fail: /tmp/temporary-4726aacf-d6b9-4a4b-a434-031ab1ec5b5c. If it's required to delete it under any circumstances, please set spark.sql.streaming.forceDeleteTempCheckpointLocation to true. Important to know deleting temp checkpoint folder is best effort.\n",
      "22/06/19 16:52:19 WARN ResolveWriteToStream: spark.sql.adaptive.enabled is not supported in streaming DataFrames/Datasets and will be disabled.\n",
      "                                                                                \r"
     ]
    }
   ],
   "source": [
    "query = writer.start('stock')"
   ]
  },
  {
   "cell_type": "markdown",
   "id": "63a5f9a4",
   "metadata": {},
   "source": [
    "### Start the write stream and make sure it works (read all columns from the table)"
   ]
  },
  {
   "cell_type": "code",
   "execution_count": 10,
   "id": "e73b941d",
   "metadata": {},
   "outputs": [
    {
     "name": "stdout",
     "output_type": "stream",
     "text": [
      "+----+----------+------------+------------+------------+------------+------------+------+\n",
      "|  ID|      Date|        Open|        High|         Low|         Adj|       Close|Volume|\n",
      "+----+----------+------------+------------+------------+------------+------------+------+\n",
      "|null|      null|        null|        null|        null|        null|        null|  null|\n",
      "| 240|2000-12-05|26585.300781|27367.300781|26372.099609|27011.800781|25526.091797| 91019|\n",
      "| 241|2000-12-06|27011.800781|27509.400391|26798.599609|26869.699219|25391.804688|105791|\n",
      "| 242|2000-12-07|27011.800781|27011.800781|26478.699219|26656.400391|25190.236328| 40656|\n",
      "| 243|2000-12-08|26656.400391|27722.699219|26656.400391|27651.599609|26130.699219|149964|\n",
      "| 244|2000-12-11|27687.099609|     28860.0|27651.599609|28078.099609|26533.740234|159671|\n",
      "| 245|2000-12-12|28042.599609|28078.099609|27438.300781|27935.900391|26399.361328| 74560|\n",
      "| 246|2000-12-13|27651.599609|     29286.5|27651.599609|28469.099609|26903.234375|270385|\n",
      "| 247|2000-12-14|28469.099609|29784.099609|28291.300781|28362.400391| 26802.40625|256317|\n",
      "| 248|2000-12-15|28362.400391|28895.599609|27793.800781|27935.900391|26399.361328|108886|\n",
      "| 249|2000-12-18|     27580.5|     28433.5|27367.300781|28291.300781|26735.216797| 92848|\n",
      "| 250|2000-12-19|27722.699219|28788.900391|27651.599609|27651.599609|26130.699219|115779|\n",
      "| 251|2000-12-20|27402.800781|27793.800781|     27154.0|27722.699219|26197.890625| 99601|\n",
      "| 252|2000-12-21|27367.300781|27793.800781|27082.900391|27722.699219|26197.890625|129706|\n",
      "| 253|2000-12-22|27687.099609|     28007.0|27509.400391|     28007.0|26466.550781| 77233|\n",
      "| 254|2000-12-26|     27971.5|31987.699219|27473.900391|     28433.5|26869.591797|131535|\n",
      "| 255|2001-01-02|27367.300781|27367.300781|25945.599609|26656.400391|25190.236328| 64150|\n",
      "| 256|2001-01-03|26585.300781|26656.400391|26016.699219|26656.400391|25190.236328| 37421|\n",
      "| 257|2001-01-04|27367.300781|28078.099609|26905.199219|27082.900391|25593.277344|131254|\n",
      "| 258|2001-01-05|26940.800781|26940.800781|26194.400391|26585.300781|25123.048828| 90316|\n",
      "+----+----------+------------+------------+------------+------------+------------+------+\n",
      "only showing top 20 rows\n",
      "\n"
     ]
    }
   ],
   "source": [
    "spark.sql('SELECT * FROM stock').show()"
   ]
  },
  {
   "cell_type": "markdown",
   "id": "16908fa6",
   "metadata": {},
   "source": [
    "### Remove the first row from the data (hint: drop the rows where ALL values are null), then add a new column \"diff\", which is the difference between high and low columns"
   ]
  },
  {
   "cell_type": "code",
   "execution_count": 11,
   "id": "9f2eaa25",
   "metadata": {},
   "outputs": [],
   "source": [
    "df2 =df.dropna(how='any')"
   ]
  },
  {
   "cell_type": "markdown",
   "id": "1f14581b",
   "metadata": {},
   "source": [
    "### Create a new write stream using the new generated dataframe and call the generate table \"modified_data\""
   ]
  },
  {
   "cell_type": "code",
   "execution_count": 12,
   "id": "9fb1be0e",
   "metadata": {},
   "outputs": [],
   "source": [
    "# query.stop()"
   ]
  },
  {
   "cell_type": "code",
   "execution_count": 13,
   "id": "60402ea0",
   "metadata": {},
   "outputs": [],
   "source": [
    "dd=df2['High'] - df2['Low']"
   ]
  },
  {
   "cell_type": "code",
   "execution_count": 14,
   "id": "b8df1500",
   "metadata": {},
   "outputs": [
    {
     "data": {
      "text/plain": [
       "Column<'(High - Low)'>"
      ]
     },
     "execution_count": 14,
     "metadata": {},
     "output_type": "execute_result"
    }
   ],
   "source": [
    "dd"
   ]
  },
  {
   "cell_type": "code",
   "execution_count": 15,
   "id": "969acbbc",
   "metadata": {},
   "outputs": [],
   "source": [
    "modified_data = df2.withColumn('diff' ,dd)"
   ]
  },
  {
   "cell_type": "code",
   "execution_count": 16,
   "id": "cb8dcbe8",
   "metadata": {},
   "outputs": [],
   "source": [
    "writer = modified_data.writeStream.outputMode('append')\\\n",
    "            .format('memory')\\\n",
    "            .queryName('stock')"
   ]
  },
  {
   "cell_type": "code",
   "execution_count": 17,
   "id": "65815e3c",
   "metadata": {},
   "outputs": [],
   "source": [
    "query.stop()"
   ]
  },
  {
   "cell_type": "code",
   "execution_count": 18,
   "id": "8c98fc08",
   "metadata": {},
   "outputs": [
    {
     "name": "stderr",
     "output_type": "stream",
     "text": [
      "22/06/19 16:52:48 WARN ResolveWriteToStream: Temporary checkpoint location created which is deleted normally when the query didn't fail: /tmp/temporary-9c80a2d5-a97c-4ebe-85ff-6787a8d0c814. If it's required to delete it under any circumstances, please set spark.sql.streaming.forceDeleteTempCheckpointLocation to true. Important to know deleting temp checkpoint folder is best effort.\n",
      "22/06/19 16:52:48 WARN ResolveWriteToStream: spark.sql.adaptive.enabled is not supported in streaming DataFrames/Datasets and will be disabled.\n"
     ]
    }
   ],
   "source": [
    "query = writer.start()"
   ]
  },
  {
   "cell_type": "code",
   "execution_count": 19,
   "id": "e5cf2d7e",
   "metadata": {},
   "outputs": [
    {
     "name": "stdout",
     "output_type": "stream",
     "text": [
      "+---+----------+------------+------------+------------+------------+------------+------+------------------+\n",
      "| ID|      Date|        Open|        High|         Low|         Adj|       Close|Volume|              diff|\n",
      "+---+----------+------------+------------+------------+------------+------------+------+------------------+\n",
      "|240|2000-12-05|26585.300781|27367.300781|26372.099609|27011.800781|25526.091797| 91019|  995.201172000001|\n",
      "|241|2000-12-06|27011.800781|27509.400391|26798.599609|26869.699219|25391.804688|105791| 710.8007819999984|\n",
      "|242|2000-12-07|27011.800781|27011.800781|26478.699219|26656.400391|25190.236328| 40656| 533.1015620000035|\n",
      "|243|2000-12-08|26656.400391|27722.699219|26656.400391|27651.599609|26130.699219|149964| 1066.298827999999|\n",
      "|244|2000-12-11|27687.099609|     28860.0|27651.599609|28078.099609|26533.740234|159671|1208.4003909999992|\n",
      "|245|2000-12-12|28042.599609|28078.099609|27438.300781|27935.900391|26399.361328| 74560|  639.798827999999|\n",
      "|246|2000-12-13|27651.599609|     29286.5|27651.599609|28469.099609|26903.234375|270385|1634.9003909999992|\n",
      "|247|2000-12-14|28469.099609|29784.099609|28291.300781|28362.400391| 26802.40625|256317| 1492.798827999999|\n",
      "|248|2000-12-15|28362.400391|28895.599609|27793.800781|27935.900391|26399.361328|108886| 1101.798827999999|\n",
      "|249|2000-12-18|     27580.5|     28433.5|27367.300781|28291.300781|26735.216797| 92848|1066.1992189999983|\n",
      "|250|2000-12-19|27722.699219|28788.900391|27651.599609|27651.599609|26130.699219|115779|1137.3007819999984|\n",
      "|251|2000-12-20|27402.800781|27793.800781|     27154.0|27722.699219|26197.890625| 99601| 639.8007810000017|\n",
      "|252|2000-12-21|27367.300781|27793.800781|27082.900391|27722.699219|26197.890625|129706| 710.9003900000025|\n",
      "|253|2000-12-22|27687.099609|     28007.0|27509.400391|     28007.0|26466.550781| 77233| 497.5996090000008|\n",
      "|254|2000-12-26|     27971.5|31987.699219|27473.900391|     28433.5|26869.591797|131535| 4513.798827999999|\n",
      "|255|2001-01-02|27367.300781|27367.300781|25945.599609|26656.400391|25190.236328| 64150| 1421.701172000001|\n",
      "|256|2001-01-03|26585.300781|26656.400391|26016.699219|26656.400391|25190.236328| 37421|  639.701172000001|\n",
      "|257|2001-01-04|27367.300781|28078.099609|26905.199219|27082.900391|25593.277344|131254|1172.9003900000025|\n",
      "|258|2001-01-05|26940.800781|26940.800781|26194.400391|26585.300781|25123.048828| 90316| 746.4003900000025|\n",
      "|259|2001-01-08|26514.199219|27011.800781|26052.199219|26052.199219|24619.269531|102414| 959.6015620000035|\n",
      "+---+----------+------------+------------+------------+------------+------------+------+------------------+\n",
      "only showing top 20 rows\n",
      "\n"
     ]
    }
   ],
   "source": [
    "spark.sql('select * from stock').show()"
   ]
  },
  {
   "cell_type": "code",
   "execution_count": 20,
   "id": "30fbe967",
   "metadata": {},
   "outputs": [
    {
     "data": {
      "text/plain": [
       "['ID', 'Date', 'Open', 'High', 'Low', 'Adj', 'Close', 'Volume', 'diff']"
      ]
     },
     "execution_count": 20,
     "metadata": {},
     "output_type": "execute_result"
    }
   ],
   "source": [
    "modified_data.columns"
   ]
  },
  {
   "cell_type": "code",
   "execution_count": 14,
   "id": "b3bcedd4",
   "metadata": {},
   "outputs": [
    {
     "name": "stdout",
     "output_type": "stream",
     "text": [
      "+---+----+----+----+---+-----+---------+------+----+\n",
      "| ID|Date|Open|High|Low|Close|Adj Close|Volume|diff|\n",
      "+---+----+----+----+---+-----+---------+------+----+\n",
      "+---+----+----+----+---+-----+---------+------+----+\n",
      "\n"
     ]
    }
   ],
   "source": []
  },
  {
   "cell_type": "code",
   "execution_count": 21,
   "id": "1af8218e",
   "metadata": {},
   "outputs": [],
   "source": [
    "df3 = spark.sql('select * from stock')"
   ]
  },
  {
   "cell_type": "code",
   "execution_count": 22,
   "id": "57472cdb",
   "metadata": {},
   "outputs": [
    {
     "name": "stdout",
     "output_type": "stream",
     "text": [
      "+---+----------+------------+------------+------------+------------+------------+------+------------------+\n",
      "| ID|      Date|        Open|        High|         Low|         Adj|       Close|Volume|              diff|\n",
      "+---+----------+------------+------------+------------+------------+------------+------+------------------+\n",
      "|240|2000-12-05|26585.300781|27367.300781|26372.099609|27011.800781|25526.091797| 91019|  995.201172000001|\n",
      "|241|2000-12-06|27011.800781|27509.400391|26798.599609|26869.699219|25391.804688|105791| 710.8007819999984|\n",
      "|242|2000-12-07|27011.800781|27011.800781|26478.699219|26656.400391|25190.236328| 40656| 533.1015620000035|\n",
      "|243|2000-12-08|26656.400391|27722.699219|26656.400391|27651.599609|26130.699219|149964| 1066.298827999999|\n",
      "|244|2000-12-11|27687.099609|     28860.0|27651.599609|28078.099609|26533.740234|159671|1208.4003909999992|\n",
      "|245|2000-12-12|28042.599609|28078.099609|27438.300781|27935.900391|26399.361328| 74560|  639.798827999999|\n",
      "|246|2000-12-13|27651.599609|     29286.5|27651.599609|28469.099609|26903.234375|270385|1634.9003909999992|\n",
      "|247|2000-12-14|28469.099609|29784.099609|28291.300781|28362.400391| 26802.40625|256317| 1492.798827999999|\n",
      "|248|2000-12-15|28362.400391|28895.599609|27793.800781|27935.900391|26399.361328|108886| 1101.798827999999|\n",
      "|249|2000-12-18|     27580.5|     28433.5|27367.300781|28291.300781|26735.216797| 92848|1066.1992189999983|\n",
      "|250|2000-12-19|27722.699219|28788.900391|27651.599609|27651.599609|26130.699219|115779|1137.3007819999984|\n",
      "|251|2000-12-20|27402.800781|27793.800781|     27154.0|27722.699219|26197.890625| 99601| 639.8007810000017|\n",
      "|252|2000-12-21|27367.300781|27793.800781|27082.900391|27722.699219|26197.890625|129706| 710.9003900000025|\n",
      "|253|2000-12-22|27687.099609|     28007.0|27509.400391|     28007.0|26466.550781| 77233| 497.5996090000008|\n",
      "|254|2000-12-26|     27971.5|31987.699219|27473.900391|     28433.5|26869.591797|131535| 4513.798827999999|\n",
      "|255|2001-01-02|27367.300781|27367.300781|25945.599609|26656.400391|25190.236328| 64150| 1421.701172000001|\n",
      "|256|2001-01-03|26585.300781|26656.400391|26016.699219|26656.400391|25190.236328| 37421|  639.701172000001|\n",
      "|257|2001-01-04|27367.300781|28078.099609|26905.199219|27082.900391|25593.277344|131254|1172.9003900000025|\n",
      "|258|2001-01-05|26940.800781|26940.800781|26194.400391|26585.300781|25123.048828| 90316| 746.4003900000025|\n",
      "|259|2001-01-08|26514.199219|27011.800781|26052.199219|26052.199219|24619.269531|102414| 959.6015620000035|\n",
      "+---+----------+------------+------------+------------+------------+------------+------+------------------+\n",
      "only showing top 20 rows\n",
      "\n"
     ]
    }
   ],
   "source": [
    "df3.show()"
   ]
  },
  {
   "cell_type": "code",
   "execution_count": 23,
   "id": "18583c28",
   "metadata": {},
   "outputs": [],
   "source": [
    "query.stop()"
   ]
  },
  {
   "cell_type": "markdown",
   "id": "e16c3036",
   "metadata": {},
   "source": [
    "### Write the generated data into files instead of the memory. "
   ]
  },
  {
   "cell_type": "code",
   "execution_count": 25,
   "id": "6441b76a",
   "metadata": {},
   "outputs": [
    {
     "name": "stderr",
     "output_type": "stream",
     "text": [
      "22/06/19 16:53:26 WARN MemoryManager: Total allocation exceeds 95.00% (1,020,054,720 bytes) of heap memory\n",
      "Scaling row group sizes to 95.00% for 8 writers\n",
      "                                                                                \r"
     ]
    }
   ],
   "source": [
    "# df3.write.format(\"parquet\").save('/parquej')\n",
    "df3.write.format('parquet').save('gen2')"
   ]
  },
  {
   "cell_type": "markdown",
   "id": "72f07e3f",
   "metadata": {},
   "source": [
    "### Stop the query. Now, try reading the generated parquet files into a normal dataframe\n",
    "- Create a schema and use it to read the data.\n",
    "- Show the output."
   ]
  },
  {
   "cell_type": "code",
   "execution_count": 26,
   "id": "04174f49",
   "metadata": {},
   "outputs": [],
   "source": [
    "query.stop()"
   ]
  },
  {
   "cell_type": "code",
   "execution_count": 27,
   "id": "a5c45e58",
   "metadata": {},
   "outputs": [],
   "source": [
    "df5 = spark.read.parquet('gen' , header = True)"
   ]
  },
  {
   "cell_type": "code",
   "execution_count": 28,
   "id": "ec1321fe",
   "metadata": {
    "scrolled": false
   },
   "outputs": [
    {
     "name": "stdout",
     "output_type": "stream",
     "text": [
      "+---+----------+------------+------------+------------+------------+------------+------+------------------+\n",
      "| ID|      Date|        Open|        High|         Low|         Adj|       Close|Volume|              diff|\n",
      "+---+----------+------------+------------+------------+------------+------------+------+------------------+\n",
      "| 70|2000-04-11|23244.400391|     23351.0|22213.699219|22213.699219|20991.894531| 33341|1137.3007810000017|\n",
      "| 71|2000-04-12|22249.199219|22391.400391|21751.599609|22178.099609|20958.253906| 38546| 639.8007819999984|\n",
      "| 72|2000-04-13|22178.099609|22178.099609|22178.099609|22178.099609|20958.253906|     0|               0.0|\n",
      "| 73|2000-04-14|21751.599609|21822.699219|21111.900391|21680.599609|20488.117188| 33622|  710.798827999999|\n",
      "| 74|2000-04-17|     19903.5|20969.699219|     19050.5|19761.300781|18674.380859| 56272|1919.1992189999983|\n",
      "| 75|2000-04-18|20472.099609|     21183.0|19619.099609|     19903.5|18808.763672| 62321|1563.9003909999992|\n",
      "| 76|2000-04-19|20614.300781|20898.599609|20187.800781|20614.300781| 19480.46875| 56131|  710.798827999999|\n",
      "| 77|2000-04-20|20578.800781|21147.400391|     20401.0|     20756.5|19614.847656| 29824| 746.4003909999992|\n",
      "| 78|2000-04-21|     20756.5|21360.699219|     20756.5|21254.099609|20085.078125| 69495| 604.1992189999983|\n",
      "| 79|2000-04-24|21538.400391|     21609.5|20685.400391|21538.400391|20353.740234| 40234| 924.0996090000008|\n",
      "|360|2001-06-08|32343.099609|33196.101563|     31810.0|33196.101563|31370.240234| 86940|1386.1015629999965|\n",
      "|361|2001-06-11|     33054.0|     33907.0|     33054.0|33729.300781|31874.113281| 81875|             853.0|\n",
      "|362|2001-06-12|34120.199219|34546.699219|33622.601563|34191.300781|32310.703125|119155| 924.0976560000054|\n",
      "|363|2001-06-13|34226.800781|37674.398438|     33942.5|35897.300781|33922.871094|154325|3731.8984379999965|\n",
      "|364|2001-06-14|41228.601563|41228.601563|39238.199219|41228.601563|  38960.9375|774860|1990.4023439999946|\n",
      "|365|2001-06-15|41228.601563|     43290.0|39806.898438|40659.898438|38423.511719|599996|3483.1015620000035|\n",
      "|366|2001-06-18|40375.601563|41299.699219|39309.300781|39806.898438|37617.425781|161922|1990.3984380000038|\n",
      "|367|2001-06-19|39167.199219|41015.300781|39167.199219|39735.800781|37550.238281| 92989|1848.1015619999962|\n",
      "|368|2001-06-20|39167.199219|39522.601563|37816.601563|38811.699219|36676.964844|135333|            1706.0|\n",
      "|369|2001-06-21|38811.699219|     39451.5|37674.398438|     39451.5|37281.578125| 88628|1777.1015620000035|\n",
      "+---+----------+------------+------------+------------+------------+------------+------+------------------+\n",
      "only showing top 20 rows\n",
      "\n"
     ]
    }
   ],
   "source": [
    "df5.show()"
   ]
  },
  {
   "cell_type": "markdown",
   "id": "4814d697",
   "metadata": {},
   "source": [
    "### Sort the dataframe based on the ID"
   ]
  },
  {
   "cell_type": "code",
   "execution_count": 29,
   "id": "c51d91a5",
   "metadata": {},
   "outputs": [
    {
     "name": "stdout",
     "output_type": "stream",
     "text": [
      "+---+----------+------------+------------+------------+------------+------------+------+------------------+\n",
      "| ID|      Date|        Open|        High|         Low|         Adj|       Close|Volume|              diff|\n",
      "+---+----------+------------+------------+------------+------------+------------+------+------------------+\n",
      "|  0|2000-01-04|22817.900391|25696.800781|22817.900391|24879.300781|23510.880859|108745|2878.9003900000025|\n",
      "|  1|2000-01-05|24523.900391|26229.900391|23670.900391|24417.300781|23074.294922|175990|            2559.0|\n",
      "|  2|2000-01-06|24381.699219|24666.099609|22746.800781|22817.900391|21562.865234| 71746| 1919.298827999999|\n",
      "|  3|2000-01-07|     22036.0|24879.300781|     22036.0|23884.199219|22570.513672|120984|2843.3007810000017|\n",
      "|  4|2000-01-10|24879.300781|25519.099609|23813.099609|24061.900391|22738.439453|151371|            1706.0|\n",
      "|  5|2000-01-11|     24168.5|     25021.5|23955.199219|24239.599609|22906.365234| 95943|1066.3007810000017|\n",
      "|  6|2000-01-12|     24168.5|24452.800781|23457.599609|23670.900391|22368.947266| 61899|  995.201172000001|\n",
      "|  7|2000-01-13|23670.900391|24132.900391|23102.199219|23244.400391| 21965.90625| 57538| 1030.701172000001|\n",
      "|  8|2000-01-14|23457.599609|     24168.5|22746.800781|23244.400391| 21965.90625| 84267|1421.6992189999983|\n",
      "|  9|2000-01-17|22533.599609|23457.599609|22533.599609|23457.599609|22167.376953| 67807|             924.0|\n",
      "| 10|2000-01-18|23457.599609|     23742.0|22746.800781|23422.099609|22133.832031| 27995| 995.1992189999983|\n",
      "| 11|2000-01-19|22817.900391|23173.300781|     22036.0|     22036.0|20823.970703| 44173|1137.3007810000017|\n",
      "| 12|2000-01-20|21325.099609|22000.400391|     20756.5|21680.599609|20488.117188| 47550|1243.9003909999992|\n",
      "| 13|2000-01-21|21680.599609|22391.400391|20863.099609|21680.599609|20488.117188| 80750|1528.3007819999984|\n",
      "| 14|2000-01-24|20969.699219|21822.699219|20969.699219|20969.699219|19816.320313| 79906|             853.0|\n",
      "| 15|2000-01-25|20258.900391|20934.199219|     19548.0|20116.699219|19010.236328|170925|1386.1992189999983|\n",
      "| 16|2000-01-26|20223.300781|20543.199219|19761.300781|     20330.0|19211.804688| 59929| 781.8984379999965|\n",
      "| 17|2000-01-27|     20401.0|22746.800781|     20330.0|21040.800781|19883.511719|139132|2416.8007810000017|\n",
      "| 18|2000-01-28|21431.800781|22107.099609|21040.800781|21964.900391|20756.783203| 78640| 1066.298827999999|\n",
      "| 19|2000-01-31|21325.099609|21893.800781|     21183.0|21467.300781|20286.552734| 45861| 710.8007810000017|\n",
      "+---+----------+------------+------------+------------+------------+------------+------+------------------+\n",
      "only showing top 20 rows\n",
      "\n"
     ]
    }
   ],
   "source": [
    "finalDFSorted = df5.sort('ID')\n",
    "finalDFSorted.show()"
   ]
  }
 ],
 "metadata": {
  "kernelspec": {
   "display_name": "Python 3 (ipykernel)",
   "language": "python",
   "name": "python3"
  },
  "language_info": {
   "codemirror_mode": {
    "name": "ipython",
    "version": 3
   },
   "file_extension": ".py",
   "mimetype": "text/x-python",
   "name": "python",
   "nbconvert_exporter": "python",
   "pygments_lexer": "ipython3",
   "version": "3.10.4"
  }
 },
 "nbformat": 4,
 "nbformat_minor": 5
}
