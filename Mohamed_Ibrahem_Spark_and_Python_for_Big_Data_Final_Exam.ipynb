{
  "cells": [
    {
      "cell_type": "markdown",
      "id": "fa486f23",
      "metadata": {
        "id": "fa486f23"
      },
      "source": [
        "![image.png](attachment:image.png)"
      ]
    },
    {
      "cell_type": "markdown",
      "id": "abbf1e33",
      "metadata": {
        "id": "abbf1e33"
      },
      "source": [
        "##### **Good luck with taking your exam. Keep working and make your dreams all come true. Seeing the results of all of your hard work will make this struggle worth it. We’re all thinking of you.** \n",
        "<b><font color='blue'>AI-PRO Spark Team ITI</font></b>"
      ]
    },
    {
      "cell_type": "markdown",
      "id": "8326ba88",
      "metadata": {
        "id": "8326ba88"
      },
      "source": [
        "## Objective:\n",
        "- The objective from this project is to create a <b>Logistic Regression Classifier</b> to predict the <b>Stroke Condition</b>.\n",
        "- <b>Stoke</b> is a condition in which either the blood flow to the brain stops or blood flow is excessive.\n",
        "- It is required to obtain <b>ROC > 0.65</b>."
      ]
    },
    {
      "cell_type": "markdown",
      "id": "0eb78c16",
      "metadata": {
        "id": "0eb78c16"
      },
      "source": [
        "### Data:\n",
        "- Data is provided in csv format in a file named <b>healthcare-dataset-stroke-data.csv</b>"
      ]
    },
    {
      "cell_type": "markdown",
      "id": "7c842b79",
      "metadata": {
        "id": "7c842b79"
      },
      "source": [
        "### Column names and data types are as follow:\n",
        "- id, integer.\n",
        "- gender, string.\n",
        "- age, double.\n",
        "- hypertension, integer.\n",
        "- heart_disease, integer.\n",
        "- ever_married, string.\n",
        "- work_type, string.\n",
        "- Residence_type, string.\n",
        "- avg_glucose_level, double.\n",
        "- bmi, double.\n",
        "- smoking_status, string.\n",
        "- stroke, integer <b>(Target Label)</b>.\n",
        "If the person has stroke the stroke label value is <b>\"1\"</b> otherwise <b>\"0\"</b>."
      ]
    },
    {
      "cell_type": "code",
      "source": [
        "!pip install findspark"
      ],
      "metadata": {
        "colab": {
          "base_uri": "https://localhost:8080/"
        },
        "id": "D10GR_hYd8rB",
        "outputId": "91dc309a-1e83-481b-abf9-470cc84da010"
      },
      "id": "D10GR_hYd8rB",
      "execution_count": 3,
      "outputs": [
        {
          "output_type": "stream",
          "name": "stdout",
          "text": [
            "Looking in indexes: https://pypi.org/simple, https://us-python.pkg.dev/colab-wheels/public/simple/\n",
            "Collecting findspark\n",
            "  Downloading findspark-2.0.1-py2.py3-none-any.whl (4.4 kB)\n",
            "Installing collected packages: findspark\n",
            "Successfully installed findspark-2.0.1\n"
          ]
        }
      ]
    },
    {
      "cell_type": "code",
      "source": [
        "!pip install pyspark"
      ],
      "metadata": {
        "colab": {
          "base_uri": "https://localhost:8080/"
        },
        "id": "uRvi90SAdZzN",
        "outputId": "be4b4c31-81af-453a-b759-3bf40c9d2ec7"
      },
      "id": "uRvi90SAdZzN",
      "execution_count": 1,
      "outputs": [
        {
          "output_type": "stream",
          "name": "stdout",
          "text": [
            "Looking in indexes: https://pypi.org/simple, https://us-python.pkg.dev/colab-wheels/public/simple/\n",
            "Collecting pyspark\n",
            "  Downloading pyspark-3.3.0.tar.gz (281.3 MB)\n",
            "\u001b[K     |████████████████████████████████| 281.3 MB 53 kB/s \n",
            "\u001b[?25hCollecting py4j==0.10.9.5\n",
            "  Downloading py4j-0.10.9.5-py2.py3-none-any.whl (199 kB)\n",
            "\u001b[K     |████████████████████████████████| 199 kB 67.9 MB/s \n",
            "\u001b[?25hBuilding wheels for collected packages: pyspark\n",
            "  Building wheel for pyspark (setup.py) ... \u001b[?25l\u001b[?25hdone\n",
            "  Created wheel for pyspark: filename=pyspark-3.3.0-py2.py3-none-any.whl size=281764026 sha256=a01ec300ef0bb275a8cdcb102bcd879b6f5c97fbea0b571fe7b6c659e7268f92\n",
            "  Stored in directory: /root/.cache/pip/wheels/7a/8e/1b/f73a52650d2e5f337708d9f6a1750d451a7349a867f928b885\n",
            "Successfully built pyspark\n",
            "Installing collected packages: py4j, pyspark\n",
            "Successfully installed py4j-0.10.9.5 pyspark-3.3.0\n"
          ]
        }
      ]
    },
    {
      "cell_type": "markdown",
      "id": "6971f788",
      "metadata": {
        "id": "6971f788"
      },
      "source": [
        "## To perform this task follow the following guiding steps:"
      ]
    },
    {
      "cell_type": "markdown",
      "id": "e31bc851",
      "metadata": {
        "id": "e31bc851"
      },
      "source": [
        "### Create a spark session and import the required libraries"
      ]
    },
    {
      "cell_type": "code",
      "source": [
        "import pyspark"
      ],
      "metadata": {
        "id": "Yl6_n5mdgHos"
      },
      "id": "Yl6_n5mdgHos",
      "execution_count": 192,
      "outputs": []
    },
    {
      "cell_type": "code",
      "execution_count": 193,
      "id": "ab3ba311",
      "metadata": {
        "id": "ab3ba311"
      },
      "outputs": [],
      "source": [
        "from pyspark.sql import SparkSession\n",
        "import findspark\n",
        "findspark.init()"
      ]
    },
    {
      "cell_type": "code",
      "source": [
        "import pyspark.sql.functions as f\n",
        "from pyspark.sql.types import *\n",
        "import numpy as np"
      ],
      "metadata": {
        "id": "19pVFNIvdzY3"
      },
      "id": "19pVFNIvdzY3",
      "execution_count": 194,
      "outputs": []
    },
    {
      "cell_type": "code",
      "source": [
        "spark = SparkSession.builder.appName(\"FinalExam\").getOrCreate()"
      ],
      "metadata": {
        "id": "Wkja-ErxePQt"
      },
      "id": "Wkja-ErxePQt",
      "execution_count": 195,
      "outputs": []
    },
    {
      "cell_type": "markdown",
      "id": "843b8468",
      "metadata": {
        "id": "843b8468"
      },
      "source": [
        "### Create a data schema programatically"
      ]
    },
    {
      "cell_type": "markdown",
      "source": [
        "id, integer.\n",
        "gender, string.\n",
        "age, double.\n",
        "hypertension, integer.\n",
        "heart_disease, integer.\n",
        "ever_married, string.\n",
        "work_type, string.\n",
        "Residence_type, string.\n",
        "avg_glucose_level, double.\n",
        "bmi, double.\n",
        "smoking_status, string.\n",
        "stroke, integer (Target Label). If the person has stroke the stroke label value is \"1\" otherwise \"0\"."
      ],
      "metadata": {
        "id": "Fp6XqFafe8Z2"
      },
      "id": "Fp6XqFafe8Z2"
    },
    {
      "cell_type": "code",
      "execution_count": 196,
      "id": "8616fe16",
      "metadata": {
        "id": "8616fe16"
      },
      "outputs": [],
      "source": [
        "schema = StructType([StructField(\"id\", IntegerType(), False),\n",
        "                     StructField(\"gender\", StringType(), False),\n",
        "                     StructField(\"age\", DoubleType(), False),\n",
        "                     StructField(\"hypertension\", IntegerType(), False),\n",
        "                     StructField(\"heart_disease\", IntegerType(), False),\n",
        "                     StructField(\"ever_married\", StringType(), False),\n",
        "                     StructField(\"work_type\", StringType(), False),\n",
        "                     StructField(\"Residence_type\", StringType(), False),\n",
        "                     StructField(\"avg_glucose_level\", DoubleType(), False),\n",
        "                     StructField(\"bmi\", DoubleType(), False),\n",
        "                     StructField(\"smoking_status\", StringType(), False),\n",
        "                     StructField(\"stroke\", IntegerType(), False) , ])"
      ]
    },
    {
      "cell_type": "markdown",
      "id": "2d00718f",
      "metadata": {
        "id": "2d00718f"
      },
      "source": [
        "### Read the data using the standard DataReader (Key,Value) pairs format\n",
        "- Provide the schema and any other required options."
      ]
    },
    {
      "cell_type": "code",
      "execution_count": 197,
      "id": "61fcc4cd",
      "metadata": {
        "id": "61fcc4cd"
      },
      "outputs": [],
      "source": [
        "df = spark.read.csv('healthcare-dataset-stroke-data.csv' ,header=True , schema= schema)"
      ]
    },
    {
      "cell_type": "markdown",
      "id": "974bc193",
      "metadata": {
        "id": "974bc193"
      },
      "source": [
        "### Explore the data \n",
        "#### You have to do the following:\n",
        "- Print the Schema.\n",
        "- Show the first 10 rows from the data.\n",
        "- Explore null values and show how many null values in each column.\n",
        "- Plot a count plot for the target label and <b>notice the graph</b>.\n",
        "- Perform any additional EDA you find useful."
      ]
    },
    {
      "cell_type": "markdown",
      "source": [
        "## Print Schema"
      ],
      "metadata": {
        "id": "6CZZrizLhU--"
      },
      "id": "6CZZrizLhU--"
    },
    {
      "cell_type": "code",
      "source": [
        "df.printSchema()"
      ],
      "metadata": {
        "colab": {
          "base_uri": "https://localhost:8080/"
        },
        "id": "3n356wmDhUch",
        "outputId": "0cfd600b-f4a0-49c1-ffe8-ceacf449d242"
      },
      "id": "3n356wmDhUch",
      "execution_count": 198,
      "outputs": [
        {
          "output_type": "stream",
          "name": "stdout",
          "text": [
            "root\n",
            " |-- id: integer (nullable = true)\n",
            " |-- gender: string (nullable = true)\n",
            " |-- age: double (nullable = true)\n",
            " |-- hypertension: integer (nullable = true)\n",
            " |-- heart_disease: integer (nullable = true)\n",
            " |-- ever_married: string (nullable = true)\n",
            " |-- work_type: string (nullable = true)\n",
            " |-- Residence_type: string (nullable = true)\n",
            " |-- avg_glucose_level: double (nullable = true)\n",
            " |-- bmi: double (nullable = true)\n",
            " |-- smoking_status: string (nullable = true)\n",
            " |-- stroke: integer (nullable = true)\n",
            "\n"
          ]
        }
      ]
    },
    {
      "cell_type": "markdown",
      "source": [
        "## Show the first 10 rows of df"
      ],
      "metadata": {
        "id": "EOcSAVURhaUI"
      },
      "id": "EOcSAVURhaUI"
    },
    {
      "cell_type": "code",
      "execution_count": 199,
      "id": "353b6f34",
      "metadata": {
        "colab": {
          "base_uri": "https://localhost:8080/"
        },
        "id": "353b6f34",
        "outputId": "94cc1ffe-4910-4f97-a80f-0d3890a971c8"
      },
      "outputs": [
        {
          "output_type": "stream",
          "name": "stdout",
          "text": [
            "+-----+------+----+------------+-------------+------------+-------------+--------------+-----------------+----+---------------+------+\n",
            "|   id|gender| age|hypertension|heart_disease|ever_married|    work_type|Residence_type|avg_glucose_level| bmi| smoking_status|stroke|\n",
            "+-----+------+----+------------+-------------+------------+-------------+--------------+-----------------+----+---------------+------+\n",
            "| 9046|  Male|67.0|           0|            1|         Yes|      Private|         Urban|           228.69|36.6|formerly smoked|     1|\n",
            "|51676|Female|61.0|           0|            0|         Yes|Self-employed|         Rural|           202.21|null|   never smoked|     1|\n",
            "|31112|  Male|80.0|           0|            1|         Yes|      Private|         Rural|           105.92|32.5|   never smoked|     1|\n",
            "|60182|Female|49.0|           0|            0|         Yes|      Private|         Urban|           171.23|34.4|         smokes|     1|\n",
            "| 1665|Female|79.0|           1|            0|         Yes|Self-employed|         Rural|           174.12|24.0|   never smoked|     1|\n",
            "|56669|  Male|81.0|           0|            0|         Yes|      Private|         Urban|           186.21|29.0|formerly smoked|     1|\n",
            "|53882|  Male|74.0|           1|            1|         Yes|      Private|         Rural|            70.09|27.4|   never smoked|     1|\n",
            "|10434|Female|69.0|           0|            0|          No|      Private|         Urban|            94.39|22.8|   never smoked|     1|\n",
            "|27419|Female|59.0|           0|            0|         Yes|      Private|         Rural|            76.15|null|        Unknown|     1|\n",
            "|60491|Female|78.0|           0|            0|         Yes|      Private|         Urban|            58.57|24.2|        Unknown|     1|\n",
            "+-----+------+----+------------+-------------+------------+-------------+--------------+-----------------+----+---------------+------+\n",
            "only showing top 10 rows\n",
            "\n"
          ]
        }
      ],
      "source": [
        "df.show(10)"
      ]
    },
    {
      "cell_type": "markdown",
      "source": [
        "## Checking the nulls"
      ],
      "metadata": {
        "id": "mtez6lzyhvRT"
      },
      "id": "mtez6lzyhvRT"
    },
    {
      "cell_type": "code",
      "source": [
        "from pyspark.sql.functions import col,isnan,when,count,isnull"
      ],
      "metadata": {
        "id": "FjjR_UhQh-LE"
      },
      "id": "FjjR_UhQh-LE",
      "execution_count": 200,
      "outputs": []
    },
    {
      "cell_type": "code",
      "source": [
        "df.select([count(when(isnull(c), c)).alias(c) for c in df.columns]).show()"
      ],
      "metadata": {
        "colab": {
          "base_uri": "https://localhost:8080/"
        },
        "id": "J7GfyZfLhu30",
        "outputId": "b3bd3206-a8e1-4d96-ba72-f0193ede9abd"
      },
      "id": "J7GfyZfLhu30",
      "execution_count": 201,
      "outputs": [
        {
          "output_type": "stream",
          "name": "stdout",
          "text": [
            "+---+------+---+------------+-------------+------------+---------+--------------+-----------------+---+--------------+------+\n",
            "| id|gender|age|hypertension|heart_disease|ever_married|work_type|Residence_type|avg_glucose_level|bmi|smoking_status|stroke|\n",
            "+---+------+---+------------+-------------+------------+---------+--------------+-----------------+---+--------------+------+\n",
            "|  0|     0|  0|           0|            0|           0|        0|             0|                0|201|             0|     0|\n",
            "+---+------+---+------------+-------------+------------+---------+--------------+-----------------+---+--------------+------+\n",
            "\n"
          ]
        }
      ]
    },
    {
      "cell_type": "markdown",
      "source": [
        "## Plot a count plot for the target label"
      ],
      "metadata": {
        "id": "1HT_gHVaiGM1"
      },
      "id": "1HT_gHVaiGM1"
    },
    {
      "cell_type": "code",
      "source": [
        "groupdf = df.groupBy('stroke').count().toPandas()"
      ],
      "metadata": {
        "id": "LinY_NhuiUqq"
      },
      "id": "LinY_NhuiUqq",
      "execution_count": 202,
      "outputs": []
    },
    {
      "cell_type": "code",
      "execution_count": 203,
      "id": "6fb198f0",
      "metadata": {
        "colab": {
          "base_uri": "https://localhost:8080/",
          "height": 293
        },
        "id": "6fb198f0",
        "outputId": "2f02cca1-67d5-4a9d-e87c-889b066fc7a8"
      },
      "outputs": [
        {
          "output_type": "execute_result",
          "data": {
            "text/plain": [
              "<matplotlib.axes._subplots.AxesSubplot at 0x7f76ce302e10>"
            ]
          },
          "metadata": {},
          "execution_count": 203
        },
        {
          "output_type": "display_data",
          "data": {
            "text/plain": [
              "<Figure size 432x288 with 1 Axes>"
            ],
            "image/png": "[encoded data removed]"
          },
          "metadata": {
            "needs_background": "light"
          }
        }
      ],
      "source": [
        "groupdf.plot(kind='bar', x='stroke', y='count' ,xlabel = 'stroke' , ylabel = 'count')"
      ]
    },
    {
      "cell_type": "markdown",
      "id": "59b770cb",
      "metadata": {
        "id": "59b770cb"
      },
      "source": [
        "### Get the summary statistics of the age column\n",
        "- You will find the minimum age is about <b>0.08</b>.\n",
        "- Remove rows for the age below <b>2 years old</b>."
      ]
    },
    {
      "cell_type": "code",
      "execution_count": 204,
      "id": "ed40fb11",
      "metadata": {
        "scrolled": false,
        "colab": {
          "base_uri": "https://localhost:8080/"
        },
        "id": "ed40fb11",
        "outputId": "db094deb-7625-4b66-8bbe-dc6810de836b"
      },
      "outputs": [
        {
          "output_type": "stream",
          "name": "stdout",
          "text": [
            "+-------+------------------+\n",
            "|summary|               age|\n",
            "+-------+------------------+\n",
            "|  count|              5110|\n",
            "|   mean|43.226614481409015|\n",
            "| stddev| 22.61264672311348|\n",
            "|    min|              0.08|\n",
            "|    max|              82.0|\n",
            "+-------+------------------+\n",
            "\n"
          ]
        }
      ],
      "source": [
        "df.describe('age').show()"
      ]
    },
    {
      "cell_type": "code",
      "execution_count": 205,
      "id": "cc99c0be",
      "metadata": {
        "colab": {
          "base_uri": "https://localhost:8080/"
        },
        "id": "cc99c0be",
        "outputId": "e4a4b9cf-72b2-4c89-f919-4f9e1fcce7af"
      },
      "outputs": [
        {
          "output_type": "stream",
          "name": "stdout",
          "text": [
            "+-------+------------------+\n",
            "|summary|               age|\n",
            "+-------+------------------+\n",
            "|  count|              4990|\n",
            "|   mean| 44.23907815631262|\n",
            "| stddev|21.908077881917443|\n",
            "|    min|               2.0|\n",
            "|    max|              82.0|\n",
            "+-------+------------------+\n",
            "\n"
          ]
        }
      ],
      "source": [
        "df = df.filter(df['age'] >= 2)\n",
        "df.describe('age').show()"
      ]
    },
    {
      "cell_type": "markdown",
      "id": "bf8c9498",
      "metadata": {
        "id": "bf8c9498"
      },
      "source": [
        "### Working with gender & smoking_status columns:\n",
        "- Select and show the gender & smoking_status columns\n",
        "- Get the distinct values for each column."
      ]
    },
    {
      "cell_type": "code",
      "execution_count": 206,
      "id": "925a5ecd",
      "metadata": {
        "colab": {
          "base_uri": "https://localhost:8080/"
        },
        "id": "925a5ecd",
        "outputId": "d4b0338e-d133-40f5-f62e-8a2f413d40e3"
      },
      "outputs": [
        {
          "output_type": "stream",
          "name": "stdout",
          "text": [
            "+------+---------------+\n",
            "|gender| smoking_status|\n",
            "+------+---------------+\n",
            "|  Male|formerly smoked|\n",
            "|Female|   never smoked|\n",
            "|  Male|   never smoked|\n",
            "|Female|         smokes|\n",
            "|Female|   never smoked|\n",
            "|  Male|formerly smoked|\n",
            "|  Male|   never smoked|\n",
            "|Female|   never smoked|\n",
            "|Female|        Unknown|\n",
            "|Female|        Unknown|\n",
            "|Female|   never smoked|\n",
            "|Female|         smokes|\n",
            "|Female|         smokes|\n",
            "|  Male|        Unknown|\n",
            "|Female|   never smoked|\n",
            "|Female|   never smoked|\n",
            "|  Male|         smokes|\n",
            "|  Male|         smokes|\n",
            "|Female|   never smoked|\n",
            "|  Male|        Unknown|\n",
            "+------+---------------+\n",
            "only showing top 20 rows\n",
            "\n"
          ]
        }
      ],
      "source": [
        "df.select('gender', 'smoking_status').show(20)"
      ]
    },
    {
      "cell_type": "code",
      "execution_count": 207,
      "id": "9dfe35a4",
      "metadata": {
        "colab": {
          "base_uri": "https://localhost:8080/"
        },
        "id": "9dfe35a4",
        "outputId": "725f6410-a9ed-4ce2-c891-680d27fb4fb7"
      },
      "outputs": [
        {
          "output_type": "stream",
          "name": "stdout",
          "text": [
            "+------+\n",
            "|gender|\n",
            "+------+\n",
            "|Female|\n",
            "| Other|\n",
            "|  Male|\n",
            "+------+\n",
            "\n"
          ]
        }
      ],
      "source": [
        "df.select('gender').distinct().show()"
      ]
    },
    {
      "cell_type": "code",
      "execution_count": 208,
      "id": "b7bf6c7e",
      "metadata": {
        "colab": {
          "base_uri": "https://localhost:8080/"
        },
        "id": "b7bf6c7e",
        "outputId": "acb26dab-7a2b-4cfa-82ed-3577dec588d2"
      },
      "outputs": [
        {
          "output_type": "stream",
          "name": "stdout",
          "text": [
            "+---------------+\n",
            "| smoking_status|\n",
            "+---------------+\n",
            "|         smokes|\n",
            "|        Unknown|\n",
            "|   never smoked|\n",
            "|formerly smoked|\n",
            "+---------------+\n",
            "\n"
          ]
        }
      ],
      "source": [
        "df.select('smoking_status').distinct().show()"
      ]
    },
    {
      "cell_type": "markdown",
      "id": "850bdfe1",
      "metadata": {
        "id": "850bdfe1"
      },
      "source": [
        "#### Change the string values of the columns into numerical values as follow:\n",
        "1. Gender column:\n",
        "    * Male = 1 \n",
        "    * Female = 0 \n",
        "    * Other = 0 \n",
        "2. Smoking Status column:\n",
        "  * never smoked = 0\n",
        "  * Unknown = 0.5\n",
        "  * formerly smoked = 0.75\n",
        "  * smokes = 1.0\n"
      ]
    },
    {
      "cell_type": "code",
      "execution_count": 209,
      "id": "355f2ef0",
      "metadata": {
        "id": "355f2ef0"
      },
      "outputs": [],
      "source": [
        "def GenderToNum(gender1):\n",
        "  if gender1 == 'Male':\n",
        "    return 1\n",
        "  elif gender1 == 'Female':\n",
        "    return 0\n",
        "  elif gender1 =='Other':\n",
        "    return 0\n",
        "\n",
        "def SmokeToNum(smoke):\n",
        "  if smoke == 'never smoked':\n",
        "    return 0.0\n",
        "  elif smoke == 'Unknown':\n",
        "    return 0.5\n",
        "  elif smoke =='formerly smoked':\n",
        "    return 0.75\n",
        "  elif smoke =='smokes':\n",
        "    return 1.0"
      ]
    },
    {
      "cell_type": "code",
      "source": [
        "genderconversion = f.udf(lambda x: GenderToNum(x), IntegerType())\n",
        "df = df.withColumn('gender', genderconversion(f.col(\"gender\")))\n",
        "smokingconversion = f.udf(lambda x: SmokeToNum(x), DoubleType())\n",
        "df = df.withColumn('smoking_status', smokingconversion(f.col(\"smoking_status\")))"
      ],
      "metadata": {
        "id": "pMDCluA4mAxs"
      },
      "id": "pMDCluA4mAxs",
      "execution_count": 210,
      "outputs": []
    },
    {
      "cell_type": "code",
      "source": [
        "df.show(2)"
      ],
      "metadata": {
        "colab": {
          "base_uri": "https://localhost:8080/"
        },
        "id": "LOdtONt5mAm_",
        "outputId": "e4cd2593-0fa7-42fd-b2b3-99c60902f8d8"
      },
      "id": "LOdtONt5mAm_",
      "execution_count": 211,
      "outputs": [
        {
          "output_type": "stream",
          "name": "stdout",
          "text": [
            "+-----+------+----+------------+-------------+------------+-------------+--------------+-----------------+----+--------------+------+\n",
            "|   id|gender| age|hypertension|heart_disease|ever_married|    work_type|Residence_type|avg_glucose_level| bmi|smoking_status|stroke|\n",
            "+-----+------+----+------------+-------------+------------+-------------+--------------+-----------------+----+--------------+------+\n",
            "| 9046|     1|67.0|           0|            1|         Yes|      Private|         Urban|           228.69|36.6|          0.75|     1|\n",
            "|51676|     0|61.0|           0|            0|         Yes|Self-employed|         Rural|           202.21|null|           0.0|     1|\n",
            "+-----+------+----+------------+-------------+------------+-------------+--------------+-----------------+----+--------------+------+\n",
            "only showing top 2 rows\n",
            "\n"
          ]
        }
      ]
    },
    {
      "cell_type": "markdown",
      "id": "3da38a31",
      "metadata": {
        "id": "3da38a31"
      },
      "source": [
        "#### Show the output DataFrame\n",
        "- Select and show the gender & smoking_status columns after value changing.\n",
        "- Print schema for the new dataframe."
      ]
    },
    {
      "cell_type": "code",
      "execution_count": 212,
      "id": "7df0cf29",
      "metadata": {
        "colab": {
          "base_uri": "https://localhost:8080/"
        },
        "id": "7df0cf29",
        "outputId": "89822098-90a9-4e83-a957-38cefaf4faaa"
      },
      "outputs": [
        {
          "output_type": "stream",
          "name": "stdout",
          "text": [
            "+------+--------------+\n",
            "|gender|smoking_status|\n",
            "+------+--------------+\n",
            "|     1|          0.75|\n",
            "|     0|           0.0|\n",
            "|     1|           0.0|\n",
            "|     0|           1.0|\n",
            "|     0|           0.0|\n",
            "|     1|          0.75|\n",
            "|     1|           0.0|\n",
            "|     0|           0.0|\n",
            "|     0|           0.5|\n",
            "|     0|           0.5|\n",
            "|     0|           0.0|\n",
            "|     0|           1.0|\n",
            "|     0|           1.0|\n",
            "|     1|           0.5|\n",
            "|     0|           0.0|\n",
            "|     0|           0.0|\n",
            "|     1|           1.0|\n",
            "|     1|           1.0|\n",
            "|     0|           0.0|\n",
            "|     1|           0.5|\n",
            "+------+--------------+\n",
            "only showing top 20 rows\n",
            "\n"
          ]
        }
      ],
      "source": [
        "df.select('gender', 'smoking_status').show(20)"
      ]
    },
    {
      "cell_type": "markdown",
      "id": "89ce3b77",
      "metadata": {
        "id": "89ce3b77"
      },
      "source": [
        "### Deal with null value according to your data analysis."
      ]
    },
    {
      "cell_type": "code",
      "execution_count": 217,
      "id": "4d78cb87",
      "metadata": {
        "colab": {
          "base_uri": "https://localhost:8080/"
        },
        "id": "4d78cb87",
        "outputId": "30bef28e-e5a0-41fc-f65d-f1c6788cea4d"
      },
      "outputs": [
        {
          "output_type": "execute_result",
          "data": {
            "text/plain": [
              "29.140855057351413"
            ]
          },
          "metadata": {},
          "execution_count": 217
        }
      ],
      "source": [
        "df2 = df.agg(f.mean('bmi')).collect()[0][0]\n",
        "df2"
      ]
    },
    {
      "cell_type": "code",
      "source": [
        "df.describe('bmi').show()"
      ],
      "metadata": {
        "colab": {
          "base_uri": "https://localhost:8080/"
        },
        "id": "cKsnFSSaovrj",
        "outputId": "2b286da0-b009-4175-88ff-8318cdde6342"
      },
      "id": "cKsnFSSaovrj",
      "execution_count": 218,
      "outputs": [
        {
          "output_type": "stream",
          "name": "stdout",
          "text": [
            "+-------+------------------+\n",
            "|summary|               bmi|\n",
            "+-------+------------------+\n",
            "|  count|              4795|\n",
            "|   mean|29.140855057351413|\n",
            "| stddev| 7.765248721877016|\n",
            "|    min|              11.3|\n",
            "|    max|              97.6|\n",
            "+-------+------------------+\n",
            "\n"
          ]
        }
      ]
    },
    {
      "cell_type": "code",
      "source": [
        "df.groupBy('bmi').count().toPandas().plot(kind='hist', x='bmi')\n",
        "#skewness to the right"
      ],
      "metadata": {
        "colab": {
          "base_uri": "https://localhost:8080/",
          "height": 282
        },
        "id": "fiq65Kb-o1Rb",
        "outputId": "0d9674c9-799a-488b-9b67-448936c6d2c0"
      },
      "id": "fiq65Kb-o1Rb",
      "execution_count": 219,
      "outputs": [
        {
          "output_type": "execute_result",
          "data": {
            "text/plain": [
              "<matplotlib.axes._subplots.AxesSubplot at 0x7f76ce1e77d0>"
            ]
          },
          "metadata": {},
          "execution_count": 219
        },
        {
          "output_type": "display_data",
          "data": {
            "text/plain": [
              "<Figure size 432x288 with 1 Axes>"
            ],
            "image/png": "[encoded data removed]"
          },
          "metadata": {
            "needs_background": "light"
          }
        }
      ]
    },
    {
      "cell_type": "code",
      "source": [
        "# df2 = df[\"bmi\"].mean()\n",
        "# df2"
      ],
      "metadata": {
        "id": "aLkoF7SIvNGC"
      },
      "id": "aLkoF7SIvNGC",
      "execution_count": 119,
      "outputs": []
    },
    {
      "cell_type": "code",
      "source": [
        "df.describe('bmi').show()"
      ],
      "metadata": {
        "colab": {
          "base_uri": "https://localhost:8080/"
        },
        "id": "l-P7RTxfo_1v",
        "outputId": "e7064b1c-3fa5-4b02-d9dc-e8ed36ea75f2"
      },
      "id": "l-P7RTxfo_1v",
      "execution_count": 220,
      "outputs": [
        {
          "output_type": "stream",
          "name": "stdout",
          "text": [
            "+-------+------------------+\n",
            "|summary|               bmi|\n",
            "+-------+------------------+\n",
            "|  count|              4795|\n",
            "|   mean|29.140855057351413|\n",
            "| stddev| 7.765248721877016|\n",
            "|    min|              11.3|\n",
            "|    max|              97.6|\n",
            "+-------+------------------+\n",
            "\n"
          ]
        }
      ]
    },
    {
      "cell_type": "code",
      "source": [
        "df = df.na.fill(df2, subset=['bmi'])"
      ],
      "metadata": {
        "id": "SIwhL7yvo1N3"
      },
      "id": "SIwhL7yvo1N3",
      "execution_count": 221,
      "outputs": []
    },
    {
      "cell_type": "code",
      "source": [
        "df.show()"
      ],
      "metadata": {
        "colab": {
          "base_uri": "https://localhost:8080/"
        },
        "id": "gU68TdGw4C6q",
        "outputId": "8d03be1d-7482-4072-ee8f-5995541fc1fe"
      },
      "id": "gU68TdGw4C6q",
      "execution_count": 222,
      "outputs": [
        {
          "output_type": "stream",
          "name": "stdout",
          "text": [
            "+-----+------+----+------------+-------------+------------+-------------+--------------+-----------------+------------------+--------------+------+\n",
            "|   id|gender| age|hypertension|heart_disease|ever_married|    work_type|Residence_type|avg_glucose_level|               bmi|smoking_status|stroke|\n",
            "+-----+------+----+------------+-------------+------------+-------------+--------------+-----------------+------------------+--------------+------+\n",
            "| 9046|     1|67.0|           0|            1|         Yes|      Private|         Urban|           228.69|              36.6|          0.75|     1|\n",
            "|51676|     0|61.0|           0|            0|         Yes|Self-employed|         Rural|           202.21|29.140855057351413|           0.0|     1|\n",
            "|31112|     1|80.0|           0|            1|         Yes|      Private|         Rural|           105.92|              32.5|           0.0|     1|\n",
            "|60182|     0|49.0|           0|            0|         Yes|      Private|         Urban|           171.23|              34.4|           1.0|     1|\n",
            "| 1665|     0|79.0|           1|            0|         Yes|Self-employed|         Rural|           174.12|              24.0|           0.0|     1|\n",
            "|56669|     1|81.0|           0|            0|         Yes|      Private|         Urban|           186.21|              29.0|          0.75|     1|\n",
            "|53882|     1|74.0|           1|            1|         Yes|      Private|         Rural|            70.09|              27.4|           0.0|     1|\n",
            "|10434|     0|69.0|           0|            0|          No|      Private|         Urban|            94.39|              22.8|           0.0|     1|\n",
            "|27419|     0|59.0|           0|            0|         Yes|      Private|         Rural|            76.15|29.140855057351413|           0.5|     1|\n",
            "|60491|     0|78.0|           0|            0|         Yes|      Private|         Urban|            58.57|              24.2|           0.5|     1|\n",
            "|12109|     0|81.0|           1|            0|         Yes|      Private|         Rural|            80.43|              29.7|           0.0|     1|\n",
            "|12095|     0|61.0|           0|            1|         Yes|     Govt_job|         Rural|           120.46|              36.8|           1.0|     1|\n",
            "|12175|     0|54.0|           0|            0|         Yes|      Private|         Urban|           104.51|              27.3|           1.0|     1|\n",
            "| 8213|     1|78.0|           0|            1|         Yes|      Private|         Urban|           219.84|29.140855057351413|           0.5|     1|\n",
            "| 5317|     0|79.0|           0|            1|         Yes|      Private|         Urban|           214.09|              28.2|           0.0|     1|\n",
            "|58202|     0|50.0|           1|            0|         Yes|Self-employed|         Rural|           167.41|              30.9|           0.0|     1|\n",
            "|56112|     1|64.0|           0|            1|         Yes|      Private|         Urban|           191.61|              37.5|           1.0|     1|\n",
            "|34120|     1|75.0|           1|            0|         Yes|      Private|         Urban|           221.29|              25.8|           1.0|     1|\n",
            "|27458|     0|60.0|           0|            0|          No|      Private|         Urban|            89.22|              37.8|           0.0|     1|\n",
            "|25226|     1|57.0|           0|            1|          No|     Govt_job|         Urban|           217.08|29.140855057351413|           0.5|     1|\n",
            "+-----+------+----+------------+-------------+------------+-------------+--------------+-----------------+------------------+--------------+------+\n",
            "only showing top 20 rows\n",
            "\n"
          ]
        }
      ]
    },
    {
      "cell_type": "code",
      "source": [
        "df.select([count(when(isnull(c), c)).alias(c) for c in df.columns]).show()"
      ],
      "metadata": {
        "colab": {
          "base_uri": "https://localhost:8080/"
        },
        "id": "HQ7_0kE5o1Lj",
        "outputId": "3eefe8ec-afd4-4937-9668-d3fa92b1a61f"
      },
      "id": "HQ7_0kE5o1Lj",
      "execution_count": 223,
      "outputs": [
        {
          "output_type": "stream",
          "name": "stdout",
          "text": [
            "+---+------+---+------------+-------------+------------+---------+--------------+-----------------+---+--------------+------+\n",
            "| id|gender|age|hypertension|heart_disease|ever_married|work_type|Residence_type|avg_glucose_level|bmi|smoking_status|stroke|\n",
            "+---+------+---+------------+-------------+------------+---------+--------------+-----------------+---+--------------+------+\n",
            "|  0|     0|  0|           0|            0|           0|        0|             0|                0|  0|             0|     0|\n",
            "+---+------+---+------------+-------------+------------+---------+--------------+-----------------+---+--------------+------+\n",
            "\n"
          ]
        }
      ]
    },
    {
      "cell_type": "markdown",
      "id": "053c429a",
      "metadata": {
        "id": "053c429a"
      },
      "source": [
        "### Split the data into training and test dataframes:\n",
        "- 80% training and 20% test.\n",
        "- seed = 42.\n",
        "- Save each dataframe as a parquet file"
      ]
    },
    {
      "cell_type": "code",
      "execution_count": 285,
      "id": "0236ea8b",
      "metadata": {
        "id": "0236ea8b"
      },
      "outputs": [],
      "source": [
        "df_train, df_test = df.randomSplit([0.8, 0.2], seed = 42)"
      ]
    },
    {
      "cell_type": "markdown",
      "id": "78fa24da",
      "metadata": {
        "id": "78fa24da"
      },
      "source": [
        "### Read the saved Train and Test DataFrame:\n",
        "- Use the dataframes you read in the subsequent steps."
      ]
    },
    {
      "cell_type": "code",
      "execution_count": 286,
      "id": "c3f5c1e3",
      "metadata": {
        "id": "c3f5c1e3"
      },
      "outputs": [],
      "source": [
        "df.write.parquet(\"datasets1/train.parquet\")\n",
        "df.write.parquet(\"datasets1/test.parquet\")"
      ]
    },
    {
      "cell_type": "code",
      "source": [
        "print(f\"There are {df_train.count()} rows in the training set, and {df_test.count()} in the test set\")"
      ],
      "metadata": {
        "colab": {
          "base_uri": "https://localhost:8080/"
        },
        "id": "UYrIG5nRrCn-",
        "outputId": "22b2ae06-8d16-425e-a790-8aad0e511882"
      },
      "id": "UYrIG5nRrCn-",
      "execution_count": 287,
      "outputs": [
        {
          "output_type": "stream",
          "name": "stdout",
          "text": [
            "There are 4037 rows in the training set, and 953 in the test set\n"
          ]
        }
      ]
    },
    {
      "cell_type": "markdown",
      "id": "987b4b40",
      "metadata": {
        "id": "987b4b40"
      },
      "source": [
        "### Create the model:\n",
        "- Perform feature engineering steps.\n",
        "- Create the logistic regression classifier.\n",
        "- Build the pipeline model that uses all feature engineering steps and the model.\n",
        "- Train the pipeline model using the trainig dataset."
      ]
    },
    {
      "cell_type": "code",
      "execution_count": 288,
      "id": "3278e362",
      "metadata": {
        "id": "3278e362"
      },
      "outputs": [],
      "source": [
        "df_train = df_train.drop('id')\n",
        "df_test = df_test.drop('id')"
      ]
    },
    {
      "cell_type": "code",
      "source": [
        "cat_cols = [field for (field, dataType) in df_train.dtypes\n",
        "                  if dataType == 'string']\n",
        "cat_cols"
      ],
      "metadata": {
        "colab": {
          "base_uri": "https://localhost:8080/"
        },
        "id": "RgPDii97xAzf",
        "outputId": "b6331f84-5ba4-4e4d-fea5-15aacf5c0baf"
      },
      "id": "RgPDii97xAzf",
      "execution_count": 289,
      "outputs": [
        {
          "output_type": "execute_result",
          "data": {
            "text/plain": [
              "['ever_married', 'work_type', 'Residence_type']"
            ]
          },
          "metadata": {},
          "execution_count": 289
        }
      ]
    },
    {
      "cell_type": "code",
      "source": [
        "index_cols = [x + \"_Index\" for x in cat_cols]\n",
        "index_cols"
      ],
      "metadata": {
        "colab": {
          "base_uri": "https://localhost:8080/"
        },
        "id": "MGvJYTkixIbm",
        "outputId": "dc091454-384e-4ed8-d9bf-b6dbd8a45223"
      },
      "id": "MGvJYTkixIbm",
      "execution_count": 290,
      "outputs": [
        {
          "output_type": "execute_result",
          "data": {
            "text/plain": [
              "['ever_married_Index', 'work_type_Index', 'Residence_type_Index']"
            ]
          },
          "metadata": {},
          "execution_count": 290
        }
      ]
    },
    {
      "cell_type": "code",
      "execution_count": 291,
      "id": "4e41b352",
      "metadata": {
        "colab": {
          "base_uri": "https://localhost:8080/"
        },
        "id": "4e41b352",
        "outputId": "85752f04-a025-43e6-eebf-683d0759be4f"
      },
      "outputs": [
        {
          "output_type": "execute_result",
          "data": {
            "text/plain": [
              "['ever_married_OHE', 'work_type_OHE', 'Residence_type_OHE']"
            ]
          },
          "metadata": {},
          "execution_count": 291
        }
      ],
      "source": [
        "oheOutputCols = [x + \"_OHE\" for x in cat_cols]\n",
        "oheOutputCols"
      ]
    },
    {
      "cell_type": "code",
      "source": [
        "from pyspark.ml.evaluation import MulticlassClassificationEvaluator,BinaryClassificationEvaluator\n",
        "from pyspark.ml.classification import RandomForestClassifier\n",
        "from pyspark.ml.pipeline import Pipeline\n",
        "from pyspark.ml.feature import StringIndexer\n",
        "from pyspark.ml.feature import OneHotEncoder\n",
        "from pyspark.ml.feature import VectorAssembler , Imputer"
      ],
      "metadata": {
        "id": "h0ogqwZtxnFL"
      },
      "id": "h0ogqwZtxnFL",
      "execution_count": 292,
      "outputs": []
    },
    {
      "cell_type": "code",
      "source": [
        "vector_input=index_cols+oheOutputCols"
      ],
      "metadata": {
        "id": "RBLvX_9N0FW4"
      },
      "id": "RBLvX_9N0FW4",
      "execution_count": 293,
      "outputs": []
    },
    {
      "cell_type": "code",
      "source": [
        "stringIndexer = StringIndexer(inputCols=cat_cols,\n",
        "                             outputCols=index_cols,\n",
        "                             handleInvalid='skip')\n",
        "oheEncoder = OneHotEncoder(inputCols=index_cols,\n",
        "                          outputCols=oheOutputCols)\n",
        "\n",
        "vector_assembler = VectorAssembler(inputCols=vector_input,\n",
        "                                   outputCol=\"features\")"
      ],
      "metadata": {
        "id": "CP3TAYSGrMXn"
      },
      "id": "CP3TAYSGrMXn",
      "execution_count": 294,
      "outputs": []
    },
    {
      "cell_type": "code",
      "source": [
        "numericCols = [field for (field,dataType) in df_train.dtypes\n",
        "              if (((dataType=='double') | (dataType=='int')) & (field!='stroke') )]\n",
        "numericCols"
      ],
      "metadata": {
        "colab": {
          "base_uri": "https://localhost:8080/"
        },
        "id": "oF3UXmxRrMUP",
        "outputId": "189c7f1e-a6a1-42b7-a580-54f860029c2f"
      },
      "id": "oF3UXmxRrMUP",
      "execution_count": 295,
      "outputs": [
        {
          "output_type": "execute_result",
          "data": {
            "text/plain": [
              "['gender',\n",
              " 'age',\n",
              " 'hypertension',\n",
              " 'heart_disease',\n",
              " 'avg_glucose_level',\n",
              " 'bmi',\n",
              " 'smoking_status']"
            ]
          },
          "metadata": {},
          "execution_count": 295
        }
      ]
    },
    {
      "cell_type": "code",
      "source": [
        "from pyspark.ml.classification import LogisticRegression\n",
        "from pyspark.ml import Pipeline"
      ],
      "metadata": {
        "id": "AafH2lH10ld0"
      },
      "id": "AafH2lH10ld0",
      "execution_count": 296,
      "outputs": []
    },
    {
      "cell_type": "code",
      "source": [
        "lr = LogisticRegression(featuresCol = 'features', labelCol = 'stroke', maxIter=20)"
      ],
      "metadata": {
        "id": "y1yefiotrQu4"
      },
      "id": "y1yefiotrQu4",
      "execution_count": 297,
      "outputs": []
    },
    {
      "cell_type": "code",
      "source": [
        "pipeline =Pipeline(stages = [stringIndexer, oheEncoder, vector_assembler, lr])"
      ],
      "metadata": {
        "id": "NdxcTmyerdty"
      },
      "id": "NdxcTmyerdty",
      "execution_count": 298,
      "outputs": []
    },
    {
      "cell_type": "code",
      "source": [
        "pipeline_model = pipeline.fit(df_train)"
      ],
      "metadata": {
        "id": "zBLyRXdnrdqW"
      },
      "id": "zBLyRXdnrdqW",
      "execution_count": 299,
      "outputs": []
    },
    {
      "cell_type": "markdown",
      "id": "a05c2677",
      "metadata": {
        "id": "a05c2677"
      },
      "source": [
        "### Perform predictions on tests dataframe:\n",
        "- Test the model using the test dataframe\n",
        "- Select and show the feature column.\n",
        "- Print the schema of the output dataframe.\n",
        "- Select and show both prediction and label columns.\n",
        "- Explore the results for the label column stroke=1. i.e. select both columns (prediction,stroke) for stroke=1.<b>notice the result.</b> \n",
        "- Count the predicted 1 and 0 values.<b>notice the result.</b>   "
      ]
    },
    {
      "cell_type": "code",
      "execution_count": 300,
      "id": "d772bef6",
      "metadata": {
        "id": "d772bef6"
      },
      "outputs": [],
      "source": [
        "df_predict = pipeline_model.transform(df_test)"
      ]
    },
    {
      "cell_type": "code",
      "source": [
        "df_predict.select('features').show(truncate=False)"
      ],
      "metadata": {
        "colab": {
          "base_uri": "https://localhost:8080/"
        },
        "id": "cZTxu4621SUX",
        "outputId": "a7a299cb-53de-4904-f835-753fc8163fa8"
      },
      "id": "cZTxu4621SUX",
      "execution_count": 301,
      "outputs": [
        {
          "output_type": "stream",
          "name": "stdout",
          "text": [
            "+-------------------------------+\n",
            "|features                       |\n",
            "+-------------------------------+\n",
            "|(9,[3,4,8],[1.0,1.0,1.0])      |\n",
            "|(9,[0,4,8],[1.0,1.0,1.0])      |\n",
            "|(9,[2,3,4],[1.0,1.0,1.0])      |\n",
            "|(9,[2,3,4],[1.0,1.0,1.0])      |\n",
            "|(9,[3,4,8],[1.0,1.0,1.0])      |\n",
            "|(9,[2,3,4],[1.0,1.0,1.0])      |\n",
            "|(9,[1,2,3,5],[1.0,1.0,1.0,1.0])|\n",
            "|(9,[1,3,5,8],[1.0,1.0,1.0,1.0])|\n",
            "|(9,[0,1,2,7],[1.0,3.0,1.0,1.0])|\n",
            "|(9,[2,3,4],[1.0,1.0,1.0])      |\n",
            "|(9,[1,2,3,6],[2.0,1.0,1.0,1.0])|\n",
            "|(9,[0,2,4],[1.0,1.0,1.0])      |\n",
            "|(9,[0,2,4],[1.0,1.0,1.0])      |\n",
            "|(9,[1,2,3,5],[1.0,1.0,1.0,1.0])|\n",
            "|(9,[2,3,4],[1.0,1.0,1.0])      |\n",
            "|(9,[1,3,6,8],[2.0,1.0,1.0,1.0])|\n",
            "|(9,[0,4,8],[1.0,1.0,1.0])      |\n",
            "|(9,[3,4,8],[1.0,1.0,1.0])      |\n",
            "|(9,[1,3,6,8],[2.0,1.0,1.0,1.0])|\n",
            "|(9,[0,4,8],[1.0,1.0,1.0])      |\n",
            "+-------------------------------+\n",
            "only showing top 20 rows\n",
            "\n"
          ]
        }
      ]
    },
    {
      "cell_type": "code",
      "execution_count": 302,
      "id": "3ea267eb",
      "metadata": {
        "colab": {
          "base_uri": "https://localhost:8080/"
        },
        "id": "3ea267eb",
        "outputId": "b059e69f-8433-4a0d-890a-0949c479d468"
      },
      "outputs": [
        {
          "output_type": "stream",
          "name": "stdout",
          "text": [
            "root\n",
            " |-- gender: integer (nullable = true)\n",
            " |-- age: double (nullable = true)\n",
            " |-- hypertension: integer (nullable = true)\n",
            " |-- heart_disease: integer (nullable = true)\n",
            " |-- ever_married: string (nullable = true)\n",
            " |-- work_type: string (nullable = true)\n",
            " |-- Residence_type: string (nullable = true)\n",
            " |-- avg_glucose_level: double (nullable = true)\n",
            " |-- bmi: double (nullable = false)\n",
            " |-- smoking_status: double (nullable = true)\n",
            " |-- stroke: integer (nullable = true)\n",
            " |-- ever_married_Index: double (nullable = false)\n",
            " |-- work_type_Index: double (nullable = false)\n",
            " |-- Residence_type_Index: double (nullable = false)\n",
            " |-- ever_married_OHE: vector (nullable = true)\n",
            " |-- work_type_OHE: vector (nullable = true)\n",
            " |-- Residence_type_OHE: vector (nullable = true)\n",
            " |-- features: vector (nullable = true)\n",
            " |-- rawPrediction: vector (nullable = true)\n",
            " |-- probability: vector (nullable = true)\n",
            " |-- prediction: double (nullable = false)\n",
            "\n"
          ]
        }
      ],
      "source": [
        "df_predict.printSchema()"
      ]
    },
    {
      "cell_type": "code",
      "execution_count": 303,
      "id": "480d892e",
      "metadata": {
        "scrolled": false,
        "colab": {
          "base_uri": "https://localhost:8080/"
        },
        "id": "480d892e",
        "outputId": "0e5cef08-7a9e-4180-ec21-b7b8f93cfb65"
      },
      "outputs": [
        {
          "output_type": "stream",
          "name": "stdout",
          "text": [
            "+------+----------+\n",
            "|stroke|prediction|\n",
            "+------+----------+\n",
            "|     1|       0.0|\n",
            "|     1|       0.0|\n",
            "|     1|       0.0|\n",
            "|     1|       0.0|\n",
            "|     1|       0.0|\n",
            "|     1|       0.0|\n",
            "|     1|       0.0|\n",
            "|     1|       0.0|\n",
            "|     1|       0.0|\n",
            "|     1|       0.0|\n",
            "|     1|       0.0|\n",
            "|     1|       0.0|\n",
            "|     1|       0.0|\n",
            "|     1|       0.0|\n",
            "|     1|       0.0|\n",
            "|     1|       0.0|\n",
            "|     1|       0.0|\n",
            "|     1|       0.0|\n",
            "|     1|       0.0|\n",
            "|     1|       0.0|\n",
            "+------+----------+\n",
            "only showing top 20 rows\n",
            "\n"
          ]
        }
      ],
      "source": [
        "df_predict.select('stroke','prediction').where(df_predict['stroke'] == 1).show()"
      ]
    },
    {
      "cell_type": "code",
      "source": [
        "df_predict.groupBy('prediction').count().show()"
      ],
      "metadata": {
        "colab": {
          "base_uri": "https://localhost:8080/"
        },
        "id": "Fr02YFkxr3EZ",
        "outputId": "122d518d-387c-4781-c821-1218b6d7f615"
      },
      "id": "Fr02YFkxr3EZ",
      "execution_count": 304,
      "outputs": [
        {
          "output_type": "stream",
          "name": "stdout",
          "text": [
            "+----------+-----+\n",
            "|prediction|count|\n",
            "+----------+-----+\n",
            "|       0.0|  953|\n",
            "+----------+-----+\n",
            "\n"
          ]
        }
      ]
    },
    {
      "cell_type": "markdown",
      "id": "daec120f",
      "metadata": {
        "id": "daec120f"
      },
      "source": [
        "### Evaluate the model performance\n",
        "- Use <b>BinaryClassificationEvaluator</b>. This will calculate the <b>ROC</b>.\n",
        "- Set the parameters as follow:\n",
        "    - <b>rawPredictionCol='prediction'</b> and <b>labelCol='stroke'</b>"
      ]
    },
    {
      "cell_type": "code",
      "execution_count": 305,
      "id": "a7b5ad25",
      "metadata": {
        "id": "a7b5ad25"
      },
      "outputs": [],
      "source": [
        "from pyspark.ml.evaluation import BinaryClassificationEvaluator"
      ]
    },
    {
      "cell_type": "code",
      "execution_count": 306,
      "id": "44d3a1e6",
      "metadata": {
        "id": "44d3a1e6"
      },
      "outputs": [],
      "source": [
        "evaluatorROC = BinaryClassificationEvaluator(rawPredictionCol='prediction'\n",
        "                                             ,labelCol='stroke')"
      ]
    },
    {
      "cell_type": "code",
      "execution_count": 307,
      "id": "3adbe41f",
      "metadata": {
        "colab": {
          "base_uri": "https://localhost:8080/"
        },
        "id": "3adbe41f",
        "outputId": "f55d49b2-6211-43b5-ffb8-ce1b59f90b34"
      },
      "outputs": [
        {
          "output_type": "execute_result",
          "data": {
            "text/plain": [
              "0.5"
            ]
          },
          "metadata": {},
          "execution_count": 307
        }
      ],
      "source": [
        "evaluatorROC.evaluate(df_predict)"
      ]
    },
    {
      "cell_type": "markdown",
      "id": "40206589",
      "metadata": {
        "id": "40206589"
      },
      "source": [
        "### Improve Model Performance\n",
        "- You may noticed that <b>the target label is imbalanced</b>.\n",
        "- LogisticRegression classifier has a special parameter <b>weightCol</b> to deal with imbalanced class.\n",
        "- In order to use this parameter you must have a <b>weightCol</b> in your training dataframe.\n",
        "- In order to create this column you will need to define a <b>UDF</b> and apply it to the target label column.\n",
        "- Create a LogisticRegression classifier with <b>weightCol</b> parameter.\n",
        "- Build and train a pipeline model with the new LogisticRegression.\n",
        "- Perform the prediction on the test dataframe. \n",
        "- Select and show both prediction and label columns.\n",
        "- Explore the results for the label column stroke=1. i.e. select both columns (prediction,stroke) for stroke=1.<b>notice the result.</b> \n",
        "- Count the predicted 1 and 0 values.<b>notice the result.</b>   \n",
        "- Evaluate the model performance exactly as in the previous step.\n",
        "### YOU SHOULD OBTAIN  ROC > 0.65\n",
        "<BR>\n",
        "<b><font color='red'>Note: feel free to deal with the imbalanced cluster with the above method or another. However, you can only use methods applied on SPARK DATAFRAME</font></b>"
      ]
    },
    {
      "cell_type": "code",
      "source": [
        "ratio = df.where(df['stroke'] == 0).count() / df.count()\n",
        "ratio"
      ],
      "metadata": {
        "colab": {
          "base_uri": "https://localhost:8080/"
        },
        "id": "SiP0lHv9r-kc",
        "outputId": "08528e7d-a4f2-45f4-8b46-9b52d1bcf60f"
      },
      "id": "SiP0lHv9r-kc",
      "execution_count": 308,
      "outputs": [
        {
          "output_type": "execute_result",
          "data": {
            "text/plain": [
              "0.9503006012024048"
            ]
          },
          "metadata": {},
          "execution_count": 308
        }
      ]
    },
    {
      "cell_type": "code",
      "source": [
        "def weight_balance(labels):\n",
        "    return f.when(labels == 1, ratio).otherwise(1*(1-ratio))\n",
        "\n",
        "train = df_train.withColumn('weightCol', weight_balance(f.col('stroke')))\n",
        "test = df_test.withColumn('weightCol', weight_balance(f.col('stroke')))"
      ],
      "metadata": {
        "id": "LS0btkEMr-YX"
      },
      "id": "LS0btkEMr-YX",
      "execution_count": 309,
      "outputs": []
    },
    {
      "cell_type": "code",
      "source": [
        "train.select('stroke', 'weightCol').show(20)"
      ],
      "metadata": {
        "colab": {
          "base_uri": "https://localhost:8080/"
        },
        "id": "dBpnHEdCsCCi",
        "outputId": "258cb688-4004-4643-8448-1ded55d109dc"
      },
      "id": "dBpnHEdCsCCi",
      "execution_count": 310,
      "outputs": [
        {
          "output_type": "stream",
          "name": "stdout",
          "text": [
            "+------+-------------------+\n",
            "|stroke|          weightCol|\n",
            "+------+-------------------+\n",
            "|     0|0.04969939879759522|\n",
            "|     0|0.04969939879759522|\n",
            "|     0|0.04969939879759522|\n",
            "|     0|0.04969939879759522|\n",
            "|     0|0.04969939879759522|\n",
            "|     0|0.04969939879759522|\n",
            "|     0|0.04969939879759522|\n",
            "|     0|0.04969939879759522|\n",
            "|     0|0.04969939879759522|\n",
            "|     0|0.04969939879759522|\n",
            "|     1| 0.9503006012024048|\n",
            "|     0|0.04969939879759522|\n",
            "|     0|0.04969939879759522|\n",
            "|     0|0.04969939879759522|\n",
            "|     0|0.04969939879759522|\n",
            "|     0|0.04969939879759522|\n",
            "|     0|0.04969939879759522|\n",
            "|     0|0.04969939879759522|\n",
            "|     0|0.04969939879759522|\n",
            "|     0|0.04969939879759522|\n",
            "+------+-------------------+\n",
            "only showing top 20 rows\n",
            "\n"
          ]
        }
      ]
    },
    {
      "cell_type": "code",
      "execution_count": 311,
      "id": "00e034e9",
      "metadata": {
        "id": "00e034e9"
      },
      "outputs": [],
      "source": [
        "lr2 = LogisticRegression(featuresCol = 'features', labelCol = 'stroke', weightCol='weightCol' , maxIter= 15)"
      ]
    },
    {
      "cell_type": "code",
      "execution_count": 312,
      "id": "66efa0c6",
      "metadata": {
        "id": "66efa0c6"
      },
      "outputs": [],
      "source": [
        "pipeline =Pipeline(stages = [stringIndexer, oheEncoder, vector_assembler, lr2])"
      ]
    },
    {
      "cell_type": "code",
      "source": [
        "pipeline_model = pipeline.fit(train)"
      ],
      "metadata": {
        "id": "C6LsecD9sI0Y"
      },
      "id": "C6LsecD9sI0Y",
      "execution_count": 313,
      "outputs": []
    },
    {
      "cell_type": "code",
      "source": [
        "df_predict = pipeline_model.transform(test)"
      ],
      "metadata": {
        "id": "HkyEoUfE3eMt"
      },
      "id": "HkyEoUfE3eMt",
      "execution_count": 314,
      "outputs": []
    },
    {
      "cell_type": "code",
      "source": [
        "evaluatorROC.evaluate(df_predict)"
      ],
      "metadata": {
        "colab": {
          "base_uri": "https://localhost:8080/"
        },
        "id": "6-b9YL0JsIw-",
        "outputId": "59caade7-8439-4594-b74c-793a6bacaac0"
      },
      "id": "6-b9YL0JsIw-",
      "execution_count": 315,
      "outputs": [
        {
          "output_type": "execute_result",
          "data": {
            "text/plain": [
              "0.6176477637697138"
            ]
          },
          "metadata": {},
          "execution_count": 315
        }
      ]
    },
    {
      "cell_type": "code",
      "source": [
        "df_predict.select('stroke','prediction').show()"
      ],
      "metadata": {
        "colab": {
          "base_uri": "https://localhost:8080/"
        },
        "id": "596bnzpnsIt_",
        "outputId": "eac58e6c-3112-40ee-a168-521d9a390eb6"
      },
      "id": "596bnzpnsIt_",
      "execution_count": 316,
      "outputs": [
        {
          "output_type": "stream",
          "name": "stdout",
          "text": [
            "+------+----------+\n",
            "|stroke|prediction|\n",
            "+------+----------+\n",
            "|     0|       1.0|\n",
            "|     0|       0.0|\n",
            "|     0|       1.0|\n",
            "|     0|       1.0|\n",
            "|     0|       1.0|\n",
            "|     0|       1.0|\n",
            "|     0|       1.0|\n",
            "|     1|       1.0|\n",
            "|     0|       0.0|\n",
            "|     0|       1.0|\n",
            "|     0|       1.0|\n",
            "|     1|       0.0|\n",
            "|     0|       0.0|\n",
            "|     0|       1.0|\n",
            "|     0|       1.0|\n",
            "|     0|       1.0|\n",
            "|     0|       0.0|\n",
            "|     0|       1.0|\n",
            "|     0|       1.0|\n",
            "|     0|       0.0|\n",
            "+------+----------+\n",
            "only showing top 20 rows\n",
            "\n"
          ]
        }
      ]
    },
    {
      "cell_type": "code",
      "source": [
        "df_predict.select('stroke','prediction').where(df_predict['stroke'] == 1).show()"
      ],
      "metadata": {
        "colab": {
          "base_uri": "https://localhost:8080/"
        },
        "id": "ERPL5k0Fsk9T",
        "outputId": "5f0bc5b8-7c53-4282-81fc-353dea05a6cd"
      },
      "id": "ERPL5k0Fsk9T",
      "execution_count": 317,
      "outputs": [
        {
          "output_type": "stream",
          "name": "stdout",
          "text": [
            "+------+----------+\n",
            "|stroke|prediction|\n",
            "+------+----------+\n",
            "|     1|       1.0|\n",
            "|     1|       0.0|\n",
            "|     1|       0.0|\n",
            "|     1|       1.0|\n",
            "|     1|       1.0|\n",
            "|     1|       1.0|\n",
            "|     1|       1.0|\n",
            "|     1|       1.0|\n",
            "|     1|       1.0|\n",
            "|     1|       1.0|\n",
            "|     1|       1.0|\n",
            "|     1|       1.0|\n",
            "|     1|       1.0|\n",
            "|     1|       1.0|\n",
            "|     1|       1.0|\n",
            "|     1|       1.0|\n",
            "|     1|       1.0|\n",
            "|     1|       0.0|\n",
            "|     1|       1.0|\n",
            "|     1|       1.0|\n",
            "+------+----------+\n",
            "only showing top 20 rows\n",
            "\n"
          ]
        }
      ]
    },
    {
      "cell_type": "code",
      "source": [
        "df_predict.groupBy('prediction').count().show()"
      ],
      "metadata": {
        "colab": {
          "base_uri": "https://localhost:8080/"
        },
        "id": "cRlOF8Rwsk58",
        "outputId": "d78e1218-d870-476e-ad8d-9fd02e258961"
      },
      "id": "cRlOF8Rwsk58",
      "execution_count": 318,
      "outputs": [
        {
          "output_type": "stream",
          "name": "stdout",
          "text": [
            "+----------+-----+\n",
            "|prediction|count|\n",
            "+----------+-----+\n",
            "|       0.0|  317|\n",
            "|       1.0|  636|\n",
            "+----------+-----+\n",
            "\n"
          ]
        }
      ]
    },
    {
      "cell_type": "code",
      "execution_count": 319,
      "id": "4e8c18b5",
      "metadata": {
        "colab": {
          "base_uri": "https://localhost:8080/"
        },
        "id": "4e8c18b5",
        "outputId": "bb690bb3-fede-450a-90a3-ae679021ef16"
      },
      "outputs": [
        {
          "output_type": "execute_result",
          "data": {
            "text/plain": [
              "0.6176477637697138"
            ]
          },
          "metadata": {},
          "execution_count": 319
        }
      ],
      "source": [
        "evaluatorROC.evaluate(df_predict)"
      ]
    },
    {
      "cell_type": "markdown",
      "id": "e00e7b53",
      "metadata": {
        "id": "e00e7b53"
      },
      "source": [
        "# GOOD LUCK\n",
        "<b><font color='GREEN'>AI-PRO Spark Team ITI</font></b>"
      ]
    },
    {
      "cell_type": "markdown",
      "id": "0e065922",
      "metadata": {
        "id": "0e065922"
      },
      "source": [
        "![image-3.png](attachment:image-3.png)"
      ]
    }
  ],
  "metadata": {
    "kernelspec": {
      "display_name": "Python 3 (ipykernel)",
      "language": "python",
      "name": "python3"
    },
    "language_info": {
      "codemirror_mode": {
        "name": "ipython",
        "version": 3
      },
      "file_extension": ".py",
      "mimetype": "text/x-python",
      "name": "python",
      "nbconvert_exporter": "python",
      "pygments_lexer": "ipython3",
      "version": "3.9.12"
    },
    "colab": {
      "name": "Mohamed Ibrahem Spark and Python for Big Data Final Exam.ipynb",
      "provenance": [],
      "collapsed_sections": []
    },
    "accelerator": "GPU",
    "gpuClass": "standard"
  },
  "nbformat": 4,
  "nbformat_minor": 5
}