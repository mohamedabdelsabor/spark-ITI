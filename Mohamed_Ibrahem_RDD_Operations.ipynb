{
  "cells": [
    {
      "cell_type": "markdown",
      "id": "2568221b",
      "metadata": {
        "id": "2568221b"
      },
      "source": [
        "### Import the required libraries then Create SparkContext"
      ]
    },
    {
      "cell_type": "code",
      "source": [
        "!pip install pyspark"
      ],
      "metadata": {
        "colab": {
          "base_uri": "https://localhost:8080/"
        },
        "id": "E2p1VyRMwM0j",
        "outputId": "8560b90e-1607-43e5-e01c-e8393680d488"
      },
      "id": "E2p1VyRMwM0j",
      "execution_count": 9,
      "outputs": [
        {
          "output_type": "stream",
          "name": "stdout",
          "text": [
            "Looking in indexes: https://pypi.org/simple, https://us-python.pkg.dev/colab-wheels/public/simple/\n",
            "Collecting pyspark\n",
            "  Downloading pyspark-3.3.0.tar.gz (281.3 MB)\n",
            "\u001b[K     |████████████████████████████████| 281.3 MB 46 kB/s \n",
            "\u001b[?25hCollecting py4j==0.10.9.5\n",
            "  Downloading py4j-0.10.9.5-py2.py3-none-any.whl (199 kB)\n",
            "\u001b[K     |████████████████████████████████| 199 kB 41.7 MB/s \n",
            "\u001b[?25hBuilding wheels for collected packages: pyspark\n",
            "  Building wheel for pyspark (setup.py) ... \u001b[?25l\u001b[?25hdone\n",
            "  Created wheel for pyspark: filename=pyspark-3.3.0-py2.py3-none-any.whl size=281764026 sha256=ca5fe3ab2321f18914b3f8af7c9e02012beb8abcd92fdae93e982a732c9da07e\n",
            "  Stored in directory: /root/.cache/pip/wheels/7a/8e/1b/f73a52650d2e5f337708d9f6a1750d451a7349a867f928b885\n",
            "Successfully built pyspark\n",
            "Installing collected packages: py4j, pyspark\n",
            "Successfully installed py4j-0.10.9.5 pyspark-3.3.0\n"
          ]
        }
      ]
    },
    {
      "cell_type": "code",
      "source": [
        "!pip install findspark"
      ],
      "metadata": {
        "colab": {
          "base_uri": "https://localhost:8080/"
        },
        "id": "M7NNT-NzwegF",
        "outputId": "c22dc542-201c-4299-c715-ea0dfb86c694"
      },
      "id": "M7NNT-NzwegF",
      "execution_count": 13,
      "outputs": [
        {
          "output_type": "stream",
          "name": "stdout",
          "text": [
            "Looking in indexes: https://pypi.org/simple, https://us-python.pkg.dev/colab-wheels/public/simple/\n",
            "Collecting findspark\n",
            "  Downloading findspark-2.0.1-py2.py3-none-any.whl (4.4 kB)\n",
            "Installing collected packages: findspark\n",
            "Successfully installed findspark-2.0.1\n"
          ]
        }
      ]
    },
    {
      "cell_type": "code",
      "execution_count": 14,
      "id": "65e6978c",
      "metadata": {
        "id": "65e6978c"
      },
      "outputs": [],
      "source": [
        "import pyspark"
      ]
    },
    {
      "cell_type": "code",
      "execution_count": 15,
      "id": "d90f19e0",
      "metadata": {
        "id": "d90f19e0"
      },
      "outputs": [],
      "source": [
        "import findspark\n",
        "findspark.init()"
      ]
    },
    {
      "cell_type": "code",
      "execution_count": 16,
      "id": "b4d4103c",
      "metadata": {
        "id": "b4d4103c"
      },
      "outputs": [],
      "source": [
        "from pyspark import SparkContext\n",
        "sc = SparkContext()"
      ]
    },
    {
      "cell_type": "markdown",
      "id": "e9a7d9c6",
      "metadata": {
        "id": "e9a7d9c6"
      },
      "source": [
        "### Create and display an RDD from the following list"
      ]
    },
    {
      "cell_type": "code",
      "execution_count": 17,
      "id": "409084ef",
      "metadata": {
        "id": "409084ef"
      },
      "outputs": [],
      "source": [
        "list = [('JK', 22), ('V', 24), ('Jimin',24), ('RM', 25), ('J-Hope', 25), ('Suga', 26), ('Jin', 27)]"
      ]
    },
    {
      "cell_type": "code",
      "execution_count": 18,
      "id": "89bfd5b1",
      "metadata": {
        "id": "89bfd5b1"
      },
      "outputs": [],
      "source": [
        "rdd = sc.parallelize(list)"
      ]
    },
    {
      "cell_type": "code",
      "execution_count": 19,
      "id": "d5ba0725",
      "metadata": {
        "scrolled": true,
        "colab": {
          "base_uri": "https://localhost:8080/"
        },
        "id": "d5ba0725",
        "outputId": "a419881e-9fb8-440b-abb1-cf5068a2dc32"
      },
      "outputs": [
        {
          "output_type": "execute_result",
          "data": {
            "text/plain": [
              "[('JK', 22),\n",
              " ('V', 24),\n",
              " ('Jimin', 24),\n",
              " ('RM', 25),\n",
              " ('J-Hope', 25),\n",
              " ('Suga', 26),\n",
              " ('Jin', 27)]"
            ]
          },
          "metadata": {},
          "execution_count": 19
        }
      ],
      "source": [
        "rdd.collect()"
      ]
    },
    {
      "cell_type": "markdown",
      "id": "feedfb38",
      "metadata": {
        "id": "feedfb38"
      },
      "source": [
        "### Read sample1.txt file into RDD and displaying the first 4 elements"
      ]
    },
    {
      "cell_type": "code",
      "execution_count": 23,
      "id": "d857d1b9",
      "metadata": {
        "id": "d857d1b9"
      },
      "outputs": [],
      "source": [
        "text1 = sc.textFile('sample1.txt')"
      ]
    },
    {
      "cell_type": "code",
      "execution_count": 24,
      "id": "b37e13d6",
      "metadata": {
        "colab": {
          "base_uri": "https://localhost:8080/"
        },
        "id": "b37e13d6",
        "outputId": "1e5714bc-83e7-43b5-96f4-8532374db786"
      },
      "outputs": [
        {
          "output_type": "execute_result",
          "data": {
            "text/plain": [
              "['Utilitatis causa amicitia est quaesita.',\n",
              " 'Lorem ipsum dolor sit amet, consectetur adipiscing elit. ',\n",
              " 'Collatio igitur ista te nihil iuvat. Honesta oratio, Socratica, Platonis etiam. Primum in nostrane potestate est, quid meminerimus? ',\n",
              " 'Duo Reges: constructio interrete. ']"
            ]
          },
          "metadata": {},
          "execution_count": 24
        }
      ],
      "source": [
        "text1.take(4)"
      ]
    },
    {
      "cell_type": "markdown",
      "id": "e55ae192",
      "metadata": {
        "id": "e55ae192"
      },
      "source": [
        "### Count the total number of rows in RDD"
      ]
    },
    {
      "cell_type": "code",
      "execution_count": 25,
      "id": "0b3be34e",
      "metadata": {
        "colab": {
          "base_uri": "https://localhost:8080/"
        },
        "id": "0b3be34e",
        "outputId": "d332bfd5-0a30-488a-8b28-cec480b20867"
      },
      "outputs": [
        {
          "output_type": "execute_result",
          "data": {
            "text/plain": [
              "7"
            ]
          },
          "metadata": {},
          "execution_count": 25
        }
      ],
      "source": [
        "text1.count()"
      ]
    },
    {
      "cell_type": "markdown",
      "id": "35652e93",
      "metadata": {
        "id": "35652e93"
      },
      "source": [
        "### Create a function to convert the data into lower case and splitting it"
      ]
    },
    {
      "cell_type": "code",
      "execution_count": 26,
      "id": "a8afb174",
      "metadata": {
        "id": "a8afb174"
      },
      "outputs": [],
      "source": [
        "lower_case = text1.map(lambda x:x.lower()).map(lambda x : x.split())"
      ]
    },
    {
      "cell_type": "code",
      "execution_count": 27,
      "id": "3e8f7f45",
      "metadata": {
        "scrolled": true,
        "colab": {
          "base_uri": "https://localhost:8080/"
        },
        "id": "3e8f7f45",
        "outputId": "9301d500-3781-43d4-c688-f61f41b20433"
      },
      "outputs": [
        {
          "output_type": "execute_result",
          "data": {
            "text/plain": [
              "[['utilitatis', 'causa', 'amicitia', 'est', 'quaesita.'],\n",
              " ['lorem',\n",
              "  'ipsum',\n",
              "  'dolor',\n",
              "  'sit',\n",
              "  'amet,',\n",
              "  'consectetur',\n",
              "  'adipiscing',\n",
              "  'elit.'],\n",
              " ['collatio',\n",
              "  'igitur',\n",
              "  'ista',\n",
              "  'te',\n",
              "  'nihil',\n",
              "  'iuvat.',\n",
              "  'honesta',\n",
              "  'oratio,',\n",
              "  'socratica,',\n",
              "  'platonis',\n",
              "  'etiam.',\n",
              "  'primum',\n",
              "  'in',\n",
              "  'nostrane',\n",
              "  'potestate',\n",
              "  'est,',\n",
              "  'quid',\n",
              "  'meminerimus?'],\n",
              " ['duo', 'reges:', 'constructio', 'interrete.'],\n",
              " ['quid,',\n",
              "  'si',\n",
              "  'etiam',\n",
              "  'iucunda',\n",
              "  'memoria',\n",
              "  'est',\n",
              "  'praeteritorum',\n",
              "  'malorum?',\n",
              "  'si',\n",
              "  'quidem,',\n",
              "  'inquit,',\n",
              "  'tollerem,',\n",
              "  'sed',\n",
              "  'relinquo.',\n",
              "  'an',\n",
              "  'nisi',\n",
              "  'populari',\n",
              "  'fama?'],\n",
              " [],\n",
              " ['quamquam',\n",
              "  'id',\n",
              "  'quidem',\n",
              "  'licebit',\n",
              "  'iis',\n",
              "  'existimare,',\n",
              "  'qui',\n",
              "  'legerint.',\n",
              "  'summum',\n",
              "  'a',\n",
              "  'vobis',\n",
              "  'bonum',\n",
              "  'voluptas',\n",
              "  'dicitur.',\n",
              "  'at',\n",
              "  'hoc',\n",
              "  'in',\n",
              "  'eo',\n",
              "  'm.',\n",
              "  'refert',\n",
              "  'tamen,',\n",
              "  'quo',\n",
              "  'modo.',\n",
              "  'quid',\n",
              "  'sequatur,',\n",
              "  'quid',\n",
              "  'repugnet,',\n",
              "  'vident.',\n",
              "  'iam',\n",
              "  'id',\n",
              "  'ipsum',\n",
              "  'absurdum,',\n",
              "  'maximum',\n",
              "  'malum',\n",
              "  'neglegi.']]"
            ]
          },
          "metadata": {},
          "execution_count": 27
        }
      ],
      "source": [
        "lower_case.collect()"
      ]
    },
    {
      "cell_type": "markdown",
      "id": "4cfa29af",
      "metadata": {
        "id": "4cfa29af"
      },
      "source": [
        "### Filter the stopwords from the previous text"
      ]
    },
    {
      "cell_type": "code",
      "execution_count": 28,
      "id": "97c1e731",
      "metadata": {
        "id": "97c1e731"
      },
      "outputs": [],
      "source": [
        "stopwords = ['a','all','the','as','is','am','an','and',\n",
        "             'be','been','from','had','I','I’d','why','with']\n",
        "# Hint: you may need use flatMap"
      ]
    },
    {
      "cell_type": "code",
      "execution_count": 29,
      "id": "2f2d3657",
      "metadata": {
        "colab": {
          "base_uri": "https://localhost:8080/"
        },
        "id": "2f2d3657",
        "outputId": "b5c33b55-8695-4909-a750-ad81c72a97cc"
      },
      "outputs": [
        {
          "output_type": "execute_result",
          "data": {
            "text/plain": [
              "['an', 'a']"
            ]
          },
          "metadata": {},
          "execution_count": 29
        }
      ],
      "source": [
        "lower_case.flatMap(lambda x : x).filter(lambda x : x in stopwords).collect()"
      ]
    },
    {
      "cell_type": "markdown",
      "id": "eb066a90",
      "metadata": {
        "id": "eb066a90"
      },
      "source": [
        "### Filter the words starting with ‘c’"
      ]
    },
    {
      "cell_type": "code",
      "source": [
        "c = lower_case.flatMap(lambda x : x).filter(lambda x : x[0] == 'c')\n",
        "c.collect()"
      ],
      "metadata": {
        "colab": {
          "base_uri": "https://localhost:8080/"
        },
        "id": "Qb75hqu3yRTP",
        "outputId": "efb3bc22-08d9-4079-ff72-b89cf0c7da8d"
      },
      "id": "Qb75hqu3yRTP",
      "execution_count": 32,
      "outputs": [
        {
          "output_type": "execute_result",
          "data": {
            "text/plain": [
              "['causa', 'consectetur', 'collatio', 'constructio']"
            ]
          },
          "metadata": {},
          "execution_count": 32
        }
      ]
    },
    {
      "cell_type": "markdown",
      "id": "eba39e2e",
      "metadata": {
        "id": "eba39e2e"
      },
      "source": [
        "### Reduce the data by key and sum it (use the data from the following list)"
      ]
    },
    {
      "cell_type": "code",
      "execution_count": 33,
      "id": "f26dea46",
      "metadata": {
        "id": "f26dea46"
      },
      "outputs": [],
      "source": [
        "list = [('JK', 22), ('V', 24), ('Jimin',24), ('RM', 25)\n",
        "        , ('J-Hope', 25), ('Suga', 26), ('Jin', 27)\n",
        "       , ('J-Hope', 12), ('Suga', 25), ('Jin', 34)\n",
        "       , ('JK', 32), ('V', 44), ('Jimin',14), ('RM', 35)]\n",
        "# Hint: use reduceByKey"
      ]
    },
    {
      "cell_type": "code",
      "execution_count": 34,
      "id": "30ae1e1a",
      "metadata": {
        "colab": {
          "base_uri": "https://localhost:8080/"
        },
        "id": "30ae1e1a",
        "outputId": "d5410850-91c5-4587-a720-545d1504f455"
      },
      "outputs": [
        {
          "output_type": "execute_result",
          "data": {
            "text/plain": [
              "[('JK', 22),\n",
              " ('V', 24),\n",
              " ('Jimin', 24),\n",
              " ('RM', 25),\n",
              " ('J-Hope', 25),\n",
              " ('Suga', 26),\n",
              " ('Jin', 27),\n",
              " ('J-Hope', 12),\n",
              " ('Suga', 25),\n",
              " ('Jin', 34),\n",
              " ('JK', 32),\n",
              " ('V', 44),\n",
              " ('Jimin', 14),\n",
              " ('RM', 35)]"
            ]
          },
          "metadata": {},
          "execution_count": 34
        }
      ],
      "source": [
        "par = sc.parallelize(list)\n",
        "s1 = par.map(lambda x : (x[0] , (x[1])))\n",
        "s1.collect()"
      ]
    },
    {
      "cell_type": "code",
      "execution_count": 35,
      "id": "ae8406c3",
      "metadata": {
        "colab": {
          "base_uri": "https://localhost:8080/"
        },
        "id": "ae8406c3",
        "outputId": "4ca17f16-22e1-4ce6-8007-f6f02fac2172"
      },
      "outputs": [
        {
          "output_type": "execute_result",
          "data": {
            "text/plain": [
              "[('Suga', 51),\n",
              " ('Jin', 61),\n",
              " ('JK', 54),\n",
              " ('V', 68),\n",
              " ('Jimin', 38),\n",
              " ('RM', 60),\n",
              " ('J-Hope', 37)]"
            ]
          },
          "metadata": {},
          "execution_count": 35
        }
      ],
      "source": [
        "s2 = s1.reduceByKey(lambda x , y : ( x + y))\n",
        "s2.collect()"
      ]
    },
    {
      "cell_type": "markdown",
      "id": "a4587230",
      "metadata": {
        "id": "a4587230"
      },
      "source": [
        "### Creat some key value pairs RDDs"
      ]
    },
    {
      "cell_type": "code",
      "execution_count": 36,
      "id": "cfb446ee",
      "metadata": {
        "id": "cfb446ee"
      },
      "outputs": [],
      "source": [
        "rdd1 = sc.parallelize([('a',2),('b',3)])\n",
        "rdd2 = sc.parallelize([('a',9),('b',7),('c',10)])"
      ]
    },
    {
      "cell_type": "markdown",
      "id": "98ec3168",
      "metadata": {
        "id": "98ec3168"
      },
      "source": [
        "### Perform Join operation on the RDDs (rdd1,rdd2)"
      ]
    },
    {
      "cell_type": "code",
      "execution_count": 37,
      "id": "c61b5926",
      "metadata": {
        "colab": {
          "base_uri": "https://localhost:8080/"
        },
        "id": "c61b5926",
        "outputId": "09b2cca1-0860-4a54-db41-46fb97d5ce9c"
      },
      "outputs": [
        {
          "output_type": "execute_result",
          "data": {
            "text/plain": [
              "[('b', (3, 7)), ('a', (2, 9))]"
            ]
          },
          "metadata": {},
          "execution_count": 37
        }
      ],
      "source": [
        "rdd1.join(rdd2).collect()"
      ]
    },
    {
      "cell_type": "code",
      "execution_count": null,
      "id": "1f0cce2e",
      "metadata": {
        "id": "1f0cce2e"
      },
      "outputs": [],
      "source": [
        ""
      ]
    }
  ],
  "metadata": {
    "kernelspec": {
      "display_name": "Python 3 (ipykernel)",
      "language": "python",
      "name": "python3"
    },
    "language_info": {
      "codemirror_mode": {
        "name": "ipython",
        "version": 3
      },
      "file_extension": ".py",
      "mimetype": "text/x-python",
      "name": "python",
      "nbconvert_exporter": "python",
      "pygments_lexer": "ipython3",
      "version": "3.10.4"
    },
    "colab": {
      "name": "Mohamed Ibrahem_RDD_Operations.ipynb",
      "provenance": [],
      "collapsed_sections": []
    }
  },
  "nbformat": 4,
  "nbformat_minor": 5
}