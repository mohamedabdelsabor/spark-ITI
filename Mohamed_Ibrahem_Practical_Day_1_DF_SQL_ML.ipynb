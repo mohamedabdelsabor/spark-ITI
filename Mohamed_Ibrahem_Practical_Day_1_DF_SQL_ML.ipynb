{
  "cells": [
    {
      "cell_type": "markdown",
      "id": "05f1e8db",
      "metadata": {
        "id": "05f1e8db"
      },
      "source": [
        "# **Labs 1 and 2 PySpark:**\n",
        "\n",
        "In these labs we will be using the \"[[NeurIPS 2020] Data Science for COVID-19 (DS4C)](https://www.kaggle.com/datasets/kimjihoo/coronavirusdataset?select=PatientInfo.csv)\" dataset, retrieved from [Kaggle](https://www.kaggle.com/) on 1/6/2022, for educational non commercial purpose, License\n",
        "[CC BY-NC-SA 4.0\n",
        "](https://creativecommons.org/licenses/by-nc-sa/4.0/)\n",
        "\n",
        "\n",
        "The csv file that we will be using in this lab is **PatientInfo**."
      ]
    },
    {
      "cell_type": "markdown",
      "id": "3ac9bbf0",
      "metadata": {
        "id": "3ac9bbf0"
      },
      "source": [
        "## PatientInfo.csv\n",
        "\n",
        "**patient_id**\n",
        "the ID of the patient\n",
        "\n",
        "**sex**\n",
        "the sex of the patient\n",
        "\n",
        "**age**\n",
        "the age of the patient\n",
        "\n",
        "**country**\n",
        "the country of the patient\n",
        "\n",
        "**province**\n",
        "the province of the patient\n",
        "\n",
        "**city**\n",
        "the city of the patient\n",
        "\n",
        "**infection_case**\n",
        "the case of infection\n",
        "\n",
        "**infected_by**\n",
        "the ID of who infected the patient\n",
        "\n",
        "\n",
        "**contact_number**\n",
        "the number of contacts with people\n",
        "\n",
        "**symptom_onset_date**\n",
        "the date of symptom onset\n",
        "\n",
        "**confirmed_date**\n",
        "the date of being confirmed\n",
        "\n",
        "**released_date**\n",
        "the date of being released\n",
        "\n",
        "**deceased_date**\n",
        "the date of being deceased\n",
        "\n",
        "**state**\n",
        "isolated / released / deceased"
      ]
    },
    {
      "cell_type": "markdown",
      "id": "34b6f619",
      "metadata": {
        "id": "34b6f619"
      },
      "source": [
        "### Import the pyspark and check it's version"
      ]
    },
    {
      "cell_type": "code",
      "source": [
        "!pip install findspark"
      ],
      "metadata": {
        "colab": {
          "base_uri": "https://localhost:8080/"
        },
        "id": "7q3f-y_knJwO",
        "outputId": "48d6b23d-a2d8-4125-8a76-163d8c4521c9"
      },
      "id": "7q3f-y_knJwO",
      "execution_count": 3,
      "outputs": [
        {
          "output_type": "stream",
          "name": "stdout",
          "text": [
            "Looking in indexes: https://pypi.org/simple, https://us-python.pkg.dev/colab-wheels/public/simple/\n",
            "Collecting findspark\n",
            "  Downloading findspark-2.0.1-py2.py3-none-any.whl (4.4 kB)\n",
            "Installing collected packages: findspark\n",
            "Successfully installed findspark-2.0.1\n"
          ]
        }
      ]
    },
    {
      "cell_type": "code",
      "source": [
        "!pip install pyspark"
      ],
      "metadata": {
        "colab": {
          "base_uri": "https://localhost:8080/"
        },
        "id": "SlDTZji5mzxB",
        "outputId": "34390f0f-d12f-4361-c7ce-4b5ad4d35fd8"
      },
      "id": "SlDTZji5mzxB",
      "execution_count": 4,
      "outputs": [
        {
          "output_type": "stream",
          "name": "stdout",
          "text": [
            "Looking in indexes: https://pypi.org/simple, https://us-python.pkg.dev/colab-wheels/public/simple/\n",
            "Collecting pyspark\n",
            "  Downloading pyspark-3.3.0.tar.gz (281.3 MB)\n",
            "\u001b[K     |████████████████████████████████| 281.3 MB 47 kB/s \n",
            "\u001b[?25hCollecting py4j==0.10.9.5\n",
            "  Downloading py4j-0.10.9.5-py2.py3-none-any.whl (199 kB)\n",
            "\u001b[K     |████████████████████████████████| 199 kB 47.3 MB/s \n",
            "\u001b[?25hBuilding wheels for collected packages: pyspark\n",
            "  Building wheel for pyspark (setup.py) ... \u001b[?25l\u001b[?25hdone\n",
            "  Created wheel for pyspark: filename=pyspark-3.3.0-py2.py3-none-any.whl size=281764026 sha256=545244136e4e53dd43ee28cb364c7c1c2596ae147fa34de96ff5d3feb5ce0df3\n",
            "  Stored in directory: /root/.cache/pip/wheels/7a/8e/1b/f73a52650d2e5f337708d9f6a1750d451a7349a867f928b885\n",
            "Successfully built pyspark\n",
            "Installing collected packages: py4j, pyspark\n",
            "Successfully installed py4j-0.10.9.5 pyspark-3.3.0\n"
          ]
        }
      ]
    },
    {
      "cell_type": "code",
      "execution_count": 5,
      "id": "29fe2ddc",
      "metadata": {
        "id": "29fe2ddc"
      },
      "outputs": [],
      "source": [
        "import pyspark"
      ]
    },
    {
      "cell_type": "markdown",
      "id": "70c0fc8e",
      "metadata": {
        "id": "70c0fc8e"
      },
      "source": [
        "### Import and create SparkSession"
      ]
    },
    {
      "cell_type": "code",
      "execution_count": 6,
      "id": "94904228",
      "metadata": {
        "id": "94904228"
      },
      "outputs": [],
      "source": [
        "import findspark\n",
        "findspark.init()\n",
        "\n",
        "from pyspark.sql import SparkSession\n",
        "spark = SparkSession.builder.appName(\"practicalwork\").getOrCreate()"
      ]
    },
    {
      "cell_type": "markdown",
      "id": "7356d68d",
      "metadata": {
        "id": "7356d68d"
      },
      "source": [
        "### Load the PatientInfo.csv file and show the first 5 rows"
      ]
    },
    {
      "cell_type": "code",
      "execution_count": 7,
      "id": "d5185728",
      "metadata": {
        "colab": {
          "base_uri": "https://localhost:8080/",
          "height": 17
        },
        "id": "d5185728",
        "outputId": "cf767d53-6d8e-4441-f802-dee06e5b5187"
      },
      "outputs": [
        {
          "output_type": "display_data",
          "data": {
            "text/plain": [
              "<IPython.core.display.HTML object>"
            ],
            "text/html": [
              "<style>pre { white-space: pre !important; }</style>"
            ]
          },
          "metadata": {}
        }
      ],
      "source": [
        "from IPython.display import display, HTML\n",
        "display(HTML(\"<style>pre { white-space: pre !important; }</style>\"))"
      ]
    },
    {
      "cell_type": "code",
      "execution_count": 9,
      "id": "2196bca5",
      "metadata": {
        "id": "2196bca5"
      },
      "outputs": [],
      "source": [
        "df = spark.read.csv('PatientInfo.csv' ,header=True , inferSchema= True)"
      ]
    },
    {
      "cell_type": "code",
      "execution_count": 10,
      "id": "4128c633",
      "metadata": {
        "colab": {
          "base_uri": "https://localhost:8080/"
        },
        "id": "4128c633",
        "outputId": "cd0cf57f-3705-4dec-c4c7-4ed445c67d62"
      },
      "outputs": [
        {
          "output_type": "stream",
          "name": "stdout",
          "text": [
            "+----------+------+---+-------+--------+-----------+--------------------+-----------+--------------+------------------+-------------------+-------------------+-------------+--------+\n",
            "|patient_id|   sex|age|country|province|       city|      infection_case|infected_by|contact_number|symptom_onset_date|     confirmed_date|      released_date|deceased_date|   state|\n",
            "+----------+------+---+-------+--------+-----------+--------------------+-----------+--------------+------------------+-------------------+-------------------+-------------+--------+\n",
            "|1000000001|  male|50s|  Korea|   Seoul| Gangseo-gu|     overseas inflow|       null|            75|        2020-01-22|2020-01-23 00:00:00|2020-02-05 00:00:00|         null|released|\n",
            "|1000000002|  male|30s|  Korea|   Seoul|Jungnang-gu|     overseas inflow|       null|            31|              null|2020-01-30 00:00:00|2020-03-02 00:00:00|         null|released|\n",
            "|1000000003|  male|50s|  Korea|   Seoul|  Jongno-gu|contact with patient| 2002000001|            17|              null|2020-01-30 00:00:00|2020-02-19 00:00:00|         null|released|\n",
            "|1000000004|  male|20s|  Korea|   Seoul|    Mapo-gu|     overseas inflow|       null|             9|        2020-01-26|2020-01-30 00:00:00|2020-02-15 00:00:00|         null|released|\n",
            "|1000000005|female|20s|  Korea|   Seoul|Seongbuk-gu|contact with patient| 1000000002|             2|              null|2020-01-31 00:00:00|2020-02-24 00:00:00|         null|released|\n",
            "+----------+------+---+-------+--------+-----------+--------------------+-----------+--------------+------------------+-------------------+-------------------+-------------+--------+\n",
            "only showing top 5 rows\n",
            "\n"
          ]
        }
      ],
      "source": [
        "df.show(5)"
      ]
    },
    {
      "cell_type": "markdown",
      "id": "4d43bdca",
      "metadata": {
        "id": "4d43bdca"
      },
      "source": [
        "### Display the schema of the dataset"
      ]
    },
    {
      "cell_type": "code",
      "execution_count": 11,
      "id": "666a3e60",
      "metadata": {
        "colab": {
          "base_uri": "https://localhost:8080/"
        },
        "id": "666a3e60",
        "outputId": "5bf34148-eea8-4b44-e4eb-364132e3eb4d"
      },
      "outputs": [
        {
          "output_type": "stream",
          "name": "stdout",
          "text": [
            "root\n",
            " |-- patient_id: long (nullable = true)\n",
            " |-- sex: string (nullable = true)\n",
            " |-- age: string (nullable = true)\n",
            " |-- country: string (nullable = true)\n",
            " |-- province: string (nullable = true)\n",
            " |-- city: string (nullable = true)\n",
            " |-- infection_case: string (nullable = true)\n",
            " |-- infected_by: string (nullable = true)\n",
            " |-- contact_number: string (nullable = true)\n",
            " |-- symptom_onset_date: string (nullable = true)\n",
            " |-- confirmed_date: timestamp (nullable = true)\n",
            " |-- released_date: timestamp (nullable = true)\n",
            " |-- deceased_date: timestamp (nullable = true)\n",
            " |-- state: string (nullable = true)\n",
            "\n"
          ]
        }
      ],
      "source": [
        "df.printSchema()"
      ]
    },
    {
      "cell_type": "markdown",
      "id": "3114e1dd",
      "metadata": {
        "id": "3114e1dd"
      },
      "source": [
        "### Display the statistical summary"
      ]
    },
    {
      "cell_type": "code",
      "execution_count": 12,
      "id": "ea61ebdb",
      "metadata": {
        "colab": {
          "base_uri": "https://localhost:8080/"
        },
        "id": "ea61ebdb",
        "outputId": "0c4bb421-1409-4938-a189-e69a2e5d2192"
      },
      "outputs": [
        {
          "output_type": "stream",
          "name": "stdout",
          "text": [
            "+-------+--------------------+------+----+----------+--------+--------------+--------------------+--------------------+--------------------+------------------+--------+\n",
            "|summary|          patient_id|   sex| age|   country|province|          city|      infection_case|         infected_by|      contact_number|symptom_onset_date|   state|\n",
            "+-------+--------------------+------+----+----------+--------+--------------+--------------------+--------------------+--------------------+------------------+--------+\n",
            "|  count|                5165|  4043|3785|      5165|    5165|          5071|                4246|                1346|                 791|               690|    5165|\n",
            "|   mean|2.8636345618679576E9|  null|null|      null|    null|          null|                null|2.2845944015643125E9|1.6772572523506988E7|              null|    null|\n",
            "| stddev| 2.074210725277473E9|  null|null|      null|    null|          null|                null|1.5265072953383324E9| 3.093097580985502E8|              null|    null|\n",
            "|    min|          1000000001|female|  0s|Bangladesh|   Busan|     Andong-si|Anyang Gunpo Past...|          1000000002|                   -|                  |deceased|\n",
            "|    25%|          1000001291|  null|null|      null|    null|          null|                null|       1.400000102E9|                 2.0|              null|    null|\n",
            "|    50%|          2000000369|  null|null|      null|    null|          null|                null|       2.000000167E9|                 4.0|              null|    null|\n",
            "|    75%|          6001000115|  null|null|      null|    null|          null|                null|       2.000000975E9|                14.0|              null|    null|\n",
            "|    max|          7000000019|  male| 90s|   Vietnam|   Ulsan|sankyeock-dong|     overseas inflow|          7000000009|                  95|        2020-06-28|released|\n",
            "+-------+--------------------+------+----+----------+--------+--------------+--------------------+--------------------+--------------------+------------------+--------+\n",
            "\n"
          ]
        }
      ],
      "source": [
        "df.summary().show()"
      ]
    },
    {
      "cell_type": "markdown",
      "id": "c78859b9",
      "metadata": {
        "id": "c78859b9"
      },
      "source": [
        "### Using the state column.\n",
        "### How many people survived (released), and how many didn't survive (isolated/deceased)?"
      ]
    },
    {
      "cell_type": "code",
      "execution_count": 13,
      "id": "63e84045",
      "metadata": {
        "colab": {
          "base_uri": "https://localhost:8080/"
        },
        "id": "63e84045",
        "outputId": "54914b57-285c-4446-c4e2-e3591550f4a2"
      },
      "outputs": [
        {
          "output_type": "stream",
          "name": "stdout",
          "text": [
            "number of people released :  2929\n"
          ]
        }
      ],
      "source": [
        "print(\"number of people released : \", df.filter(df[\"state\"].like(\"released\")).count())"
      ]
    },
    {
      "cell_type": "code",
      "execution_count": 14,
      "id": "ff16b0df",
      "metadata": {
        "colab": {
          "base_uri": "https://localhost:8080/"
        },
        "id": "ff16b0df",
        "outputId": "cdc8c407-9c23-4aab-8e1e-19c6468d077b"
      },
      "outputs": [
        {
          "output_type": "stream",
          "name": "stdout",
          "text": [
            "number of people deceased :  78\n"
          ]
        }
      ],
      "source": [
        "print(\"number of people deceased : \", df.filter(df[\"state\"].like(\"deceased\")).count())"
      ]
    },
    {
      "cell_type": "code",
      "execution_count": 15,
      "id": "9faedc65",
      "metadata": {
        "colab": {
          "base_uri": "https://localhost:8080/"
        },
        "id": "9faedc65",
        "outputId": "bb46d4be-330f-49a0-c697-9a73900e23f3"
      },
      "outputs": [
        {
          "output_type": "stream",
          "name": "stdout",
          "text": [
            "+--------+-----+\n",
            "|   state|count|\n",
            "+--------+-----+\n",
            "|isolated| 2158|\n",
            "|released| 2929|\n",
            "|deceased|   78|\n",
            "+--------+-----+\n",
            "\n"
          ]
        }
      ],
      "source": [
        "df.groupby(\"state\").count().show()"
      ]
    },
    {
      "cell_type": "markdown",
      "id": "59c16346",
      "metadata": {
        "id": "59c16346"
      },
      "source": [
        "### Display the number of null values in each column"
      ]
    },
    {
      "cell_type": "code",
      "execution_count": 16,
      "id": "7a834dd5",
      "metadata": {
        "id": "7a834dd5"
      },
      "outputs": [],
      "source": [
        "from pyspark.sql.functions import col,isnan,when,count,isnull"
      ]
    },
    {
      "cell_type": "code",
      "execution_count": 17,
      "id": "5c52473a",
      "metadata": {
        "colab": {
          "base_uri": "https://localhost:8080/"
        },
        "id": "5c52473a",
        "outputId": "57706bb0-2b33-45a9-dc31-cbd320c24cfb"
      },
      "outputs": [
        {
          "output_type": "execute_result",
          "data": {
            "text/plain": [
              "['patient_id',\n",
              " 'sex',\n",
              " 'age',\n",
              " 'country',\n",
              " 'province',\n",
              " 'city',\n",
              " 'infection_case',\n",
              " 'infected_by',\n",
              " 'contact_number',\n",
              " 'symptom_onset_date',\n",
              " 'confirmed_date',\n",
              " 'released_date',\n",
              " 'deceased_date',\n",
              " 'state']"
            ]
          },
          "metadata": {},
          "execution_count": 17
        }
      ],
      "source": [
        "df.columns"
      ]
    },
    {
      "cell_type": "code",
      "execution_count": 18,
      "id": "4adc0ab6",
      "metadata": {
        "colab": {
          "base_uri": "https://localhost:8080/"
        },
        "id": "4adc0ab6",
        "outputId": "2159fad5-cff7-44ed-c969-bfde98a9794e"
      },
      "outputs": [
        {
          "output_type": "stream",
          "name": "stdout",
          "text": [
            "+----------+----+----+-------+--------+----+--------------+-----------+--------------+------------------+--------------+-------------+-------------+-----+\n",
            "|patient_id| sex| age|country|province|city|infection_case|infected_by|contact_number|symptom_onset_date|confirmed_date|released_date|deceased_date|state|\n",
            "+----------+----+----+-------+--------+----+--------------+-----------+--------------+------------------+--------------+-------------+-------------+-----+\n",
            "|         0|1122|1380|      0|       0|  94|           919|       3819|          4374|              4475|             3|         3578|         5099|    0|\n",
            "+----------+----+----+-------+--------+----+--------------+-----------+--------------+------------------+--------------+-------------+-------------+-----+\n",
            "\n"
          ]
        }
      ],
      "source": [
        "df.select([count(when(isnull(c), c)).alias(c) for c in df.columns]).show()\n"
      ]
    },
    {
      "cell_type": "markdown",
      "id": "c3133f5a",
      "metadata": {
        "id": "c3133f5a"
      },
      "source": [
        "## Data preprocessing"
      ]
    },
    {
      "cell_type": "markdown",
      "id": "ec32fa0c",
      "metadata": {
        "id": "ec32fa0c"
      },
      "source": [
        "### Fill the nulls in the deceased_date with the released_date. \n",
        "- You can use <b>coalesce</b> function"
      ]
    },
    {
      "cell_type": "code",
      "execution_count": 19,
      "id": "d5ba64f9",
      "metadata": {
        "colab": {
          "base_uri": "https://localhost:8080/"
        },
        "id": "d5ba64f9",
        "outputId": "0ec5a661-f444-449e-e651-02380a0703bc"
      },
      "outputs": [
        {
          "output_type": "stream",
          "name": "stdout",
          "text": [
            "root\n",
            " |-- patient_id: long (nullable = true)\n",
            " |-- sex: string (nullable = true)\n",
            " |-- age: string (nullable = true)\n",
            " |-- country: string (nullable = true)\n",
            " |-- province: string (nullable = true)\n",
            " |-- city: string (nullable = true)\n",
            " |-- infection_case: string (nullable = true)\n",
            " |-- infected_by: string (nullable = true)\n",
            " |-- contact_number: string (nullable = true)\n",
            " |-- symptom_onset_date: string (nullable = true)\n",
            " |-- confirmed_date: timestamp (nullable = true)\n",
            " |-- released_date: timestamp (nullable = true)\n",
            " |-- deceased_date: timestamp (nullable = true)\n",
            " |-- state: string (nullable = true)\n",
            "\n"
          ]
        }
      ],
      "source": [
        "df.printSchema()"
      ]
    },
    {
      "cell_type": "code",
      "execution_count": 20,
      "id": "eaeee6aa",
      "metadata": {
        "id": "eaeee6aa"
      },
      "outputs": [],
      "source": [
        "from pyspark.sql.functions import *"
      ]
    },
    {
      "cell_type": "code",
      "execution_count": 21,
      "id": "5f2295a1",
      "metadata": {
        "colab": {
          "base_uri": "https://localhost:8080/"
        },
        "id": "5f2295a1",
        "outputId": "42b7bf7e-cbf5-4502-ae70-1ca4e926d721"
      },
      "outputs": [
        {
          "output_type": "stream",
          "name": "stdout",
          "text": [
            "+----------+------+---+-------+--------+------------+--------------------+-----------+--------------+------------------+-------------------+-------------------+-------------------+--------+\n",
            "|patient_id|   sex|age|country|province|        city|      infection_case|infected_by|contact_number|symptom_onset_date|     confirmed_date|      released_date|      deceased_date|   state|\n",
            "+----------+------+---+-------+--------+------------+--------------------+-----------+--------------+------------------+-------------------+-------------------+-------------------+--------+\n",
            "|1000000001|  male|50s|  Korea|   Seoul|  Gangseo-gu|     overseas inflow|       null|            75|        2020-01-22|2020-01-23 00:00:00|2020-02-05 00:00:00|2020-02-05 00:00:00|released|\n",
            "|1000000002|  male|30s|  Korea|   Seoul| Jungnang-gu|     overseas inflow|       null|            31|              null|2020-01-30 00:00:00|2020-03-02 00:00:00|2020-03-02 00:00:00|released|\n",
            "|1000000003|  male|50s|  Korea|   Seoul|   Jongno-gu|contact with patient| 2002000001|            17|              null|2020-01-30 00:00:00|2020-02-19 00:00:00|2020-02-19 00:00:00|released|\n",
            "|1000000004|  male|20s|  Korea|   Seoul|     Mapo-gu|     overseas inflow|       null|             9|        2020-01-26|2020-01-30 00:00:00|2020-02-15 00:00:00|2020-02-15 00:00:00|released|\n",
            "|1000000005|female|20s|  Korea|   Seoul| Seongbuk-gu|contact with patient| 1000000002|             2|              null|2020-01-31 00:00:00|2020-02-24 00:00:00|2020-02-24 00:00:00|released|\n",
            "|1000000006|female|50s|  Korea|   Seoul|   Jongno-gu|contact with patient| 1000000003|            43|              null|2020-01-31 00:00:00|2020-02-19 00:00:00|2020-02-19 00:00:00|released|\n",
            "|1000000007|  male|20s|  Korea|   Seoul|   Jongno-gu|contact with patient| 1000000003|             0|              null|2020-01-31 00:00:00|2020-02-10 00:00:00|2020-02-10 00:00:00|released|\n",
            "|1000000008|  male|20s|  Korea|   Seoul|         etc|     overseas inflow|       null|             0|              null|2020-02-02 00:00:00|2020-02-24 00:00:00|2020-02-24 00:00:00|released|\n",
            "|1000000009|  male|30s|  Korea|   Seoul|   Songpa-gu|     overseas inflow|       null|            68|              null|2020-02-05 00:00:00|2020-02-21 00:00:00|2020-02-21 00:00:00|released|\n",
            "|1000000010|female|60s|  Korea|   Seoul| Seongbuk-gu|contact with patient| 1000000003|             6|              null|2020-02-05 00:00:00|2020-02-29 00:00:00|2020-02-29 00:00:00|released|\n",
            "|1000000011|female|50s|  China|   Seoul|Seodaemun-gu|     overseas inflow|       null|            23|              null|2020-02-06 00:00:00|2020-02-29 00:00:00|2020-02-29 00:00:00|released|\n",
            "|1000000012|  male|20s|  Korea|   Seoul|         etc|     overseas inflow|       null|             0|              null|2020-02-07 00:00:00|2020-02-27 00:00:00|2020-02-27 00:00:00|released|\n",
            "|1000000013|  male|80s|  Korea|   Seoul|   Jongno-gu|contact with patient| 1000000017|           117|              null|2020-02-16 00:00:00|               null|               null|deceased|\n",
            "|1000000014|female|60s|  Korea|   Seoul|   Jongno-gu|contact with patient| 1000000013|            27|        2020-02-06|2020-02-16 00:00:00|2020-03-12 00:00:00|2020-03-12 00:00:00|released|\n",
            "|1000000015|  male|70s|  Korea|   Seoul|Seongdong-gu|    Seongdong-gu APT|       null|             8|        2020-02-11|2020-02-19 00:00:00|               null|               null|released|\n",
            "|1000000016|  male|70s|  Korea|   Seoul|   Jongno-gu|contact with patient| 1000000017|          null|              null|2020-02-19 00:00:00|2020-03-11 00:00:00|2020-03-11 00:00:00|released|\n",
            "|1000000017|  male|70s|  Korea|   Seoul|   Jongno-gu|contact with patient| 1000000003|          null|              null|2020-02-20 00:00:00|2020-03-01 00:00:00|2020-03-01 00:00:00|released|\n",
            "|1000000018|  male|20s|  Korea|   Seoul|         etc|                 etc|       null|          null|              null|2020-02-20 00:00:00|               null|               null|released|\n",
            "|1000000019|female|70s|  Korea|   Seoul|   Jongno-gu|contact with patient| 1000000021|          null|              null|2020-02-20 00:00:00|2020-03-08 00:00:00|2020-03-08 00:00:00|released|\n",
            "|1000000020|female|70s|  Korea|   Seoul|Seongdong-gu|    Seongdong-gu APT| 1000000015|          null|              null|2020-02-20 00:00:00|               null|               null|released|\n",
            "+----------+------+---+-------+--------+------------+--------------------+-----------+--------------+------------------+-------------------+-------------------+-------------------+--------+\n",
            "only showing top 20 rows\n",
            "\n"
          ]
        }
      ],
      "source": [
        "d2 = df.withColumn('deceased_date', coalesce('released_date' , 'deceased_date'))\n",
        "d2.show()"
      ]
    },
    {
      "cell_type": "markdown",
      "id": "4ec324f5",
      "metadata": {
        "id": "4ec324f5"
      },
      "source": [
        "### Add a column named no_days which is difference between the deceased_date and the confirmed_date then show the top 5 rows. Print the schema.\n",
        "- <b> Hint: You need to typecast these columns as date first <b>"
      ]
    },
    {
      "cell_type": "code",
      "execution_count": 22,
      "id": "4c4c4ab1",
      "metadata": {
        "id": "4c4c4ab1"
      },
      "outputs": [],
      "source": [
        "from pyspark.sql.functions import datediff"
      ]
    },
    {
      "cell_type": "code",
      "execution_count": 23,
      "id": "abbee0e4",
      "metadata": {
        "colab": {
          "base_uri": "https://localhost:8080/"
        },
        "id": "abbee0e4",
        "outputId": "e0dd8337-9283-4b81-a9c7-975a4ac90b28"
      },
      "outputs": [
        {
          "output_type": "stream",
          "name": "stdout",
          "text": [
            "+----------+------+---+-------+--------+-----------+--------------------+-----------+--------------+------------------+-------------------+-------------------+-------------------+--------+-------+\n",
            "|patient_id|sex   |age|country|province|city       |infection_case      |infected_by|contact_number|symptom_onset_date|confirmed_date     |released_date      |deceased_date      |state   |no_days|\n",
            "+----------+------+---+-------+--------+-----------+--------------------+-----------+--------------+------------------+-------------------+-------------------+-------------------+--------+-------+\n",
            "|1000000001|male  |50s|Korea  |Seoul   |Gangseo-gu |overseas inflow     |null       |75            |2020-01-22        |2020-01-23 00:00:00|2020-02-05 00:00:00|2020-02-05 00:00:00|released|13     |\n",
            "|1000000002|male  |30s|Korea  |Seoul   |Jungnang-gu|overseas inflow     |null       |31            |null              |2020-01-30 00:00:00|2020-03-02 00:00:00|2020-03-02 00:00:00|released|32     |\n",
            "|1000000003|male  |50s|Korea  |Seoul   |Jongno-gu  |contact with patient|2002000001 |17            |null              |2020-01-30 00:00:00|2020-02-19 00:00:00|2020-02-19 00:00:00|released|20     |\n",
            "|1000000004|male  |20s|Korea  |Seoul   |Mapo-gu    |overseas inflow     |null       |9             |2020-01-26        |2020-01-30 00:00:00|2020-02-15 00:00:00|2020-02-15 00:00:00|released|16     |\n",
            "|1000000005|female|20s|Korea  |Seoul   |Seongbuk-gu|contact with patient|1000000002 |2             |null              |2020-01-31 00:00:00|2020-02-24 00:00:00|2020-02-24 00:00:00|released|24     |\n",
            "+----------+------+---+-------+--------+-----------+--------------------+-----------+--------------+------------------+-------------------+-------------------+-------------------+--------+-------+\n",
            "only showing top 5 rows\n",
            "\n",
            "root\n",
            " |-- patient_id: long (nullable = true)\n",
            " |-- sex: string (nullable = true)\n",
            " |-- age: string (nullable = true)\n",
            " |-- country: string (nullable = true)\n",
            " |-- province: string (nullable = true)\n",
            " |-- city: string (nullable = true)\n",
            " |-- infection_case: string (nullable = true)\n",
            " |-- infected_by: string (nullable = true)\n",
            " |-- contact_number: string (nullable = true)\n",
            " |-- symptom_onset_date: string (nullable = true)\n",
            " |-- confirmed_date: timestamp (nullable = true)\n",
            " |-- released_date: timestamp (nullable = true)\n",
            " |-- deceased_date: timestamp (nullable = true)\n",
            " |-- state: string (nullable = true)\n",
            " |-- no_days: integer (nullable = true)\n",
            "\n"
          ]
        }
      ],
      "source": [
        "#Timestamp String to DateType\n",
        "d2 = d2.withColumn('confirmed_date', to_timestamp('confirmed_date'))\n",
        "d2 = d2.withColumn('released_date', to_timestamp('released_date'))\n",
        "d2 = d2.withColumn('deceased_date', to_timestamp('deceased_date'))\n",
        "\n",
        "df3 = d2.withColumn('no_days', datediff(d2['deceased_date'] , \n",
        "                                        d2['confirmed_date']))\n",
        "df3.show(5, truncate = False)\n",
        "df3.printSchema()"
      ]
    },
    {
      "cell_type": "markdown",
      "id": "967b2466",
      "metadata": {
        "id": "967b2466"
      },
      "source": [
        "### Add a is_male column if male then it should yield true, else then False"
      ]
    },
    {
      "cell_type": "code",
      "execution_count": 24,
      "id": "596ce009",
      "metadata": {
        "id": "596ce009"
      },
      "outputs": [],
      "source": [
        "df4 = df3.withColumn(\"is_male\", when(col(\"sex\") == \"male\" , True).otherwise(False))"
      ]
    },
    {
      "cell_type": "code",
      "execution_count": 25,
      "id": "788fd3e6",
      "metadata": {
        "colab": {
          "base_uri": "https://localhost:8080/"
        },
        "id": "788fd3e6",
        "outputId": "5d5cf124-50dc-43bf-a002-c4836ece630f"
      },
      "outputs": [
        {
          "output_type": "stream",
          "name": "stdout",
          "text": [
            "+-------+\n",
            "|is_male|\n",
            "+-------+\n",
            "|   true|\n",
            "|   true|\n",
            "|   true|\n",
            "|   true|\n",
            "|  false|\n",
            "|  false|\n",
            "|   true|\n",
            "|   true|\n",
            "|   true|\n",
            "|  false|\n",
            "|  false|\n",
            "|   true|\n",
            "|   true|\n",
            "|  false|\n",
            "|   true|\n",
            "|   true|\n",
            "|   true|\n",
            "|   true|\n",
            "|  false|\n",
            "|  false|\n",
            "+-------+\n",
            "only showing top 20 rows\n",
            "\n"
          ]
        }
      ],
      "source": [
        "df4.select('is_male').show()"
      ]
    },
    {
      "cell_type": "markdown",
      "id": "8603d7c0",
      "metadata": {
        "id": "8603d7c0"
      },
      "source": [
        "### Add a is_dead column if patient state is not released then it should yield true, else then False\n",
        "\n",
        "- Use <b>UDF</b> to perform this task. \n",
        "- However, UDF is not recommended there is no built in function can do the required operation.\n",
        "- UDF is slower than built in functions."
      ]
    },
    {
      "cell_type": "code",
      "execution_count": 26,
      "id": "d3343075",
      "metadata": {
        "id": "d3343075"
      },
      "outputs": [],
      "source": [
        "df5 = df4.withColumn(\"is_dead\", when(col(\"state\") != \"released\",True)\n",
        "      .otherwise(False))"
      ]
    },
    {
      "cell_type": "code",
      "execution_count": 27,
      "id": "74bb3631",
      "metadata": {
        "colab": {
          "base_uri": "https://localhost:8080/"
        },
        "id": "74bb3631",
        "outputId": "c23282e1-7203-4247-b050-16489ebbe842"
      },
      "outputs": [
        {
          "output_type": "stream",
          "name": "stdout",
          "text": [
            "+-------+\n",
            "|is_dead|\n",
            "+-------+\n",
            "|  false|\n",
            "|  false|\n",
            "|  false|\n",
            "|  false|\n",
            "|  false|\n",
            "|  false|\n",
            "|  false|\n",
            "|  false|\n",
            "|  false|\n",
            "|  false|\n",
            "|  false|\n",
            "|  false|\n",
            "|   true|\n",
            "|  false|\n",
            "|  false|\n",
            "|  false|\n",
            "|  false|\n",
            "|  false|\n",
            "|  false|\n",
            "|  false|\n",
            "+-------+\n",
            "only showing top 20 rows\n",
            "\n"
          ]
        }
      ],
      "source": [
        "df5.select('is_dead').show()"
      ]
    },
    {
      "cell_type": "markdown",
      "id": "e15264a9",
      "metadata": {
        "id": "e15264a9"
      },
      "source": [
        "### Change the ages to bins from 10s, 0s, 10s, 20s,.etc to 0,10, 20"
      ]
    },
    {
      "cell_type": "code",
      "execution_count": 67,
      "id": "7a2b57ed",
      "metadata": {
        "id": "7a2b57ed"
      },
      "outputs": [],
      "source": [
        "df6=df5.withColumn(\"ageint\",translate(col(\"age\"),\"s\",\"\"))"
      ]
    },
    {
      "cell_type": "code",
      "execution_count": 68,
      "id": "d355ea69",
      "metadata": {
        "colab": {
          "base_uri": "https://localhost:8080/"
        },
        "id": "d355ea69",
        "outputId": "c34370c2-f0de-4daa-ae72-df6ec6788f06"
      },
      "outputs": [
        {
          "output_type": "stream",
          "name": "stdout",
          "text": [
            "+------+\n",
            "|ageint|\n",
            "+------+\n",
            "|    50|\n",
            "|    30|\n",
            "|    50|\n",
            "|    20|\n",
            "|    20|\n",
            "|    50|\n",
            "|    20|\n",
            "|    20|\n",
            "|    30|\n",
            "|    60|\n",
            "|    50|\n",
            "|    20|\n",
            "|    80|\n",
            "|    60|\n",
            "|    70|\n",
            "|    70|\n",
            "|    70|\n",
            "|    20|\n",
            "|    70|\n",
            "|    70|\n",
            "+------+\n",
            "only showing top 20 rows\n",
            "\n"
          ]
        }
      ],
      "source": [
        "df6.select('ageint').show()"
      ]
    },
    {
      "cell_type": "markdown",
      "id": "43cdf846",
      "metadata": {
        "id": "43cdf846"
      },
      "source": [
        "### Change age, and no_days  to be typecasted as Double"
      ]
    },
    {
      "cell_type": "code",
      "execution_count": 69,
      "id": "0e9bb103",
      "metadata": {
        "id": "0e9bb103"
      },
      "outputs": [],
      "source": [
        "from pyspark.sql.types import DoubleType"
      ]
    },
    {
      "cell_type": "code",
      "execution_count": 71,
      "id": "dfea7fcb",
      "metadata": {
        "id": "dfea7fcb"
      },
      "outputs": [],
      "source": [
        "df7 = df6.withColumn(\"ageint\" , col(\"ageint\").cast(DoubleType()))\\\n",
        ".withColumn(\"no_days\",col(\"no_days\").cast(DoubleType()))"
      ]
    },
    {
      "cell_type": "code",
      "execution_count": 72,
      "id": "ffbc62a2",
      "metadata": {
        "colab": {
          "base_uri": "https://localhost:8080/"
        },
        "id": "ffbc62a2",
        "outputId": "627470c1-f4e9-4bcd-c32f-f47e79ae558b"
      },
      "outputs": [
        {
          "output_type": "stream",
          "name": "stdout",
          "text": [
            "+------+-------+\n",
            "|ageint|no_days|\n",
            "+------+-------+\n",
            "|  50.0|   13.0|\n",
            "|  30.0|   32.0|\n",
            "|  50.0|   20.0|\n",
            "|  20.0|   16.0|\n",
            "|  20.0|   24.0|\n",
            "|  50.0|   19.0|\n",
            "|  20.0|   10.0|\n",
            "|  20.0|   22.0|\n",
            "|  30.0|   16.0|\n",
            "|  60.0|   24.0|\n",
            "|  50.0|   23.0|\n",
            "|  20.0|   20.0|\n",
            "|  80.0|   null|\n",
            "|  60.0|   25.0|\n",
            "|  70.0|   null|\n",
            "|  70.0|   21.0|\n",
            "|  70.0|   10.0|\n",
            "|  20.0|   null|\n",
            "|  70.0|   17.0|\n",
            "|  70.0|   null|\n",
            "+------+-------+\n",
            "only showing top 20 rows\n",
            "\n"
          ]
        }
      ],
      "source": [
        "df7.select('ageint' , 'no_days').show()"
      ]
    },
    {
      "cell_type": "markdown",
      "id": "d31e3a87",
      "metadata": {
        "id": "d31e3a87"
      },
      "source": [
        "### Drop the columns\n",
        "[\"patient_id\",\"sex\",\"infected_by\",\"contact_number\",\"released_date\",\"state\",\n",
        "\"symptom_onset_date\",\"confirmed_date\",\"deceased_date\",\"country\",\"no_days\",\n",
        "\"city\",\"infection_case\"]"
      ]
    },
    {
      "cell_type": "code",
      "execution_count": 73,
      "id": "3ae0c428",
      "metadata": {
        "colab": {
          "base_uri": "https://localhost:8080/"
        },
        "id": "3ae0c428",
        "outputId": "6df3407f-1ac8-4432-e8c9-665753fb1973"
      },
      "outputs": [
        {
          "output_type": "stream",
          "name": "stdout",
          "text": [
            "+---+--------+-------+-------+------+\n",
            "|age|province|is_male|is_dead|ageint|\n",
            "+---+--------+-------+-------+------+\n",
            "|50s|   Seoul|   true|  false|  50.0|\n",
            "|30s|   Seoul|   true|  false|  30.0|\n",
            "|50s|   Seoul|   true|  false|  50.0|\n",
            "|20s|   Seoul|   true|  false|  20.0|\n",
            "|20s|   Seoul|  false|  false|  20.0|\n",
            "|50s|   Seoul|  false|  false|  50.0|\n",
            "|20s|   Seoul|   true|  false|  20.0|\n",
            "|20s|   Seoul|   true|  false|  20.0|\n",
            "|30s|   Seoul|   true|  false|  30.0|\n",
            "|60s|   Seoul|  false|  false|  60.0|\n",
            "|50s|   Seoul|  false|  false|  50.0|\n",
            "|20s|   Seoul|   true|  false|  20.0|\n",
            "|80s|   Seoul|   true|   true|  80.0|\n",
            "|60s|   Seoul|  false|  false|  60.0|\n",
            "|70s|   Seoul|   true|  false|  70.0|\n",
            "|70s|   Seoul|   true|  false|  70.0|\n",
            "|70s|   Seoul|   true|  false|  70.0|\n",
            "|20s|   Seoul|   true|  false|  20.0|\n",
            "|70s|   Seoul|  false|  false|  70.0|\n",
            "|70s|   Seoul|  false|  false|  70.0|\n",
            "+---+--------+-------+-------+------+\n",
            "only showing top 20 rows\n",
            "\n"
          ]
        }
      ],
      "source": [
        "cols = (\"patient_id\",\"sex\",\"infected_by\",\"contact_number\",\"released_date\",\n",
        "        \"state\", \"symptom_onset_date\",\"confirmed_date\"\n",
        ",\"deceased_date\",\"country\",\"day_off\", \"city\",\"infection_case\" ,\"no_days\")\n",
        "\n",
        "df8=df7.drop(*cols)\n",
        "df8.show()"
      ]
    },
    {
      "cell_type": "markdown",
      "id": "32df47a6",
      "metadata": {
        "id": "32df47a6"
      },
      "source": [
        "### Recount the number of nulls now"
      ]
    },
    {
      "cell_type": "code",
      "execution_count": 74,
      "id": "17c0560d",
      "metadata": {
        "colab": {
          "base_uri": "https://localhost:8080/"
        },
        "id": "17c0560d",
        "outputId": "c057a112-87b7-47b1-95f0-3de9d3e6b378"
      },
      "outputs": [
        {
          "output_type": "stream",
          "name": "stdout",
          "text": [
            "+----+--------+-------+-------+------+\n",
            "| age|province|is_male|is_dead|ageint|\n",
            "+----+--------+-------+-------+------+\n",
            "|1380|       0|      0|      0|  1380|\n",
            "+----+--------+-------+-------+------+\n",
            "\n"
          ]
        }
      ],
      "source": [
        "df_columns=df8.columns\n",
        "df8.select([count(when(isnull(c), c)).alias(c) for c in df_columns]).show()"
      ]
    },
    {
      "cell_type": "code",
      "execution_count": 75,
      "id": "eb76cacd",
      "metadata": {
        "id": "eb76cacd"
      },
      "outputs": [],
      "source": [
        "from pyspark.sql.types import IntegerType"
      ]
    },
    {
      "cell_type": "code",
      "execution_count": 76,
      "id": "28d32de3",
      "metadata": {
        "colab": {
          "base_uri": "https://localhost:8080/"
        },
        "id": "28d32de3",
        "outputId": "5eaf6aad-08a4-4ae5-eb97-a212f7aee564"
      },
      "outputs": [
        {
          "output_type": "stream",
          "name": "stdout",
          "text": [
            "root\n",
            " |-- age: string (nullable = true)\n",
            " |-- province: string (nullable = true)\n",
            " |-- is_male: boolean (nullable = false)\n",
            " |-- is_dead: boolean (nullable = false)\n",
            " |-- ageint: double (nullable = true)\n",
            "\n"
          ]
        }
      ],
      "source": [
        "df8.printSchema()"
      ]
    },
    {
      "cell_type": "markdown",
      "source": [
        "## preprocessing"
      ],
      "metadata": {
        "id": "Ngb_Ra0nMgJ-"
      },
      "id": "Ngb_Ra0nMgJ-"
    },
    {
      "cell_type": "code",
      "execution_count": 77,
      "id": "6444a867",
      "metadata": {
        "id": "6444a867"
      },
      "outputs": [],
      "source": [
        "udf_con=udf(lambda z: 1.0 if z==True else 0.0,DoubleType()) \n",
        "df9=df8.withColumn(\"is_dead\",udf_con(col(\"is_dead\"))).withColumn(\"is_male\",udf_con(col(\"is_male\")))"
      ]
    },
    {
      "cell_type": "code",
      "execution_count": 93,
      "id": "bc830732",
      "metadata": {
        "colab": {
          "base_uri": "https://localhost:8080/"
        },
        "id": "bc830732",
        "outputId": "314b11c1-976a-4fc8-a104-322fdfd72c0e"
      },
      "outputs": [
        {
          "output_type": "stream",
          "name": "stdout",
          "text": [
            "+---+--------+-------+-------+------+\n",
            "|age|province|is_male|is_dead|ageint|\n",
            "+---+--------+-------+-------+------+\n",
            "|50s|   Seoul|    1.0|    0.0|  50.0|\n",
            "|30s|   Seoul|    1.0|    0.0|  30.0|\n",
            "|50s|   Seoul|    1.0|    0.0|  50.0|\n",
            "|20s|   Seoul|    1.0|    0.0|  20.0|\n",
            "|20s|   Seoul|    0.0|    0.0|  20.0|\n",
            "+---+--------+-------+-------+------+\n",
            "only showing top 5 rows\n",
            "\n"
          ]
        }
      ],
      "source": [
        "df9.show(5)"
      ]
    },
    {
      "cell_type": "code",
      "source": [
        "df9 = df9.drop(col('age'))\n",
        "df9.show(1)"
      ],
      "metadata": {
        "colab": {
          "base_uri": "https://localhost:8080/"
        },
        "id": "Kob4BYfCbWpG",
        "outputId": "81d2a780-af9f-4f78-adbb-533818669f17"
      },
      "id": "Kob4BYfCbWpG",
      "execution_count": 94,
      "outputs": [
        {
          "output_type": "stream",
          "name": "stdout",
          "text": [
            "+--------+-------+-------+------+\n",
            "|province|is_male|is_dead|ageint|\n",
            "+--------+-------+-------+------+\n",
            "|   Seoul|    1.0|    0.0|  50.0|\n",
            "+--------+-------+-------+------+\n",
            "only showing top 1 row\n",
            "\n"
          ]
        }
      ]
    },
    {
      "cell_type": "markdown",
      "id": "cc71f158",
      "metadata": {
        "id": "cc71f158"
      },
      "source": [
        "## Now do the same but using SQL select statement"
      ]
    },
    {
      "cell_type": "markdown",
      "id": "1d540282",
      "metadata": {
        "id": "1d540282"
      },
      "source": [
        "### From the original Patient DataFrame, Create a temporary view (table)."
      ]
    },
    {
      "cell_type": "code",
      "execution_count": 99,
      "id": "cf56099f",
      "metadata": {
        "id": "cf56099f"
      },
      "outputs": [],
      "source": [
        "df.createOrReplaceTempView(\"sqlView\")"
      ]
    },
    {
      "cell_type": "markdown",
      "id": "cb004277",
      "metadata": {
        "id": "cb004277"
      },
      "source": [
        "### Use SELECT statement to select all columns from the dataframe and show the output."
      ]
    },
    {
      "cell_type": "code",
      "execution_count": 101,
      "id": "12ae8226",
      "metadata": {
        "scrolled": false,
        "colab": {
          "base_uri": "https://localhost:8080/"
        },
        "id": "12ae8226",
        "outputId": "5d9326be-b6fc-44e2-a838-81d6271b8dc1"
      },
      "outputs": [
        {
          "output_type": "stream",
          "name": "stdout",
          "text": [
            "+----------+------+---+-------+--------+------------+--------------------+-----------+--------------+------------------+-------------------+-------------------+-------------+--------+\n",
            "|patient_id|   sex|age|country|province|        city|      infection_case|infected_by|contact_number|symptom_onset_date|     confirmed_date|      released_date|deceased_date|   state|\n",
            "+----------+------+---+-------+--------+------------+--------------------+-----------+--------------+------------------+-------------------+-------------------+-------------+--------+\n",
            "|1000000001|  male|50s|  Korea|   Seoul|  Gangseo-gu|     overseas inflow|       null|            75|        2020-01-22|2020-01-23 00:00:00|2020-02-05 00:00:00|         null|released|\n",
            "|1000000002|  male|30s|  Korea|   Seoul| Jungnang-gu|     overseas inflow|       null|            31|              null|2020-01-30 00:00:00|2020-03-02 00:00:00|         null|released|\n",
            "|1000000003|  male|50s|  Korea|   Seoul|   Jongno-gu|contact with patient| 2002000001|            17|              null|2020-01-30 00:00:00|2020-02-19 00:00:00|         null|released|\n",
            "|1000000004|  male|20s|  Korea|   Seoul|     Mapo-gu|     overseas inflow|       null|             9|        2020-01-26|2020-01-30 00:00:00|2020-02-15 00:00:00|         null|released|\n",
            "|1000000005|female|20s|  Korea|   Seoul| Seongbuk-gu|contact with patient| 1000000002|             2|              null|2020-01-31 00:00:00|2020-02-24 00:00:00|         null|released|\n",
            "|1000000006|female|50s|  Korea|   Seoul|   Jongno-gu|contact with patient| 1000000003|            43|              null|2020-01-31 00:00:00|2020-02-19 00:00:00|         null|released|\n",
            "|1000000007|  male|20s|  Korea|   Seoul|   Jongno-gu|contact with patient| 1000000003|             0|              null|2020-01-31 00:00:00|2020-02-10 00:00:00|         null|released|\n",
            "|1000000008|  male|20s|  Korea|   Seoul|         etc|     overseas inflow|       null|             0|              null|2020-02-02 00:00:00|2020-02-24 00:00:00|         null|released|\n",
            "|1000000009|  male|30s|  Korea|   Seoul|   Songpa-gu|     overseas inflow|       null|            68|              null|2020-02-05 00:00:00|2020-02-21 00:00:00|         null|released|\n",
            "|1000000010|female|60s|  Korea|   Seoul| Seongbuk-gu|contact with patient| 1000000003|             6|              null|2020-02-05 00:00:00|2020-02-29 00:00:00|         null|released|\n",
            "|1000000011|female|50s|  China|   Seoul|Seodaemun-gu|     overseas inflow|       null|            23|              null|2020-02-06 00:00:00|2020-02-29 00:00:00|         null|released|\n",
            "|1000000012|  male|20s|  Korea|   Seoul|         etc|     overseas inflow|       null|             0|              null|2020-02-07 00:00:00|2020-02-27 00:00:00|         null|released|\n",
            "|1000000013|  male|80s|  Korea|   Seoul|   Jongno-gu|contact with patient| 1000000017|           117|              null|2020-02-16 00:00:00|               null|         null|deceased|\n",
            "|1000000014|female|60s|  Korea|   Seoul|   Jongno-gu|contact with patient| 1000000013|            27|        2020-02-06|2020-02-16 00:00:00|2020-03-12 00:00:00|         null|released|\n",
            "|1000000015|  male|70s|  Korea|   Seoul|Seongdong-gu|    Seongdong-gu APT|       null|             8|        2020-02-11|2020-02-19 00:00:00|               null|         null|released|\n",
            "|1000000016|  male|70s|  Korea|   Seoul|   Jongno-gu|contact with patient| 1000000017|          null|              null|2020-02-19 00:00:00|2020-03-11 00:00:00|         null|released|\n",
            "|1000000017|  male|70s|  Korea|   Seoul|   Jongno-gu|contact with patient| 1000000003|          null|              null|2020-02-20 00:00:00|2020-03-01 00:00:00|         null|released|\n",
            "|1000000018|  male|20s|  Korea|   Seoul|         etc|                 etc|       null|          null|              null|2020-02-20 00:00:00|               null|         null|released|\n",
            "|1000000019|female|70s|  Korea|   Seoul|   Jongno-gu|contact with patient| 1000000021|          null|              null|2020-02-20 00:00:00|2020-03-08 00:00:00|         null|released|\n",
            "|1000000020|female|70s|  Korea|   Seoul|Seongdong-gu|    Seongdong-gu APT| 1000000015|          null|              null|2020-02-20 00:00:00|               null|         null|released|\n",
            "+----------+------+---+-------+--------+------------+--------------------+-----------+--------------+------------------+-------------------+-------------------+-------------+--------+\n",
            "only showing top 20 rows\n",
            "\n"
          ]
        }
      ],
      "source": [
        "spark.sql(\"\"\"SELECT * FROM sqlView\"\"\").show()"
      ]
    },
    {
      "cell_type": "markdown",
      "id": "e0da4318",
      "metadata": {
        "id": "e0da4318"
      },
      "source": [
        "### *Using SQL commands*, limit the output to only 5 rows "
      ]
    },
    {
      "cell_type": "code",
      "execution_count": 105,
      "id": "97911bdd",
      "metadata": {
        "colab": {
          "base_uri": "https://localhost:8080/"
        },
        "id": "97911bdd",
        "outputId": "24ecbc1e-bd10-4930-b7f3-f7b722c371f4"
      },
      "outputs": [
        {
          "output_type": "stream",
          "name": "stdout",
          "text": [
            "+----------+------+---+-------+--------+-----------+--------------------+-----------+--------------+------------------+-------------------+-------------------+-------------+--------+\n",
            "|patient_id|   sex|age|country|province|       city|      infection_case|infected_by|contact_number|symptom_onset_date|     confirmed_date|      released_date|deceased_date|   state|\n",
            "+----------+------+---+-------+--------+-----------+--------------------+-----------+--------------+------------------+-------------------+-------------------+-------------+--------+\n",
            "|1000000001|  male|50s|  Korea|   Seoul| Gangseo-gu|     overseas inflow|       null|            75|        2020-01-22|2020-01-23 00:00:00|2020-02-05 00:00:00|         null|released|\n",
            "|1000000002|  male|30s|  Korea|   Seoul|Jungnang-gu|     overseas inflow|       null|            31|              null|2020-01-30 00:00:00|2020-03-02 00:00:00|         null|released|\n",
            "|1000000003|  male|50s|  Korea|   Seoul|  Jongno-gu|contact with patient| 2002000001|            17|              null|2020-01-30 00:00:00|2020-02-19 00:00:00|         null|released|\n",
            "|1000000004|  male|20s|  Korea|   Seoul|    Mapo-gu|     overseas inflow|       null|             9|        2020-01-26|2020-01-30 00:00:00|2020-02-15 00:00:00|         null|released|\n",
            "|1000000005|female|20s|  Korea|   Seoul|Seongbuk-gu|contact with patient| 1000000002|             2|              null|2020-01-31 00:00:00|2020-02-24 00:00:00|         null|released|\n",
            "+----------+------+---+-------+--------+-----------+--------------------+-----------+--------------+------------------+-------------------+-------------------+-------------+--------+\n",
            "\n"
          ]
        }
      ],
      "source": [
        "spark.sql(\"\"\"SELECT * FROM sqlView limit(5)\"\"\").show()"
      ]
    },
    {
      "cell_type": "markdown",
      "id": "b70edf17",
      "metadata": {
        "id": "b70edf17"
      },
      "source": [
        "### Select the count of males and females in the dataset"
      ]
    },
    {
      "cell_type": "code",
      "execution_count": 108,
      "id": "00e9fd65",
      "metadata": {
        "colab": {
          "base_uri": "https://localhost:8080/"
        },
        "id": "00e9fd65",
        "outputId": "537c09a5-da37-447a-c951-255b60c81a99"
      },
      "outputs": [
        {
          "output_type": "stream",
          "name": "stdout",
          "text": [
            "+-----------+\n",
            "|male_number|\n",
            "+-----------+\n",
            "|       1825|\n",
            "+-----------+\n",
            "\n"
          ]
        }
      ],
      "source": [
        "spark.sql(\"\"\"SELECT count(sex) as male_number FROM sqlView\n",
        "            WHERE sex = 'male' \"\"\").show()"
      ]
    },
    {
      "cell_type": "code",
      "source": [
        "spark.sql(\"\"\"SELECT count(sex) as female_numbers FROM sqlView\n",
        "            WHERE sex = 'female' \"\"\").show()"
      ],
      "metadata": {
        "colab": {
          "base_uri": "https://localhost:8080/"
        },
        "id": "2v7JZkm9N719",
        "outputId": "e7870dc7-9bdf-4177-e3af-9bed91dda939"
      },
      "id": "2v7JZkm9N719",
      "execution_count": 110,
      "outputs": [
        {
          "output_type": "stream",
          "name": "stdout",
          "text": [
            "+--------------+\n",
            "|female_numbers|\n",
            "+--------------+\n",
            "|          2218|\n",
            "+--------------+\n",
            "\n"
          ]
        }
      ]
    },
    {
      "cell_type": "markdown",
      "id": "73683674",
      "metadata": {
        "id": "73683674"
      },
      "source": [
        "### How many people did survive, and how many didn't?"
      ]
    },
    {
      "cell_type": "code",
      "source": [
        "spark.sql(\"\"\"SELECT count(state) as survived_cases  \n",
        "             FROM sqlView \n",
        "             WHERE state=='released' \"\"\").show()"
      ],
      "metadata": {
        "colab": {
          "base_uri": "https://localhost:8080/"
        },
        "id": "W4whaq3aPCCJ",
        "outputId": "33b3fa4a-32d9-40b3-f62c-21e3c916e3e7"
      },
      "id": "W4whaq3aPCCJ",
      "execution_count": 111,
      "outputs": [
        {
          "output_type": "stream",
          "name": "stdout",
          "text": [
            "+--------------+\n",
            "|survived_cases|\n",
            "+--------------+\n",
            "|          2929|\n",
            "+--------------+\n",
            "\n"
          ]
        }
      ]
    },
    {
      "cell_type": "code",
      "execution_count": 113,
      "id": "1e5a3908",
      "metadata": {
        "colab": {
          "base_uri": "https://localhost:8080/"
        },
        "id": "1e5a3908",
        "outputId": "bbbabe16-b30b-475c-c6e4-4836f3fd33fe"
      },
      "outputs": [
        {
          "output_type": "stream",
          "name": "stdout",
          "text": [
            "+---------------+\n",
            "|non_saved_cases|\n",
            "+---------------+\n",
            "|           2236|\n",
            "+---------------+\n",
            "\n"
          ]
        }
      ],
      "source": [
        "spark.sql(\"\"\"SELECT count(state) as non_saved_cases FROM sqlView\n",
        "            WHERE (state == 'isolated' OR state== 'deceased') \"\"\").show()"
      ]
    },
    {
      "cell_type": "markdown",
      "id": "d4424228",
      "metadata": {
        "id": "d4424228"
      },
      "source": [
        "### Now, let's perform some preprocessing using SQL:\n",
        "1. Convert *age* column to double after removing the 's' at the end -- *hint: check SUBSTRING method*\n",
        "2. Select only the following columns: `['sex', 'age', 'province', 'state']`\n",
        "3. Store the result of the query in a new dataframe"
      ]
    },
    {
      "cell_type": "code",
      "execution_count": 114,
      "id": "d3cf4f0f",
      "metadata": {
        "scrolled": true,
        "colab": {
          "base_uri": "https://localhost:8080/"
        },
        "id": "d3cf4f0f",
        "outputId": "114d2329-4200-40fc-c35d-3981910daf47"
      },
      "outputs": [
        {
          "output_type": "stream",
          "name": "stdout",
          "text": [
            "+------+----+--------+--------+\n",
            "|   sex| age|province|   state|\n",
            "+------+----+--------+--------+\n",
            "|  male|50.0|   Seoul|released|\n",
            "|  male|30.0|   Seoul|released|\n",
            "|  male|50.0|   Seoul|released|\n",
            "|  male|20.0|   Seoul|released|\n",
            "|female|20.0|   Seoul|released|\n",
            "|female|50.0|   Seoul|released|\n",
            "|  male|20.0|   Seoul|released|\n",
            "|  male|20.0|   Seoul|released|\n",
            "|  male|30.0|   Seoul|released|\n",
            "|female|60.0|   Seoul|released|\n",
            "|female|50.0|   Seoul|released|\n",
            "|  male|20.0|   Seoul|released|\n",
            "|  male|80.0|   Seoul|deceased|\n",
            "|female|60.0|   Seoul|released|\n",
            "|  male|70.0|   Seoul|released|\n",
            "|  male|70.0|   Seoul|released|\n",
            "|  male|70.0|   Seoul|released|\n",
            "|  male|20.0|   Seoul|released|\n",
            "|female|70.0|   Seoul|released|\n",
            "|female|70.0|   Seoul|released|\n",
            "+------+----+--------+--------+\n",
            "only showing top 20 rows\n",
            "\n"
          ]
        }
      ],
      "source": [
        "dfprocess=spark.sql(\" select sex,CAST(substring(age,1,length(age)-1) as double) as age ,province,state  from sqlView\")\n",
        "dfprocess.show()"
      ]
    },
    {
      "cell_type": "markdown",
      "id": "d4a24c24",
      "metadata": {
        "id": "d4a24c24"
      },
      "source": [
        "## Machine Learning \n",
        "### Create a pipeline model to predict is_dead and evaluate the performance.\n",
        "- Use <b>StringIndexer</b> to transform <b>string</b> data type to indices.\n",
        "- Use <b>OneHotEncoder</b> to deal with categorical values.\n",
        "- Use <b>Imputer</b> to fill missing data with mean."
      ]
    },
    {
      "cell_type": "code",
      "execution_count": 90,
      "id": "7a71806f",
      "metadata": {
        "id": "7a71806f"
      },
      "outputs": [],
      "source": [
        ""
      ]
    },
    {
      "cell_type": "code",
      "execution_count": 115,
      "id": "e2f3e1fb",
      "metadata": {
        "colab": {
          "base_uri": "https://localhost:8080/"
        },
        "id": "e2f3e1fb",
        "outputId": "5daf5bfd-635b-4492-81e3-8f0c70daa082"
      },
      "outputs": [
        {
          "output_type": "stream",
          "name": "stdout",
          "text": [
            "There are 4166 rows in the training set, and 999 in the test set\n"
          ]
        }
      ],
      "source": [
        "df_train, df_test = df9.randomSplit([.8,.2],seed=42)\n",
        "print(f\"There are {df_train.count()} rows in the training set, and {df_test.count()} in the test set\")"
      ]
    },
    {
      "cell_type": "code",
      "source": [
        "df_test.show(20)"
      ],
      "metadata": {
        "colab": {
          "base_uri": "https://localhost:8080/"
        },
        "id": "Nbf4_8wfXMY6",
        "outputId": "752e319c-8ec9-47e3-ed81-0a520361d579"
      },
      "id": "Nbf4_8wfXMY6",
      "execution_count": 116,
      "outputs": [
        {
          "output_type": "stream",
          "name": "stdout",
          "text": [
            "+--------+-------+-------+------+\n",
            "|province|is_male|is_dead|ageint|\n",
            "+--------+-------+-------+------+\n",
            "|   Busan|    0.0|    0.0|  10.0|\n",
            "|   Busan|    0.0|    0.0|  20.0|\n",
            "|   Busan|    0.0|    0.0|  20.0|\n",
            "|   Busan|    0.0|    0.0|  20.0|\n",
            "|   Busan|    0.0|    0.0|  20.0|\n",
            "|   Busan|    0.0|    0.0|  30.0|\n",
            "|   Busan|    0.0|    0.0|  30.0|\n",
            "|   Busan|    0.0|    0.0|  40.0|\n",
            "|   Busan|    0.0|    0.0|  50.0|\n",
            "|   Busan|    0.0|    0.0|  50.0|\n",
            "|   Busan|    0.0|    0.0|  60.0|\n",
            "|   Busan|    0.0|    0.0|  60.0|\n",
            "|   Busan|    0.0|    0.0|  60.0|\n",
            "|   Busan|    0.0|    0.0|  70.0|\n",
            "|   Busan|    0.0|    1.0|  20.0|\n",
            "|   Busan|    0.0|    1.0|  70.0|\n",
            "|   Busan|    1.0|    0.0|  10.0|\n",
            "|   Busan|    1.0|    0.0|  20.0|\n",
            "|   Busan|    1.0|    0.0|  40.0|\n",
            "|   Busan|    1.0|    0.0|  60.0|\n",
            "+--------+-------+-------+------+\n",
            "only showing top 20 rows\n",
            "\n"
          ]
        }
      ]
    },
    {
      "cell_type": "code",
      "source": [
        "df9.dtypes"
      ],
      "metadata": {
        "colab": {
          "base_uri": "https://localhost:8080/"
        },
        "id": "4UGCqnV_egjp",
        "outputId": "4c99e086-b35f-4749-934a-43a9a8e16d16"
      },
      "id": "4UGCqnV_egjp",
      "execution_count": 118,
      "outputs": [
        {
          "output_type": "execute_result",
          "data": {
            "text/plain": [
              "[('province', 'string'),\n",
              " ('is_male', 'double'),\n",
              " ('is_dead', 'double'),\n",
              " ('ageint', 'double')]"
            ]
          },
          "metadata": {},
          "execution_count": 118
        }
      ]
    },
    {
      "cell_type": "code",
      "execution_count": 119,
      "id": "43997ebd",
      "metadata": {
        "colab": {
          "base_uri": "https://localhost:8080/"
        },
        "id": "43997ebd",
        "outputId": "d464cb71-26b1-4bcc-bcd1-9a511b7da5f2"
      },
      "outputs": [
        {
          "output_type": "execute_result",
          "data": {
            "text/plain": [
              "['province']"
            ]
          },
          "metadata": {},
          "execution_count": 119
        }
      ],
      "source": [
        "cat_cols = [field for (field, dataType) in df_train.dtypes\n",
        "                  if dataType == 'string']\n",
        "cat_cols"
      ]
    },
    {
      "cell_type": "code",
      "execution_count": 123,
      "id": "3e2baa43",
      "metadata": {
        "colab": {
          "base_uri": "https://localhost:8080/"
        },
        "id": "3e2baa43",
        "outputId": "a5368454-d346-46c9-9598-398415d2a5cf"
      },
      "outputs": [
        {
          "output_type": "execute_result",
          "data": {
            "text/plain": [
              "['province_Index']"
            ]
          },
          "metadata": {},
          "execution_count": 123
        }
      ],
      "source": [
        "index_cols = [x + \"_Index\" for x in cat_cols]\n",
        "index_cols"
      ]
    },
    {
      "cell_type": "code",
      "execution_count": 121,
      "id": "8a9f20a1",
      "metadata": {
        "colab": {
          "base_uri": "https://localhost:8080/"
        },
        "id": "8a9f20a1",
        "outputId": "3c8cea53-8bf0-409d-8922-f0207021396e"
      },
      "outputs": [
        {
          "output_type": "execute_result",
          "data": {
            "text/plain": [
              "['province_OHE']"
            ]
          },
          "metadata": {},
          "execution_count": 121
        }
      ],
      "source": [
        "oheOutputCols = [x + \"_OHE\" for x in cat_cols]\n",
        "oheOutputCols"
      ]
    },
    {
      "cell_type": "code",
      "source": [
        "vector_input=index_cols+oheOutputCols"
      ],
      "metadata": {
        "id": "dUI5w54NhmBn"
      },
      "id": "dUI5w54NhmBn",
      "execution_count": 133,
      "outputs": []
    },
    {
      "cell_type": "code",
      "source": [
        "num_cols=[f for (f,d) in df9.dtypes if d !=\"string\" and f !=\"is_dead\"]\n",
        "num_cols"
      ],
      "metadata": {
        "colab": {
          "base_uri": "https://localhost:8080/"
        },
        "id": "NMp-hxHth9Fw",
        "outputId": "90a04a27-9d66-45a5-f6cb-4a39afa1292a"
      },
      "id": "NMp-hxHth9Fw",
      "execution_count": 130,
      "outputs": [
        {
          "output_type": "execute_result",
          "data": {
            "text/plain": [
              "['is_male', 'ageint']"
            ]
          },
          "metadata": {},
          "execution_count": 130
        }
      ]
    },
    {
      "cell_type": "code",
      "source": [
        "from pyspark.ml.evaluation import MulticlassClassificationEvaluator,BinaryClassificationEvaluator\n",
        "from pyspark.ml.classification import RandomForestClassifier\n",
        "from pyspark.ml.pipeline import Pipeline\n",
        "from pyspark.ml.feature import StringIndexer\n",
        "from pyspark.ml.feature import OneHotEncoder\n",
        "from pyspark.ml.feature import VectorAssembler , Imputer"
      ],
      "metadata": {
        "id": "QBaFUWZ4fDzP"
      },
      "id": "QBaFUWZ4fDzP",
      "execution_count": 144,
      "outputs": []
    },
    {
      "cell_type": "code",
      "execution_count": 134,
      "id": "4b5c7629",
      "metadata": {
        "id": "4b5c7629"
      },
      "outputs": [],
      "source": [
        "stringIndexer = StringIndexer(inputCols=cat_cols,\n",
        "                              outputCols=index_cols,\n",
        "                             handleInvalid='skip')\n",
        "\n",
        "oheEncoder = OneHotEncoder(inputCols=index_cols,\n",
        "                          outputCols=oheOutputCols)\n",
        "\n",
        "vector_assembler = VectorAssembler(inputCols=vector_input,\n",
        "                                   outputCol=\"features\")\n",
        "\n",
        "imputer = Imputer(inputCols=['ageint'],\n",
        "                  outputCols=['imputed_Age'],\n",
        "                  strategy=\"mean\")"
      ]
    },
    {
      "cell_type": "code",
      "execution_count": 135,
      "id": "2ffa8fcd",
      "metadata": {
        "id": "2ffa8fcd"
      },
      "outputs": [],
      "source": [
        "rf=RandomForestClassifier(numTrees=3, maxDepth=2, labelCol=\"is_dead\", seed=42,predictionCol=\"prediction\")\n"
      ]
    },
    {
      "cell_type": "code",
      "execution_count": 136,
      "id": "3f42e5ff",
      "metadata": {
        "id": "3f42e5ff"
      },
      "outputs": [],
      "source": [
        "myStages=[stringIndexer,oheEncoder,vector_assembler,imputer,rf]\n",
        "pipeline=Pipeline(stages=myStages)"
      ]
    },
    {
      "cell_type": "code",
      "execution_count": 137,
      "id": "ce83b2fe",
      "metadata": {
        "id": "ce83b2fe"
      },
      "outputs": [],
      "source": [
        "pipeline_model=pipeline.fit(df_train)"
      ]
    },
    {
      "cell_type": "code",
      "execution_count": 138,
      "id": "966d5d55",
      "metadata": {
        "colab": {
          "base_uri": "https://localhost:8080/"
        },
        "id": "966d5d55",
        "outputId": "3820eb76-2cfa-4600-d8d9-035b32fb020c"
      },
      "outputs": [
        {
          "output_type": "stream",
          "name": "stdout",
          "text": [
            "root\n",
            " |-- province: string (nullable = true)\n",
            " |-- is_male: double (nullable = true)\n",
            " |-- is_dead: double (nullable = true)\n",
            " |-- ageint: double (nullable = true)\n",
            " |-- province_Index: double (nullable = false)\n",
            " |-- province_OHE: vector (nullable = true)\n",
            " |-- features: vector (nullable = true)\n",
            " |-- imputed_Age: double (nullable = true)\n",
            " |-- rawPrediction: vector (nullable = true)\n",
            " |-- probability: vector (nullable = true)\n",
            " |-- prediction: double (nullable = false)\n",
            "\n"
          ]
        }
      ],
      "source": [
        "df_predict=pipeline_model.transform(df_train)\n",
        "df_predict.printSchema()"
      ]
    },
    {
      "cell_type": "code",
      "source": [
        ""
      ],
      "metadata": {
        "id": "dUOsYr2Li0Dj"
      },
      "id": "dUOsYr2Li0Dj",
      "execution_count": 139,
      "outputs": []
    },
    {
      "cell_type": "code",
      "execution_count": 140,
      "id": "17cb78b0",
      "metadata": {
        "id": "17cb78b0"
      },
      "outputs": [],
      "source": [
        "evaluatorMulti = MulticlassClassificationEvaluator(labelCol=\"is_dead\", predictionCol=\"prediction\")\n",
        "evaluator = BinaryClassificationEvaluator(labelCol=\"is_dead\", rawPredictionCol=\"prediction\", metricName='areaUnderROC')"
      ]
    },
    {
      "cell_type": "code",
      "source": [
        "predictionAndTarget =df_predict.select(\"prediction\",\"is_dead\")"
      ],
      "metadata": {
        "id": "ZpemXn1jjC-Q"
      },
      "id": "ZpemXn1jjC-Q",
      "execution_count": 141,
      "outputs": []
    },
    {
      "cell_type": "code",
      "source": [
        "accuracy = evaluatorMulti.evaluate(predictionAndTarget,{evaluatorMulti.metricName:\"accuracy\"})\n",
        "f1_score = evaluatorMulti.evaluate(predictionAndTarget,{evaluatorMulti.metricName:\"f1\"})\n",
        "print(f'accuracy of the model = {accuracy} \\n and the f1 score = {f1_score}' )"
      ],
      "metadata": {
        "colab": {
          "base_uri": "https://localhost:8080/"
        },
        "id": "AqRG3I38jJQg",
        "outputId": "3299b02b-db44-4ad9-b90e-172445bf02e0"
      },
      "id": "AqRG3I38jJQg",
      "execution_count": 143,
      "outputs": [
        {
          "output_type": "stream",
          "name": "stdout",
          "text": [
            "accuracy of the model = 0.8334133461353816 \n",
            " and the f1 score = 0.8290428830558987\n"
          ]
        }
      ]
    },
    {
      "cell_type": "code",
      "source": [
        ""
      ],
      "metadata": {
        "id": "isy39kxvjdQ6"
      },
      "id": "isy39kxvjdQ6",
      "execution_count": null,
      "outputs": []
    }
  ],
  "metadata": {
    "kernelspec": {
      "display_name": "Python 3 (ipykernel)",
      "language": "python",
      "name": "python3"
    },
    "language_info": {
      "codemirror_mode": {
        "name": "ipython",
        "version": 3
      },
      "file_extension": ".py",
      "mimetype": "text/x-python",
      "name": "python",
      "nbconvert_exporter": "python",
      "pygments_lexer": "ipython3",
      "version": "3.9.7"
    },
    "colab": {
      "name": "Mohamed Ibrahem Practical_Day_1_DF_SQL_ML.ipynb",
      "provenance": [],
      "collapsed_sections": []
    }
  },
  "nbformat": 4,
  "nbformat_minor": 5
}