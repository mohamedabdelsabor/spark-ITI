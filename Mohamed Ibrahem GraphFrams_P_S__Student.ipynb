{
  "cells": [
    {
      "cell_type": "markdown",
      "id": "779b346d",
      "metadata": {
        "id": "779b346d"
      },
      "source": [
        "## The following section is for Colab Users.\n",
        "### Just run the following code cells"
      ]
    },
    {
      "cell_type": "code",
      "execution_count": null,
      "id": "7d73eb01",
      "metadata": {
        "id": "7d73eb01",
        "colab": {
          "base_uri": "https://localhost:8080/"
        },
        "outputId": "45692a26-f875-497f-d853-cdbd015a8db2"
      },
      "outputs": [
        {
          "output_type": "stream",
          "name": "stdout",
          "text": [
            "\u001b[K     |████████████████████████████████| 281.3 MB 46 kB/s \n",
            "\u001b[K     |████████████████████████████████| 199 kB 65.9 MB/s \n",
            "\u001b[K     |████████████████████████████████| 154 kB 75.1 MB/s \n",
            "\u001b[?25h  Building wheel for pyspark (setup.py) ... \u001b[?25l\u001b[?25hdone\n"
          ]
        }
      ],
      "source": [
        "!apt-get install openjdk-11-jdk-headless -qq > /dev/null\n",
        "!wget -q https://bitbucket.org/habedi/datasets/raw/b6769c4664e7ff68b001e2f43bc517888cbe3642/spark/spark-3.0.2-bin-hadoop2.7.tgz\n",
        "!tar xf spark-3.0.2-bin-hadoop2.7.tgz\n",
        "!rm -rf spark-3.0.2-bin-hadoop2.7.tgz*\n",
        "!pip -q install findspark pyspark graphframes"
      ]
    },
    {
      "cell_type": "code",
      "execution_count": null,
      "id": "299e0d6a",
      "metadata": {
        "colab": {
          "base_uri": "https://localhost:8080/"
        },
        "id": "299e0d6a",
        "outputId": "bd19166c-ec46-481c-c72c-518be4476e85"
      },
      "outputs": [
        {
          "output_type": "stream",
          "name": "stdout",
          "text": [
            "--2022-06-28 11:43:07--  https://repos.spark-packages.org/graphframes/graphframes/0.8.2-spark3.0-s_2.12/graphframes-0.8.2-spark3.0-s_2.12.jar\n",
            "Resolving repos.spark-packages.org (repos.spark-packages.org)... 13.225.142.29, 13.225.142.128, 13.225.142.70, ...\n",
            "Connecting to repos.spark-packages.org (repos.spark-packages.org)|13.225.142.29|:443... connected.\n",
            "HTTP request sent, awaiting response... 200 OK\n",
            "Length: 247882 (242K) [binary/octet-stream]\n",
            "Saving to: ‘/content/spark-3.0.2-bin-hadoop2.7/jars/graphframes-0.8.2-spark3.0-s_2.12.jar’\n",
            "\n",
            "\r          graphfram   0%[                    ]       0  --.-KB/s               \rgraphframes-0.8.2-s 100%[===================>] 242.07K  --.-KB/s    in 0.02s   \n",
            "\n",
            "2022-06-28 11:43:07 (12.0 MB/s) - ‘/content/spark-3.0.2-bin-hadoop2.7/jars/graphframes-0.8.2-spark3.0-s_2.12.jar’ saved [247882/247882]\n",
            "\n"
          ]
        }
      ],
      "source": [
        "!wget https://repos.spark-packages.org/graphframes/graphframes/0.8.2-spark3.0-s_2.12/graphframes-0.8.2-spark3.0-s_2.12.jar -P /content/spark-3.0.2-bin-hadoop2.7/jars/\n",
        "!cp /content/spark-3.0.2-bin-hadoop2.7/jars/graphframes-0.8.2-spark3.0-s_2.12.jar /content/spark-3.0.2-bin-hadoop2.7/graphframes-0.8.2-spark3.0-s_2.12.zip"
      ]
    },
    {
      "cell_type": "code",
      "execution_count": 1,
      "id": "ee0d39ec",
      "metadata": {
        "id": "ee0d39ec"
      },
      "outputs": [],
      "source": [
        "import os\n",
        "\n",
        "os.environ[\"JAVA_HOME\"] = \"/usr/lib/jvm/java-11-openjdk-amd64\"\n",
        "os.environ[\"SPARK_HOME\"] = \"/content/spark-3.0.2-bin-hadoop2.7\"\n",
        "os.environ[\"HADOOP_HOME\"] = os.environ[\"SPARK_HOME\"]\n",
        "\n",
        "os.environ[\"PYSPARK_DRIVER_PYTHON\"] = \"jupyter\"\n",
        "os.environ[\"PYSPARK_DRIVER_PYTHON_OPTS\"] = \"notebook\"\n",
        "os.environ[\"PYSPARK_SUBMIT_ARGS\"] = \"--master local[*] pyspark-shell\""
      ]
    },
    {
      "cell_type": "code",
      "execution_count": 2,
      "id": "7136d8e6",
      "metadata": {
        "id": "7136d8e6"
      },
      "outputs": [],
      "source": [
        "import findspark\n",
        "findspark.init()"
      ]
    },
    {
      "cell_type": "code",
      "execution_count": 3,
      "id": "92f3e19b",
      "metadata": {
        "id": "92f3e19b"
      },
      "outputs": [],
      "source": [
        "!export PYSPARK_SUBMIT_ARGS=\"--master local[*] pyspark-shell\"\n",
        "!export PYSPARK_DRIVER_PYTHON=jupyter\n",
        "!export PYSPARK_DRIVER_PYTHON_OPTS=notebook"
      ]
    },
    {
      "cell_type": "code",
      "execution_count": 4,
      "id": "f1504ff4",
      "metadata": {
        "id": "f1504ff4"
      },
      "outputs": [],
      "source": [
        "from pyspark.sql import SparkSession\n",
        "from graphframes import *\n",
        "\n",
        "spark = SparkSession.builder.master(\"local[*]\").appName(\"GraphFrames\").getOrCreate()"
      ]
    },
    {
      "cell_type": "code",
      "execution_count": 5,
      "id": "252db99a",
      "metadata": {
        "id": "252db99a"
      },
      "outputs": [],
      "source": [
        "os.environ[\"PYSPARK_SUBMIT_ARGS\"] = \"--packages graphframes:graphframes:0.8.1-spark3.0-s_2.12 pyspark-shell\""
      ]
    },
    {
      "cell_type": "markdown",
      "id": "66232934",
      "metadata": {
        "id": "66232934"
      },
      "source": [
        "**************************************************************************\n",
        "**************************************************************************\n",
        "**************************************************************************"
      ]
    },
    {
      "cell_type": "code",
      "execution_count": 5,
      "id": "c90808ca",
      "metadata": {
        "id": "c90808ca"
      },
      "outputs": [],
      "source": [
        ""
      ]
    },
    {
      "cell_type": "code",
      "execution_count": 6,
      "id": "2a0819b3",
      "metadata": {
        "id": "2a0819b3",
        "outputId": "1f8e9cd7-1adc-4413-efdb-967edabd1935",
        "colab": {
          "base_uri": "https://localhost:8080/",
          "height": 17
        }
      },
      "outputs": [
        {
          "output_type": "display_data",
          "data": {
            "text/plain": [
              "<IPython.core.display.HTML object>"
            ],
            "text/html": [
              "<style>pre { white-space: pre !important; }</style>"
            ]
          },
          "metadata": {}
        }
      ],
      "source": [
        "from IPython.display import display, HTML\n",
        "display(HTML(\"<style>pre { white-space: pre !important; }</style>\"))"
      ]
    },
    {
      "cell_type": "markdown",
      "id": "d7f57da0",
      "metadata": {
        "id": "d7f57da0"
      },
      "source": [
        "### Read departuredelays.csv in Edge DataFrame\n",
        "### Read airport-codes-na.txt in Vertix DataFrame (the separator is Tab i.e sep = '\\t' )"
      ]
    },
    {
      "cell_type": "markdown",
      "id": "631c334e",
      "metadata": {
        "id": "631c334e"
      },
      "source": [
        "#### The US flight delays data set has five columns:\n",
        "- The <b>date</b> column contains an integer like 02190925 . When converted, this maps to 02-19 09:25 am.\n",
        "- The <b>delay</b> column gives the delay in minutes between the scheduled and actual departure times. Early departures show negative numbers.\n",
        "- The <b>distance</b> column gives the distance in miles from the origin airport to the destination airport.\n",
        "- The <b>origin</b> column contains the origin IATA airport code.\n",
        "- The <b>destination</b> column contains the destination IATA airport code.\n",
        "\n",
        "#### The airport-codes data set has four columns:\n",
        "- The <b>IATA</b> column contains IATA airport code.\n",
        "- The <b>City, State, and Country</b> columns contains information about the airport location. "
      ]
    },
    {
      "cell_type": "code",
      "source": [
        "vertix = spark.read.csv(\"airport-codes-na.txt\" , header= True ,\n",
        "                                    inferSchema =True ,sep = \"\\t\")"
      ],
      "metadata": {
        "id": "JwbCzGUfsOrb"
      },
      "id": "JwbCzGUfsOrb",
      "execution_count": 7,
      "outputs": []
    },
    {
      "cell_type": "code",
      "source": [
        "vertix.show()"
      ],
      "metadata": {
        "colab": {
          "base_uri": "https://localhost:8080/"
        },
        "id": "dXHGeN0iqBAO",
        "outputId": "5266483e-2ee2-41fe-a22d-339d386a5b89"
      },
      "id": "dXHGeN0iqBAO",
      "execution_count": 8,
      "outputs": [
        {
          "output_type": "stream",
          "name": "stdout",
          "text": [
            "+-----------+-----+-------+----+\n",
            "|       City|State|Country|IATA|\n",
            "+-----------+-----+-------+----+\n",
            "| Abbotsford|   BC| Canada| YXX|\n",
            "|   Aberdeen|   SD|    USA| ABR|\n",
            "|    Abilene|   TX|    USA| ABI|\n",
            "|      Akron|   OH|    USA| CAK|\n",
            "|    Alamosa|   CO|    USA| ALS|\n",
            "|     Albany|   GA|    USA| ABY|\n",
            "|     Albany|   NY|    USA| ALB|\n",
            "|Albuquerque|   NM|    USA| ABQ|\n",
            "| Alexandria|   LA|    USA| AEX|\n",
            "|  Allentown|   PA|    USA| ABE|\n",
            "|   Alliance|   NE|    USA| AIA|\n",
            "|     Alpena|   MI|    USA| APN|\n",
            "|    Altoona|   PA|    USA| AOO|\n",
            "|   Amarillo|   TX|    USA| AMA|\n",
            "|Anahim Lake|   BC| Canada| YAA|\n",
            "|  Anchorage|   AK|    USA| ANC|\n",
            "|   Appleton|   WI|    USA| ATW|\n",
            "|     Arviat|  NWT| Canada| YEK|\n",
            "|  Asheville|   NC|    USA| AVL|\n",
            "|      Aspen|   CO|    USA| ASE|\n",
            "+-----------+-----+-------+----+\n",
            "only showing top 20 rows\n",
            "\n"
          ]
        }
      ]
    },
    {
      "cell_type": "code",
      "execution_count": 9,
      "id": "30f02a5a",
      "metadata": {
        "id": "30f02a5a",
        "colab": {
          "base_uri": "https://localhost:8080/"
        },
        "outputId": "24389232-c7c6-4eae-c829-72ccf2653110"
      },
      "outputs": [
        {
          "output_type": "stream",
          "name": "stdout",
          "text": [
            "+-------+-----+--------+------+-----------+\n",
            "|   date|delay|distance|origin|destination|\n",
            "+-------+-----+--------+------+-----------+\n",
            "|1011245|    6|     602|   ABE|        ATL|\n",
            "|1020600|   -8|     369|   ABE|        DTW|\n",
            "|1021245|   -2|     602|   ABE|        ATL|\n",
            "|1020605|   -4|     602|   ABE|        ATL|\n",
            "|1031245|   -4|     602|   ABE|        ATL|\n",
            "|1030605|    0|     602|   ABE|        ATL|\n",
            "|1041243|   10|     602|   ABE|        ATL|\n",
            "|1040605|   28|     602|   ABE|        ATL|\n",
            "|1051245|   88|     602|   ABE|        ATL|\n",
            "|1050605|    9|     602|   ABE|        ATL|\n",
            "|1061215|   -6|     602|   ABE|        ATL|\n",
            "|1061725|   69|     602|   ABE|        ATL|\n",
            "|1061230|    0|     369|   ABE|        DTW|\n",
            "|1060625|   -3|     602|   ABE|        ATL|\n",
            "|1070600|    0|     369|   ABE|        DTW|\n",
            "|1071725|    0|     602|   ABE|        ATL|\n",
            "|1071230|    0|     369|   ABE|        DTW|\n",
            "|1070625|    0|     602|   ABE|        ATL|\n",
            "|1071219|    0|     569|   ABE|        ORD|\n",
            "|1080600|    0|     369|   ABE|        DTW|\n",
            "+-------+-----+--------+------+-----------+\n",
            "only showing top 20 rows\n",
            "\n"
          ]
        }
      ],
      "source": [
        "edge = spark.read.csv('departuredelays.csv' ,header=True , inferSchema =True)\n",
        "edge.show()"
      ]
    },
    {
      "cell_type": "code",
      "source": [
        "edge.show(20)"
      ],
      "metadata": {
        "colab": {
          "base_uri": "https://localhost:8080/"
        },
        "id": "Hq1sf4AKhfGn",
        "outputId": "5a5cd12d-e8a2-4940-918c-91a47e1f26d6"
      },
      "id": "Hq1sf4AKhfGn",
      "execution_count": 10,
      "outputs": [
        {
          "output_type": "stream",
          "name": "stdout",
          "text": [
            "+-------+-----+--------+------+-----------+\n",
            "|   date|delay|distance|origin|destination|\n",
            "+-------+-----+--------+------+-----------+\n",
            "|1011245|    6|     602|   ABE|        ATL|\n",
            "|1020600|   -8|     369|   ABE|        DTW|\n",
            "|1021245|   -2|     602|   ABE|        ATL|\n",
            "|1020605|   -4|     602|   ABE|        ATL|\n",
            "|1031245|   -4|     602|   ABE|        ATL|\n",
            "|1030605|    0|     602|   ABE|        ATL|\n",
            "|1041243|   10|     602|   ABE|        ATL|\n",
            "|1040605|   28|     602|   ABE|        ATL|\n",
            "|1051245|   88|     602|   ABE|        ATL|\n",
            "|1050605|    9|     602|   ABE|        ATL|\n",
            "|1061215|   -6|     602|   ABE|        ATL|\n",
            "|1061725|   69|     602|   ABE|        ATL|\n",
            "|1061230|    0|     369|   ABE|        DTW|\n",
            "|1060625|   -3|     602|   ABE|        ATL|\n",
            "|1070600|    0|     369|   ABE|        DTW|\n",
            "|1071725|    0|     602|   ABE|        ATL|\n",
            "|1071230|    0|     369|   ABE|        DTW|\n",
            "|1070625|    0|     602|   ABE|        ATL|\n",
            "|1071219|    0|     569|   ABE|        ORD|\n",
            "|1080600|    0|     369|   ABE|        DTW|\n",
            "+-------+-----+--------+------+-----------+\n",
            "only showing top 20 rows\n",
            "\n"
          ]
        }
      ]
    },
    {
      "cell_type": "markdown",
      "id": "e1d90463",
      "metadata": {
        "id": "e1d90463"
      },
      "source": [
        "### In the vertix DataFrame, drop any duplicated rows with the same  IATA code."
      ]
    },
    {
      "cell_type": "code",
      "execution_count": 11,
      "id": "15571db4",
      "metadata": {
        "id": "15571db4",
        "colab": {
          "base_uri": "https://localhost:8080/"
        },
        "outputId": "7b7970a8-5caa-47ba-bc35-176391d50abf"
      },
      "outputs": [
        {
          "output_type": "stream",
          "name": "stdout",
          "text": [
            "+-----------+-----+-------+----+\n",
            "|       City|State|Country|IATA|\n",
            "+-----------+-----+-------+----+\n",
            "| Abbotsford|   BC| Canada| YXX|\n",
            "|   Aberdeen|   SD|    USA| ABR|\n",
            "|    Abilene|   TX|    USA| ABI|\n",
            "|      Akron|   OH|    USA| CAK|\n",
            "|    Alamosa|   CO|    USA| ALS|\n",
            "|     Albany|   GA|    USA| ABY|\n",
            "|     Albany|   NY|    USA| ALB|\n",
            "|Albuquerque|   NM|    USA| ABQ|\n",
            "| Alexandria|   LA|    USA| AEX|\n",
            "|  Allentown|   PA|    USA| ABE|\n",
            "+-----------+-----+-------+----+\n",
            "only showing top 10 rows\n",
            "\n"
          ]
        }
      ],
      "source": [
        "vertix.dropDuplicates()\n",
        "vertix.show(10)"
      ]
    },
    {
      "cell_type": "markdown",
      "id": "83d1dea8",
      "metadata": {
        "id": "83d1dea8"
      },
      "source": [
        "### In the edges DataFrame:\n",
        "- Rename the <b>date</b> columns to become <b>tripid</b>.\n",
        "- Rename the <b>origin</b> columns to become <b>src</b>.\n",
        "- Rename the <b>destination</b> columns to become <b>dst</b>."
      ]
    },
    {
      "cell_type": "code",
      "execution_count": 12,
      "id": "5319e844",
      "metadata": {
        "id": "5319e844",
        "colab": {
          "base_uri": "https://localhost:8080/"
        },
        "outputId": "8ab2b68f-f3c9-4bf8-cf26-da4a73c26f98"
      },
      "outputs": [
        {
          "output_type": "stream",
          "name": "stdout",
          "text": [
            "+-------+-----+--------+---+---+\n",
            "| tripid|delay|distance|src|dst|\n",
            "+-------+-----+--------+---+---+\n",
            "|1011245|    6|     602|ABE|ATL|\n",
            "|1020600|   -8|     369|ABE|DTW|\n",
            "|1021245|   -2|     602|ABE|ATL|\n",
            "|1020605|   -4|     602|ABE|ATL|\n",
            "|1031245|   -4|     602|ABE|ATL|\n",
            "|1030605|    0|     602|ABE|ATL|\n",
            "|1041243|   10|     602|ABE|ATL|\n",
            "|1040605|   28|     602|ABE|ATL|\n",
            "|1051245|   88|     602|ABE|ATL|\n",
            "|1050605|    9|     602|ABE|ATL|\n",
            "+-------+-----+--------+---+---+\n",
            "only showing top 10 rows\n",
            "\n"
          ]
        }
      ],
      "source": [
        "edge1 = edge.withColumnRenamed(\"date\",\"tripid\").withColumnRenamed(\"origin\",\"src\").withColumnRenamed('destination' , 'dst')\n",
        "edge1.show(10)"
      ]
    },
    {
      "cell_type": "markdown",
      "id": "260660dc",
      "metadata": {
        "id": "260660dc"
      },
      "source": [
        "### In the Vertix DataFrame:\n",
        "- Rename the <b>IATA</b> columns to become <b>id</b>."
      ]
    },
    {
      "cell_type": "code",
      "source": [
        "vertix1 = vertix.withColumnRenamed(\"IATA\",\"id\")\n",
        "vertix1.show(5)"
      ],
      "metadata": {
        "colab": {
          "base_uri": "https://localhost:8080/"
        },
        "id": "X5YJMmJ5fBnt",
        "outputId": "e2e9c472-8056-4130-96d2-b7df5458b3cc"
      },
      "id": "X5YJMmJ5fBnt",
      "execution_count": 13,
      "outputs": [
        {
          "output_type": "stream",
          "name": "stdout",
          "text": [
            "+----------+-----+-------+---+\n",
            "|      City|State|Country| id|\n",
            "+----------+-----+-------+---+\n",
            "|Abbotsford|   BC| Canada|YXX|\n",
            "|  Aberdeen|   SD|    USA|ABR|\n",
            "|   Abilene|   TX|    USA|ABI|\n",
            "|     Akron|   OH|    USA|CAK|\n",
            "|   Alamosa|   CO|    USA|ALS|\n",
            "+----------+-----+-------+---+\n",
            "only showing top 5 rows\n",
            "\n"
          ]
        }
      ]
    },
    {
      "cell_type": "code",
      "source": [
        "vertix1.cache()"
      ],
      "metadata": {
        "colab": {
          "base_uri": "https://localhost:8080/"
        },
        "id": "Nb8b9x7LfH0w",
        "outputId": "79c63b4b-4ab6-425f-fb74-826082a5107d"
      },
      "id": "Nb8b9x7LfH0w",
      "execution_count": 14,
      "outputs": [
        {
          "output_type": "execute_result",
          "data": {
            "text/plain": [
              "DataFrame[City: string, State: string, Country: string, id: string]"
            ]
          },
          "metadata": {},
          "execution_count": 14
        }
      ]
    },
    {
      "cell_type": "markdown",
      "id": "4b50a1fe",
      "metadata": {
        "id": "4b50a1fe"
      },
      "source": [
        "### Create GraphFrame from Vertix and Edges DataFrames"
      ]
    },
    {
      "cell_type": "code",
      "execution_count": 15,
      "id": "72be9d09",
      "metadata": {
        "id": "72be9d09",
        "colab": {
          "base_uri": "https://localhost:8080/"
        },
        "outputId": "832d118f-bb9e-4185-e0e5-c03f2c855f15"
      },
      "outputs": [
        {
          "output_type": "stream",
          "name": "stdout",
          "text": [
            "GraphFrame(v:[id: string, City: string ... 2 more fields], e:[src: string, dst: string ... 3 more fields])\n"
          ]
        }
      ],
      "source": [
        "airportGraph = GraphFrame(vertix1, edge1)\n",
        "print(airportGraph)"
      ]
    },
    {
      "cell_type": "markdown",
      "id": "abd2ebc6",
      "metadata": {
        "id": "abd2ebc6"
      },
      "source": [
        "### Determine the number of airports"
      ]
    },
    {
      "cell_type": "code",
      "execution_count": 16,
      "id": "f38688c9",
      "metadata": {
        "id": "f38688c9",
        "colab": {
          "base_uri": "https://localhost:8080/"
        },
        "outputId": "6511982c-fd64-45e9-a7f5-bcf0eac702e2"
      },
      "outputs": [
        {
          "output_type": "stream",
          "name": "stdout",
          "text": [
            "Airports count =  526\n"
          ]
        }
      ],
      "source": [
        "print(f\"Airports count =  {airportGraph.vertices.count()}\")"
      ]
    },
    {
      "cell_type": "markdown",
      "id": "435187a8",
      "metadata": {
        "id": "435187a8"
      },
      "source": [
        "### Determine the number of trips "
      ]
    },
    {
      "cell_type": "code",
      "execution_count": 17,
      "id": "db2a507d",
      "metadata": {
        "id": "db2a507d",
        "colab": {
          "base_uri": "https://localhost:8080/"
        },
        "outputId": "cc562cdb-dc06-49b5-e1a6-5c38a7cb413c"
      },
      "outputs": [
        {
          "output_type": "stream",
          "name": "stdout",
          "text": [
            "Trips = 1391578\n"
          ]
        }
      ],
      "source": [
        "print(f\"Trips = {airportGraph.edges.count()}\")"
      ]
    },
    {
      "cell_type": "markdown",
      "id": "dec8731f",
      "metadata": {
        "id": "dec8731f"
      },
      "source": [
        "### What is the longest delay?"
      ]
    },
    {
      "cell_type": "code",
      "execution_count": 18,
      "id": "df3d6aac",
      "metadata": {
        "id": "df3d6aac",
        "colab": {
          "base_uri": "https://localhost:8080/"
        },
        "outputId": "86e33e1b-a6c9-4849-a004-82dee2c596bb"
      },
      "outputs": [
        {
          "output_type": "stream",
          "name": "stdout",
          "text": [
            "+----------+\n",
            "|max(delay)|\n",
            "+----------+\n",
            "|      1642|\n",
            "+----------+\n",
            "\n"
          ]
        }
      ],
      "source": [
        "longest = airportGraph.edges.groupBy().max(\"delay\")\n",
        "longest.show()"
      ]
    },
    {
      "cell_type": "markdown",
      "id": "202d888c",
      "metadata": {
        "id": "202d888c"
      },
      "source": [
        "### Find out the number of delayed flights vs. early flights (flights that departed before actual time)"
      ]
    },
    {
      "cell_type": "code",
      "execution_count": 19,
      "id": "7cdd7ff7",
      "metadata": {
        "id": "7cdd7ff7",
        "colab": {
          "base_uri": "https://localhost:8080/"
        },
        "outputId": "fbf6109f-3c14-4ec7-df8e-5e8430a7c5be"
      },
      "outputs": [
        {
          "output_type": "stream",
          "name": "stdout",
          "text": [
            "Ontime - Early Flights :  799851\n",
            "Delayed Flights :  591727\n"
          ]
        }
      ],
      "source": [
        "print(f\"Ontime - Early Flights : \" , airportGraph.edges.filter(\"delay <= 0\").count())\n",
        "print(f\"Delayed Flights : \" , airportGraph.edges.filter(\"delay > 0\").count())"
      ]
    },
    {
      "cell_type": "markdown",
      "id": "30961bc3",
      "metadata": {
        "id": "30961bc3"
      },
      "source": [
        "### What flight destinations departing SFO are most likely to have significant delays? Select the top 10\n",
        "#### Hint: you should get the average delay for each destination for trips that depart from SFO only"
      ]
    },
    {
      "cell_type": "code",
      "execution_count": 20,
      "id": "afdc6842",
      "metadata": {
        "id": "afdc6842",
        "colab": {
          "base_uri": "https://localhost:8080/"
        },
        "outputId": "293226ba-8d13-45ac-949a-3bb79dde388d"
      },
      "outputs": [
        {
          "output_type": "stream",
          "name": "stdout",
          "text": [
            "+---+---+------------------+\n",
            "|src|dst|        avg(delay)|\n",
            "+---+---+------------------+\n",
            "|SFO|OKC|59.073170731707314|\n",
            "|SFO|JAC| 57.13333333333333|\n",
            "|SFO|COS|53.976190476190474|\n",
            "|SFO|OTH| 48.09090909090909|\n",
            "|SFO|SAT|            47.625|\n",
            "|SFO|MOD| 46.80952380952381|\n",
            "|SFO|SUN|46.723404255319146|\n",
            "|SFO|CIC| 46.72164948453608|\n",
            "|SFO|ABQ|           44.8125|\n",
            "|SFO|ASE|44.285714285714285|\n",
            "+---+---+------------------+\n",
            "only showing top 10 rows\n",
            "\n"
          ]
        }
      ],
      "source": [
        "from pyspark.sql.functions import *\n",
        "sfo1 = airportGraph.edges.filter(\"src = 'SFO' and delay > 0\").groupBy(\"src\", \"dst\").avg(\"delay\").sort(desc(\"avg(delay)\"))\n",
        "sfo1.show(10)"
      ]
    },
    {
      "cell_type": "markdown",
      "source": [
        "##Incoming and outgoing connections"
      ],
      "metadata": {
        "id": "GgRjf_qNo0zl"
      },
      "id": "GgRjf_qNo0zl"
    },
    {
      "cell_type": "code",
      "source": [
        "airportGraph.degrees.orderBy(desc(\"degree\")).show(20)"
      ],
      "metadata": {
        "id": "cCSeotN8fSva",
        "colab": {
          "base_uri": "https://localhost:8080/"
        },
        "outputId": "d4de9e0b-b05b-4650-c143-bd5a72a3ef30"
      },
      "id": "cCSeotN8fSva",
      "execution_count": 21,
      "outputs": [
        {
          "output_type": "stream",
          "name": "stdout",
          "text": [
            "+---+------+\n",
            "| id|degree|\n",
            "+---+------+\n",
            "|ATL|181918|\n",
            "|DFW|134532|\n",
            "|ORD|126195|\n",
            "|LAX|107687|\n",
            "|DEN|104069|\n",
            "|IAH| 86061|\n",
            "|PHX| 79876|\n",
            "|SFO| 78471|\n",
            "|LAS| 66101|\n",
            "|CLT| 56790|\n",
            "|MCO| 56272|\n",
            "|EWR| 55308|\n",
            "|SLC| 51191|\n",
            "|LGA| 50927|\n",
            "|BOS| 50708|\n",
            "|JFK| 47056|\n",
            "|DTW| 46731|\n",
            "|MSP| 46416|\n",
            "|SEA| 46152|\n",
            "|MIA| 43622|\n",
            "+---+------+\n",
            "only showing top 20 rows\n",
            "\n"
          ]
        }
      ]
    },
    {
      "cell_type": "markdown",
      "id": "71d46665",
      "metadata": {
        "id": "71d46665"
      },
      "source": [
        "### Find the Incoming connections to the airport sorted in Desc. order."
      ]
    },
    {
      "cell_type": "code",
      "execution_count": 22,
      "id": "c28925c3",
      "metadata": {
        "id": "c28925c3",
        "colab": {
          "base_uri": "https://localhost:8080/"
        },
        "outputId": "ca9aee5f-ea96-4581-e20b-fa9ca4241a52"
      },
      "outputs": [
        {
          "output_type": "stream",
          "name": "stdout",
          "text": [
            "+---+--------+\n",
            "| id|inDegree|\n",
            "+---+--------+\n",
            "|ATL|   90434|\n",
            "|DFW|   66050|\n",
            "|ORD|   61967|\n",
            "|LAX|   53601|\n",
            "|DEN|   50921|\n",
            "|IAH|   42700|\n",
            "|PHX|   39721|\n",
            "|SFO|   38988|\n",
            "|LAS|   32994|\n",
            "|CLT|   28388|\n",
            "|MCO|   27959|\n",
            "|EWR|   27652|\n",
            "|LGA|   25469|\n",
            "|BOS|   25360|\n",
            "|SLC|   25323|\n",
            "|JFK|   23484|\n",
            "|DTW|   23310|\n",
            "|SEA|   23074|\n",
            "|MSP|   22385|\n",
            "|MIA|   21805|\n",
            "+---+--------+\n",
            "only showing top 20 rows\n",
            "\n"
          ]
        }
      ],
      "source": [
        "airportGraph.inDegrees.orderBy(col('inDegree').desc()).show(20)"
      ]
    },
    {
      "cell_type": "markdown",
      "id": "d1b6509d",
      "metadata": {
        "id": "d1b6509d"
      },
      "source": [
        "### Find the Outgoing connections from the airport sorted in Desc. order."
      ]
    },
    {
      "cell_type": "code",
      "execution_count": 23,
      "id": "631af51d",
      "metadata": {
        "id": "631af51d",
        "colab": {
          "base_uri": "https://localhost:8080/"
        },
        "outputId": "d59bda43-71b4-4877-8eef-8c476f593194"
      },
      "outputs": [
        {
          "output_type": "stream",
          "name": "stdout",
          "text": [
            "+---+---------+\n",
            "| id|outDegree|\n",
            "+---+---------+\n",
            "|ATL|    91484|\n",
            "|DFW|    68482|\n",
            "|ORD|    64228|\n",
            "|LAX|    54086|\n",
            "|DEN|    53148|\n",
            "|IAH|    43361|\n",
            "|PHX|    40155|\n",
            "|SFO|    39483|\n",
            "|LAS|    33107|\n",
            "|CLT|    28402|\n",
            "|MCO|    28313|\n",
            "|EWR|    27656|\n",
            "|SLC|    25868|\n",
            "|LGA|    25458|\n",
            "|BOS|    25348|\n",
            "|MSP|    24031|\n",
            "|JFK|    23572|\n",
            "|DTW|    23421|\n",
            "|SEA|    23078|\n",
            "|MIA|    21817|\n",
            "+---+---------+\n",
            "only showing top 20 rows\n",
            "\n"
          ]
        }
      ],
      "source": [
        "airportGraph.outDegrees.orderBy(col('outDegree').desc()).show(20)"
      ]
    },
    {
      "cell_type": "markdown",
      "id": "fbec58ce",
      "metadata": {
        "id": "fbec58ce"
      },
      "source": [
        "### Use motif finding to answer this question: which delays could we blame on SFO?\n",
        "#### Hint: this practically means that SFO is a transit station"
      ]
    },
    {
      "cell_type": "code",
      "execution_count": 24,
      "id": "db17f3df",
      "metadata": {
        "id": "db17f3df",
        "colab": {
          "base_uri": "https://localhost:8080/"
        },
        "outputId": "4562bc3b-7610-49c3-8636-3292983967e7"
      },
      "outputs": [
        {
          "output_type": "stream",
          "name": "stdout",
          "text": [
            "+--------------------+--------------------+--------------------+--------------------+--------------------+\n",
            "|                   a|                  ab|                   b|                  bc|                   c|\n",
            "+--------------------+--------------------+--------------------+--------------------+--------------------+\n",
            "|[Albuquerque, NM,...|[1020600, 0, 779,...|[San Francisco, C...|[1021507, 536, 22...|[New York, NY, US...|\n",
            "|[Albuquerque, NM,...|[1210815, -12, 77...|[San Francisco, C...|[1211508, 593, 22...|[New York, NY, US...|\n",
            "|[Eureka, CA, USA,...|[1011635, -15, 21...|[San Francisco, C...|[1021507, 536, 22...|[New York, NY, US...|\n",
            "|[Eureka, CA, USA,...|[1012016, -4, 217...|[San Francisco, C...|[1021507, 536, 22...|[New York, NY, US...|\n",
            "|[Eureka, CA, USA,...|[1020531, -2, 217...|[San Francisco, C...|[1021507, 536, 22...|[New York, NY, US...|\n",
            "|[Eureka, CA, USA,...|[1020948, -11, 21...|[San Francisco, C...|[1021507, 536, 22...|[New York, NY, US...|\n",
            "|[Eureka, CA, USA,...|[1021506, -3, 217...|[San Francisco, C...|[1021507, 536, 22...|[New York, NY, US...|\n",
            "|[Eureka, CA, USA,...|[1021318, -9, 217...|[San Francisco, C...|[1021507, 536, 22...|[New York, NY, US...|\n",
            "|[Eureka, CA, USA,...|[1020837, 12, 217...|[San Francisco, C...|[1021507, 536, 22...|[New York, NY, US...|\n",
            "|[Eureka, CA, USA,...|[1201703, -10, 21...|[San Francisco, C...|[1211508, 593, 22...|[New York, NY, US...|\n",
            "|[Eureka, CA, USA,...|[1210545, 0, 217,...|[San Francisco, C...|[1211508, 593, 22...|[New York, NY, US...|\n",
            "|[Eureka, CA, USA,...|[1211503, -10, 21...|[San Francisco, C...|[1211508, 593, 22...|[New York, NY, US...|\n",
            "|[Eureka, CA, USA,...|[1210948, 28, 217...|[San Francisco, C...|[1211508, 593, 22...|[New York, NY, US...|\n",
            "|[Eureka, CA, USA,...|[1211316, 9, 217,...|[San Francisco, C...|[1211508, 593, 22...|[New York, NY, US...|\n",
            "|[Eureka, CA, USA,...|[1210838, 91, 217...|[San Francisco, C...|[1211508, 593, 22...|[New York, NY, US...|\n",
            "|[Anchorage, AK, U...|[1012330, -4, 175...|[San Francisco, C...|[1021507, 536, 22...|[New York, NY, US...|\n",
            "|[Atlanta, GA, USA...|[1012130, 24, 185...|[San Francisco, C...|[1021507, 536, 22...|[New York, NY, US...|\n",
            "|[Atlanta, GA, USA...|[1011625, 6, 1859...|[San Francisco, C...|[1021507, 536, 22...|[New York, NY, US...|\n",
            "|[Atlanta, GA, USA...|[1021106, 26, 185...|[San Francisco, C...|[1021507, 536, 22...|[New York, NY, US...|\n",
            "|[Atlanta, GA, USA...|[1020944, 7, 1859...|[San Francisco, C...|[1021507, 536, 22...|[New York, NY, US...|\n",
            "+--------------------+--------------------+--------------------+--------------------+--------------------+\n",
            "only showing top 20 rows\n",
            "\n"
          ]
        }
      ],
      "source": [
        "motifs = airportGraph.find(\"(a)-[ab]->(b); (b)-[bc]->(c)\").filter(\"(b.id = 'SFO') and (ab.delay > 500 or bc.delay > 500) and bc.tripid > ab.tripid and bc.tripid < ab.tripid + 10000\")\n",
        "motifs.show()"
      ]
    },
    {
      "cell_type": "markdown",
      "id": "cc1ece96",
      "metadata": {
        "id": "cc1ece96"
      },
      "source": [
        "\n",
        "### Determine Airport Ranking in Desc. order using PageRank algorithm"
      ]
    },
    {
      "cell_type": "code",
      "execution_count": 25,
      "id": "f754d545",
      "metadata": {
        "id": "f754d545"
      },
      "outputs": [],
      "source": [
        "rank = airportGraph.pageRank(resetProbability=0.15 , tol = 0.01)"
      ]
    },
    {
      "cell_type": "code",
      "source": [
        "rank.vertices.orderBy(desc(\"pagerank\")).show()"
      ],
      "metadata": {
        "id": "KQbJDxgBWP6J",
        "colab": {
          "base_uri": "https://localhost:8080/"
        },
        "outputId": "f5765149-6403-49a8-8ef1-48a3ead50353"
      },
      "id": "KQbJDxgBWP6J",
      "execution_count": 26,
      "outputs": [
        {
          "output_type": "stream",
          "name": "stdout",
          "text": [
            "+--------------+-----+-------+---+------------------+\n",
            "|          City|State|Country| id|          pagerank|\n",
            "+--------------+-----+-------+---+------------------+\n",
            "|       Atlanta|   GA|    USA|ATL| 27.56698537736015|\n",
            "|        Dallas|   TX|    USA|DFW|19.920443138775934|\n",
            "|       Chicago|   IL|    USA|ORD|19.520004862975792|\n",
            "|        Denver|   CO|    USA|DEN|14.480081708686479|\n",
            "|   Los Angeles|   CA|    USA|LAX|13.348042929307379|\n",
            "|       Houston|   TX|    USA|IAH|11.684904182067894|\n",
            "| San Francisco|   CA|    USA|SFO|10.536220246352993|\n",
            "|       Phoenix|   AZ|    USA|PHX|  9.94331232433538|\n",
            "|Salt Lake City|   UT|    USA|SLC| 8.790784923145996|\n",
            "|     Las Vegas|   NV|    USA|LAS|  8.08821931674483|\n",
            "|       Seattle|   WA|    USA|SEA| 7.075432687383829|\n",
            "|       Orlando|   FL|    USA|MCO| 6.814624297060419|\n",
            "|     Charlotte|   NC|    USA|CLT| 6.810267338187121|\n",
            "|        Newark|   NJ|    USA|EWR| 6.742979168118522|\n",
            "|       Detroit|   MI|    USA|DTW| 6.452242478559098|\n",
            "|      New York|   NY|    USA|LGA| 6.445791806050212|\n",
            "|   Minneapolis|   MN|    USA|MSP| 6.421260136212866|\n",
            "|        Boston|   MA|    USA|BOS| 5.963289401836877|\n",
            "|     Baltimore|   MD|    USA|BWI| 5.433166893471824|\n",
            "|      New York|   NY|    USA|JFK| 5.403757640349041|\n",
            "+--------------+-----+-------+---+------------------+\n",
            "only showing top 20 rows\n",
            "\n"
          ]
        }
      ]
    },
    {
      "cell_type": "markdown",
      "id": "fe1e7648",
      "metadata": {
        "id": "fe1e7648"
      },
      "source": [
        "## Determine the most popular flights (single city hops)"
      ]
    },
    {
      "cell_type": "code",
      "execution_count": 27,
      "id": "da4b3306",
      "metadata": {
        "id": "da4b3306",
        "colab": {
          "base_uri": "https://localhost:8080/"
        },
        "outputId": "5ffcd7a6-136c-4449-c3ff-cd4a8b640e59"
      },
      "outputs": [
        {
          "output_type": "stream",
          "name": "stdout",
          "text": [
            "+---+---+-----+\n",
            "|src|dst|trips|\n",
            "+---+---+-----+\n",
            "|ATL|GSP|  507|\n",
            "|BQN|MCO|   90|\n",
            "|CLE|SJU|   21|\n",
            "|DSM|EWR|   71|\n",
            "|EWR|STT|   98|\n",
            "|FSD|ATL|   89|\n",
            "|LAS|LIT|   90|\n",
            "|LBB|DEN|  175|\n",
            "|MCI|IAH|  576|\n",
            "|MCI|MKE|  155|\n",
            "|MDW|MEM|  173|\n",
            "|ORD|PDX|  544|\n",
            "|PBI|DCA|  148|\n",
            "|PHL|MCO| 1208|\n",
            "|ROC|CLE|   24|\n",
            "|SJC|LIH|   52|\n",
            "|SMF|BUR|  571|\n",
            "|SNA|PHX| 1023|\n",
            "|HRL|BRO|    1|\n",
            "|AUS|ELP|  195|\n",
            "+---+---+-----+\n",
            "only showing top 20 rows\n",
            "\n"
          ]
        }
      ],
      "source": [
        "popularTrips = airportGraph.edges.groupBy(\"src\", \"dst\").agg(count(\"delay\").alias(\"trips\"))\n",
        "popularTrips.show()"
      ]
    },
    {
      "cell_type": "markdown",
      "id": "8ebb5e18",
      "metadata": {
        "id": "8ebb5e18"
      },
      "source": [
        "### Find and Save a Subragph that obtained from the following pattern:\n",
        "#### The flight starts from an airport and return back to the same airport through 2 other airports."
      ]
    },
    {
      "cell_type": "markdown",
      "source": [
        "## I spent so much time to run it so  I exectuted the runtime"
      ],
      "metadata": {
        "id": "NBkeDy1Un84s"
      },
      "id": "NBkeDy1Un84s"
    },
    {
      "cell_type": "code",
      "execution_count": null,
      "id": "00361946",
      "metadata": {
        "id": "00361946"
      },
      "outputs": [],
      "source": [
        "airportGraph.find(\"\"\"(v1)-[ti]->(v2); \n",
        "                (v2)-[t2]->(v3);\n",
        "                (v3)-[t3] ->(v1)\"\"\").show()"
      ]
    },
    {
      "cell_type": "code",
      "source": [
        ""
      ],
      "metadata": {
        "id": "fQULEi7zmNr4"
      },
      "id": "fQULEi7zmNr4",
      "execution_count": null,
      "outputs": []
    }
  ],
  "metadata": {
    "kernelspec": {
      "display_name": "Python 3 (ipykernel)",
      "language": "python",
      "name": "python3"
    },
    "language_info": {
      "codemirror_mode": {
        "name": "ipython",
        "version": 3
      },
      "file_extension": ".py",
      "mimetype": "text/x-python",
      "name": "python",
      "nbconvert_exporter": "python",
      "pygments_lexer": "ipython3",
      "version": "3.10.4"
    },
    "colab": {
      "name": "GraphFrams_P.S._Student.ipynb",
      "provenance": [],
      "collapsed_sections": []
    }
  },
  "nbformat": 4,
  "nbformat_minor": 5
}